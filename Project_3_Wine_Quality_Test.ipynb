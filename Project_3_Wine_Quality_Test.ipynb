{
  "nbformat": 4,
  "nbformat_minor": 0,
  "metadata": {
    "colab": {
      "name": "Project 3: Wine Quality Test",
      "provenance": [],
      "include_colab_link": true
    },
    "kernelspec": {
      "name": "python3",
      "display_name": "Python 3"
    }
  },
  "cells": [
    {
      "cell_type": "markdown",
      "metadata": {
        "id": "view-in-github",
        "colab_type": "text"
      },
      "source": [
        "<a href=\"https://colab.research.google.com/github/YinhaoHe/Python-AI-teaching/blob/master/Project_3_Wine_Quality_Test.ipynb\" target=\"_parent\"><img src=\"https://colab.research.google.com/assets/colab-badge.svg\" alt=\"Open In Colab\"/></a>"
      ]
    },
    {
      "cell_type": "code",
      "metadata": {
        "id": "8k7heYxC5-HX",
        "colab_type": "code",
        "colab": {}
      },
      "source": [
        "!mkdir .kaggle\n",
        "!mkdir ~/.kaggle"
      ],
      "execution_count": null,
      "outputs": []
    },
    {
      "cell_type": "code",
      "metadata": {
        "id": "owT6P1qwtmpx",
        "colab_type": "code",
        "colab": {}
      },
      "source": [
        "import os\n",
        "import json\n",
        "\n",
        "\n",
        "token = {\"username\":\"bdonluong\",\"key\":\"2be056ae0f5d8fb59ca80f56310a5d69\"}\n",
        "with open('/content/.kaggle/kaggle.json', 'w') as file:\n",
        "    json.dump(token, file)\n",
        "    \n",
        "!cp /content/.kaggle/kaggle.json ~/.kaggle/kaggle.json\n",
        "!kaggle config set -n path -v{/content}\n",
        "!chmod 600 /root/.kaggle/kaggle.json\n",
        "\n"
      ],
      "execution_count": null,
      "outputs": []
    },
    {
      "cell_type": "code",
      "metadata": {
        "id": "uZSWZ7Zu81Km",
        "colab_type": "code",
        "colab": {}
      },
      "source": [
        "!kaggle datasets download -d uciml/red-wine-quality-cortez-et-al-2009 -p /content/datasets/kaggle-wine\n",
        "%cd datasets/kaggle-wine/"
      ],
      "execution_count": null,
      "outputs": []
    },
    {
      "cell_type": "code",
      "metadata": {
        "id": "4b2KKIVV_UNG",
        "colab_type": "code",
        "colab": {}
      },
      "source": [
        "!unzip \\*zip"
      ],
      "execution_count": null,
      "outputs": []
    },
    {
      "cell_type": "code",
      "metadata": {
        "id": "Q8Iv3Wvq5sxT",
        "colab_type": "code",
        "colab": {}
      },
      "source": [
        "dsroot = os.getcwd()\n",
        "os.listdir(dsroot)"
      ],
      "execution_count": null,
      "outputs": []
    },
    {
      "cell_type": "code",
      "metadata": {
        "id": "GzMX2TN6A5O1",
        "colab_type": "code",
        "colab": {}
      },
      "source": [
        "import pandas as pd\n",
        "import numpy as np\n",
        "\n",
        "pd.set_option('display.expand_frame_repr', False)\n",
        "\n",
        "df = pd.read_csv(os.path.join(dsroot, \"winequality-red.csv\"))\n"
      ],
      "execution_count": null,
      "outputs": []
    },
    {
      "cell_type": "markdown",
      "metadata": {
        "id": "cH58BAzQDSsw",
        "colab_type": "text"
      },
      "source": [
        "Print the dataframe. Describe the dataset"
      ]
    },
    {
      "cell_type": "markdown",
      "metadata": {
        "id": "_sBH_98bFsy7",
        "colab_type": "text"
      },
      "source": [
        "**Data Processing**"
      ]
    },
    {
      "cell_type": "markdown",
      "metadata": {
        "id": "RSI4sagxC7Nd",
        "colab_type": "text"
      },
      "source": [
        "Replace the quality column with a column named \"pass\".\n",
        "If the quality is >= 7 then the wine passes, otherwise it fails."
      ]
    },
    {
      "cell_type": "code",
      "metadata": {
        "id": "KIylmX8YCxiA",
        "colab_type": "code",
        "colab": {}
      },
      "source": [
        ""
      ],
      "execution_count": null,
      "outputs": []
    },
    {
      "cell_type": "markdown",
      "metadata": {
        "id": "QhtmGAD2E7wJ",
        "colab_type": "text"
      },
      "source": [
        "Check if there are any missing values (NaN or 0's that dont make sense). If there are remove them.\n"
      ]
    },
    {
      "cell_type": "code",
      "metadata": {
        "id": "ZkrTwjfWFeKi",
        "colab_type": "code",
        "colab": {}
      },
      "source": [
        ""
      ],
      "execution_count": null,
      "outputs": []
    },
    {
      "cell_type": "markdown",
      "metadata": {
        "id": "-tSKrPjKFnFq",
        "colab_type": "text"
      },
      "source": [
        "**Data Standardization**\n",
        "Look at your code from yesterday. I want you to standardize this data in the same way."
      ]
    },
    {
      "cell_type": "code",
      "metadata": {
        "id": "AR-leNrSF8Tz",
        "colab_type": "code",
        "colab": {}
      },
      "source": [
        ""
      ],
      "execution_count": null,
      "outputs": []
    },
    {
      "cell_type": "markdown",
      "metadata": {
        "id": "Ks75n8a2GXtN",
        "colab_type": "text"
      },
      "source": [
        "![alt text](https://)**Spliting the Data:** Also same as yesterday"
      ]
    },
    {
      "cell_type": "code",
      "metadata": {
        "id": "FRr0YHtMGkQX",
        "colab_type": "code",
        "colab": {}
      },
      "source": [
        ""
      ],
      "execution_count": null,
      "outputs": []
    },
    {
      "cell_type": "code",
      "metadata": {
        "id": "7obuxFtjGXRP",
        "colab_type": "code",
        "colab": {}
      },
      "source": [
        ""
      ],
      "execution_count": null,
      "outputs": []
    },
    {
      "cell_type": "markdown",
      "metadata": {
        "id": "bcmpjVMgGp2y",
        "colab_type": "text"
      },
      "source": [
        "**`Build the model`**.<br>\n",
        " Play around with the hidden layers. Observe how your results change. Try changing the number of the nodes, or even add more layers."
      ]
    },
    {
      "cell_type": "code",
      "metadata": {
        "id": "QIC7Kr4HGn1O",
        "colab_type": "code",
        "colab": {}
      },
      "source": [
        ""
      ],
      "execution_count": null,
      "outputs": []
    },
    {
      "cell_type": "code",
      "metadata": {
        "id": "fDfl-7H-Jmu8",
        "colab_type": "code",
        "colab": {}
      },
      "source": [
        ""
      ],
      "execution_count": null,
      "outputs": []
    },
    {
      "cell_type": "markdown",
      "metadata": {
        "id": "501OMJhRHWcG",
        "colab_type": "text"
      },
      "source": [
        "**Compile the Model**. Same as yesterday"
      ]
    },
    {
      "cell_type": "code",
      "metadata": {
        "id": "XM4KqNK7HVwr",
        "colab_type": "code",
        "colab": {}
      },
      "source": [
        ""
      ],
      "execution_count": null,
      "outputs": []
    },
    {
      "cell_type": "markdown",
      "metadata": {
        "id": "KZWxbjDdHeuq",
        "colab_type": "text"
      },
      "source": [
        "**Train the Model**"
      ]
    },
    {
      "cell_type": "code",
      "metadata": {
        "id": "DOgKADSsHiwg",
        "colab_type": "code",
        "colab": {}
      },
      "source": [
        ""
      ],
      "execution_count": null,
      "outputs": []
    },
    {
      "cell_type": "markdown",
      "metadata": {
        "id": "cTac7PyVHqV_",
        "colab_type": "text"
      },
      "source": [
        "**Test Accuracy**"
      ]
    },
    {
      "cell_type": "markdown",
      "metadata": {
        "id": "ZqTPjBrpMgjt",
        "colab_type": "text"
      },
      "source": [
        "Remember: <br>\n",
        "Training set is used for training <br>\n",
        "Validation set is used to tune the model's parameters, evaluating performance while adjusting the model's layers/nodes. <br>\n",
        "Test set is used to give an unbiased evaluation of the finalized model."
      ]
    },
    {
      "cell_type": "code",
      "metadata": {
        "id": "VQY5b9BONq7a",
        "colab_type": "code",
        "colab": {}
      },
      "source": [
        " "
      ],
      "execution_count": null,
      "outputs": []
    },
    {
      "cell_type": "code",
      "metadata": {
        "id": "C-kPtgaSOEy9",
        "colab_type": "code",
        "colab": {}
      },
      "source": [
        ""
      ],
      "execution_count": null,
      "outputs": []
    }
  ]
}