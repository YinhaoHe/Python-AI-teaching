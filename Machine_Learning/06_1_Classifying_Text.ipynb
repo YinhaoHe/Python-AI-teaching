{
  "nbformat": 4,
  "nbformat_minor": 0,
  "metadata": {
    "colab": {
      "name": "Classifying Text.ipynb",
      "provenance": [],
      "collapsed_sections": [],
      "authorship_tag": "ABX9TyPpSS3lvTQaEwP4OP+ko0Ua",
      "include_colab_link": true
    },
    "kernelspec": {
      "name": "python3",
      "display_name": "Python 3"
    }
  },
  "cells": [
    {
      "cell_type": "markdown",
      "metadata": {
        "id": "view-in-github",
        "colab_type": "text"
      },
      "source": [
        "<a href=\"https://colab.research.google.com/github/YinhaoHe/Python-AI-teaching/blob/master/Classifying_Text.ipynb\" target=\"_parent\"><img src=\"https://colab.research.google.com/assets/colab-badge.svg\" alt=\"Open In Colab\"/></a>"
      ]
    },
    {
      "cell_type": "markdown",
      "metadata": {
        "id": "x4jERE6jLOpj",
        "colab_type": "text"
      },
      "source": [
        "One popular machine learning example is classifying text. We will use a data set to train a model of Gaussian naive Bayes classifier that will be able to identify the topic of any text."
      ]
    },
    {
      "cell_type": "markdown",
      "metadata": {
        "id": "Yw5YzdTDLeGv",
        "colab_type": "text"
      },
      "source": [
        "We start by downloading the data set provided by the Scikit-Learn library. "
      ]
    },
    {
      "cell_type": "code",
      "metadata": {
        "id": "ZZfNVyulLfzr",
        "colab_type": "code",
        "colab": {
          "base_uri": "https://localhost:8080/",
          "height": 357
        },
        "outputId": "6287179c-76eb-4bb7-d665-af3edfeac2d9"
      },
      "source": [
        "from sklearn.datasets import fetch_20newsgroups\n",
        "\n",
        "data = fetch_20newsgroups()\n",
        "data.target_names"
      ],
      "execution_count": 16,
      "outputs": [
        {
          "output_type": "execute_result",
          "data": {
            "text/plain": [
              "['alt.atheism',\n",
              " 'comp.graphics',\n",
              " 'comp.os.ms-windows.misc',\n",
              " 'comp.sys.ibm.pc.hardware',\n",
              " 'comp.sys.mac.hardware',\n",
              " 'comp.windows.x',\n",
              " 'misc.forsale',\n",
              " 'rec.autos',\n",
              " 'rec.motorcycles',\n",
              " 'rec.sport.baseball',\n",
              " 'rec.sport.hockey',\n",
              " 'sci.crypt',\n",
              " 'sci.electronics',\n",
              " 'sci.med',\n",
              " 'sci.space',\n",
              " 'soc.religion.christian',\n",
              " 'talk.politics.guns',\n",
              " 'talk.politics.mideast',\n",
              " 'talk.politics.misc',\n",
              " 'talk.religion.misc']"
            ]
          },
          "metadata": {
            "tags": []
          },
          "execution_count": 16
        }
      ]
    },
    {
      "cell_type": "markdown",
      "metadata": {
        "id": "SkdvRXtHLysk",
        "colab_type": "text"
      },
      "source": [
        "For simplicity here, we will select just a few of these categories, and download the training and testing set:"
      ]
    },
    {
      "cell_type": "code",
      "metadata": {
        "id": "FkooIjdAL2NP",
        "colab_type": "code",
        "colab": {
          "base_uri": "https://localhost:8080/",
          "height": 323
        },
        "outputId": "d4902894-73ab-47ce-d932-17788d36b4a5"
      },
      "source": [
        "categories = ['talk.religion.misc', 'soc.religion.christian', 'sci.space', 'comp.graphics']\n",
        "\n",
        "train = fetch_20newsgroups(subset = 'train', categories=categories)\n",
        "test = fetch_20newsgroups(subset='test', categories=categories)\n",
        "\n",
        "print(train.data[5])"
      ],
      "execution_count": 24,
      "outputs": [
        {
          "output_type": "stream",
          "text": [
            "From: dmcgee@uluhe.soest.hawaii.edu (Don McGee)\n",
            "Subject: Federal Hearing\n",
            "Originator: dmcgee@uluhe\n",
            "Organization: School of Ocean and Earth Science and Technology\n",
            "Distribution: usa\n",
            "Lines: 10\n",
            "\n",
            "\n",
            "Fact or rumor....?  Madalyn Murray O'Hare an atheist who eliminated the\n",
            "use of the bible reading and prayer in public schools 15 years ago is now\n",
            "going to appear before the FCC with a petition to stop the reading of the\n",
            "Gospel on the airways of America.  And she is also campaigning to remove\n",
            "Christmas programs, songs, etc from the public schools.  If it is true\n",
            "then mail to Federal Communications Commission 1919 H Street Washington DC\n",
            "20054 expressing your opposition to her request.  Reference Petition number\n",
            "\n",
            "2493.\n",
            "\n"
          ],
          "name": "stdout"
        }
      ]
    },
    {
      "cell_type": "markdown",
      "metadata": {
        "id": "x7iEOFcoMidv",
        "colab_type": "text"
      },
      "source": [
        "In order to use this data for machine learning, we need to be able to convert the content of each string into a vector of numbers (each unique string will create a unique vector of numbers). For this we will use the **TF-IDF vectorizer**.\n",
        "\n"
      ]
    },
    {
      "cell_type": "code",
      "metadata": {
        "id": "c81SVKlbMorW",
        "colab_type": "code",
        "colab": {}
      },
      "source": [
        "from sklearn.feature_extraction.text import TfidfVectorizer\n",
        "from sklearn.naive_bayes import MultinomialNB\n",
        "from sklearn.pipeline import make_pipeline\n",
        "\n",
        "model = make_pipeline(TfidfVectorizer(), MultinomialNB())"
      ],
      "execution_count": 18,
      "outputs": []
    },
    {
      "cell_type": "markdown",
      "metadata": {
        "id": "7x7ldAMhNMw3",
        "colab_type": "text"
      },
      "source": [
        "We start by attaching **Vectorizer** and the **Multinomial Naive Bayes** model to the pipeline model. The purpose of the pipeline is to assemble several steps that can be cross-validated together while setting different parameters."
      ]
    },
    {
      "cell_type": "markdown",
      "metadata": {
        "id": "GydkSC1YNUjp",
        "colab_type": "text"
      },
      "source": [
        "Then we fit our data to the model and add labels."
      ]
    },
    {
      "cell_type": "code",
      "metadata": {
        "id": "ekn6fBY5NZxC",
        "colab_type": "code",
        "colab": {}
      },
      "source": [
        "model.fit(train.data, train.target)\n",
        "labels = model.predict(test.data)"
      ],
      "execution_count": 19,
      "outputs": []
    },
    {
      "cell_type": "markdown",
      "metadata": {
        "id": "70ZYYKrPNj2n",
        "colab_type": "text"
      },
      "source": [
        "To make the process of prediction easier, we will write a function to predict the category that the line of text belongs to. "
      ]
    },
    {
      "cell_type": "code",
      "metadata": {
        "id": "sl-EHPoVNmxk",
        "colab_type": "code",
        "colab": {}
      },
      "source": [
        "def predict_category(s, train = train, model = model):\n",
        "  pred = model.predict([s])\n",
        "  return train.target_names[pred[0]]"
      ],
      "execution_count": 20,
      "outputs": []
    },
    {
      "cell_type": "markdown",
      "metadata": {
        "id": "kisjOGUZN3xT",
        "colab_type": "text"
      },
      "source": [
        "Let's test our model.\n",
        "\n",
        "\n"
      ]
    },
    {
      "cell_type": "code",
      "metadata": {
        "id": "BoGMI0wqN7I-",
        "colab_type": "code",
        "colab": {
          "base_uri": "https://localhost:8080/",
          "height": 35
        },
        "outputId": "14a42ee6-f96d-449c-e641-95fd5dca2137"
      },
      "source": [
        "predict_category('sending a payload to the ISS')"
      ],
      "execution_count": 21,
      "outputs": [
        {
          "output_type": "execute_result",
          "data": {
            "application/vnd.google.colaboratory.intrinsic": {
              "type": "string"
            },
            "text/plain": [
              "'sci.space'"
            ]
          },
          "metadata": {
            "tags": []
          },
          "execution_count": 21
        }
      ]
    },
    {
      "cell_type": "code",
      "metadata": {
        "id": "WP5BexWHOBPO",
        "colab_type": "code",
        "colab": {
          "base_uri": "https://localhost:8080/",
          "height": 35
        },
        "outputId": "e081f95d-1bc1-4bcf-d9fc-aa046fd2da0c"
      },
      "source": [
        "predict_category('discussing islam vs atheism')"
      ],
      "execution_count": 22,
      "outputs": [
        {
          "output_type": "execute_result",
          "data": {
            "application/vnd.google.colaboratory.intrinsic": {
              "type": "string"
            },
            "text/plain": [
              "'alt.atheism'"
            ]
          },
          "metadata": {
            "tags": []
          },
          "execution_count": 22
        }
      ]
    },
    {
      "cell_type": "code",
      "metadata": {
        "id": "6PVMLdxxOGw-",
        "colab_type": "code",
        "colab": {
          "base_uri": "https://localhost:8080/",
          "height": 35
        },
        "outputId": "cde3970e-8be6-4e27-9792-af695c0c1e4f"
      },
      "source": [
        "predict_category('determining the screen resolution')"
      ],
      "execution_count": 23,
      "outputs": [
        {
          "output_type": "execute_result",
          "data": {
            "application/vnd.google.colaboratory.intrinsic": {
              "type": "string"
            },
            "text/plain": [
              "'comp.graphics'"
            ]
          },
          "metadata": {
            "tags": []
          },
          "execution_count": 23
        }
      ]
    },
    {
      "cell_type": "markdown",
      "metadata": {
        "id": "Rm3yBjKiOL-1",
        "colab_type": "text"
      },
      "source": [
        "Our model can now predict the topics based on the text that is provided."
      ]
    },
    {
      "cell_type": "markdown",
      "metadata": {
        "id": "v9CKmEIWOr7W",
        "colab_type": "text"
      },
      "source": [
        ""
      ]
    }
  ]
}