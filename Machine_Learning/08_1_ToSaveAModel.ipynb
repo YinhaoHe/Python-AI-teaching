{
  "nbformat": 4,
  "nbformat_minor": 0,
  "metadata": {
    "colab": {
      "name": "ToSaveAModel.ipynb",
      "provenance": [],
      "authorship_tag": "ABX9TyOittyObZ/Zw1+Ow4QhYZ0S",
      "include_colab_link": true
    },
    "kernelspec": {
      "name": "python3",
      "display_name": "Python 3"
    }
  },
  "cells": [
    {
      "cell_type": "markdown",
      "metadata": {
        "id": "view-in-github",
        "colab_type": "text"
      },
      "source": [
        "<a href=\"https://colab.research.google.com/github/YinhaoHe/Python-AI-teaching/blob/master/ToSaveAModel.ipynb\" target=\"_parent\"><img src=\"https://colab.research.google.com/assets/colab-badge.svg\" alt=\"Open In Colab\"/></a>"
      ]
    },
    {
      "cell_type": "markdown",
      "metadata": {
        "id": "6dtMSN-Wv6hA",
        "colab_type": "text"
      },
      "source": [
        "**Saving and testing model**"
      ]
    },
    {
      "cell_type": "markdown",
      "metadata": {
        "id": "wngoSKGzwHYJ",
        "colab_type": "text"
      },
      "source": [
        "**This is not able to run.** Just a note for you as a reference"
      ]
    },
    {
      "cell_type": "markdown",
      "metadata": {
        "id": "xVrlPepqv8TS",
        "colab_type": "text"
      },
      "source": [
        "saving the model"
      ]
    },
    {
      "cell_type": "code",
      "metadata": {
        "id": "MJj4Snmcv9hV",
        "colab_type": "code",
        "colab": {}
      },
      "source": [
        "#saving the model \n",
        "# .h5 or .model can be used \n",
        "\n",
        "model.save('epic_num_reader.h5') \n"
      ],
      "execution_count": null,
      "outputs": []
    },
    {
      "cell_type": "markdown",
      "metadata": {
        "id": "SQJZwhNQv_F6",
        "colab_type": "text"
      },
      "source": [
        "loading the saved model"
      ]
    },
    {
      "cell_type": "code",
      "metadata": {
        "id": "Jf3F6JRgwA7d",
        "colab_type": "code",
        "colab": {}
      },
      "source": [
        "new_model = tf.keras.models.load_model('epic_num_reader.h5') \n"
      ],
      "execution_count": null,
      "outputs": []
    },
    {
      "cell_type": "markdown",
      "metadata": {
        "id": "WfaW1xe3wBzp",
        "colab_type": "text"
      },
      "source": [
        "prediction using new model"
      ]
    },
    {
      "cell_type": "code",
      "metadata": {
        "id": "fIHpWKXIwC_V",
        "colab_type": "code",
        "colab": {}
      },
      "source": [
        "predictions=new_model.predict([x_test]) \n",
        "\n",
        "\n",
        "print('lable -> ',y_test[2]) \n",
        "print('prediction -> ',np.argmax(predictions[2])) \n",
        "\n",
        "draw(x_test[2]) \n"
      ],
      "execution_count": null,
      "outputs": []
    }
  ]
}