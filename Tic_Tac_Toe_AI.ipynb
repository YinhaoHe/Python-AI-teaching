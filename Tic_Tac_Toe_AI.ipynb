{
  "nbformat": 4,
  "nbformat_minor": 0,
  "metadata": {
    "colab": {
      "name": "Tic Tac Toe AI",
      "provenance": [],
      "include_colab_link": true
    },
    "kernelspec": {
      "name": "python3",
      "display_name": "Python 3"
    }
  },
  "cells": [
    {
      "cell_type": "markdown",
      "metadata": {
        "id": "view-in-github",
        "colab_type": "text"
      },
      "source": [
        "<a href=\"https://colab.research.google.com/github/YinhaoHe/Python-AI-teaching/blob/master/Tic_Tac_Toe_AI.ipynb\" target=\"_parent\"><img src=\"https://colab.research.google.com/assets/colab-badge.svg\" alt=\"Open In Colab\"/></a>"
      ]
    },
    {
      "cell_type": "code",
      "metadata": {
        "id": "mqxYnhx7xgrp",
        "colab_type": "code",
        "colab": {}
      },
      "source": [
        "from IPython.display import clear_output\n",
        "\n",
        "def printBoard():\n",
        "  print(\"    a b c \")\n",
        "  print('    _ _ _')\n",
        "  print('1: |{}|{}|{}|'.format(labels[board[0][0]], labels[board[1][0]],labels[board[2][0]]))\n",
        "  print('    _ _ _')\n",
        "  print('2: |{}|{}|{}|'.format(labels[board[0][1]], labels[board[1][1]],labels[board[2][1]]))\n",
        "  print('    _ _ _')\n",
        "  print('3: |{}|{}|{}|'.format(labels[board[0][2]], labels[board[1][2]],labels[board[2][2]]))\n",
        "  print('    _ _ _')\n",
        "\n",
        "\n",
        "def makeTurn(move):\n",
        "  if \"a\" in move:\n",
        "    x = 0\n",
        "  elif \"b\" in move:\n",
        "    x = 1\n",
        "  else:\n",
        "    x = 2\n",
        "  if \"1\" in move:\n",
        "    y = 0\n",
        "  elif \"2\" in move:\n",
        "    y = 1\n",
        "  else:\n",
        "    y = 2\n",
        "  if (x > 2 or y > 2 or x < 0 or y <0):\n",
        "    print(\"Invalid Coordinates\")\n",
        "    return -1\n",
        "  if (board[x][y] == 0):\n",
        "    board[x][y] = turn\n",
        "    return 1\n",
        "  else:\n",
        "    print(\"This space is already taken.\")\n",
        "    return -1\n",
        "    \n",
        "def check_for_win():\n",
        "  if ((board[0][0] == board [1][0] and board[0][0] == board[2][0] and board[0][0] != 0) or\n",
        "      (board[0][1] == board [1][1] and board[0][1] == board[2][1] and board[0][1] != 0) or\n",
        "      (board[0][2] == board [1][2] and board[0][2] == board[2][2] and board[0][2] != 0) or\n",
        "      (board[0][0] == board [0][1] and board[0][0] == board[0][2] and board[0][0] != 0) or\n",
        "      (board[1][0] == board [1][1] and board[1][0] == board[1][2] and board[1][0] != 0) or\n",
        "      (board[2][0] == board [2][1] and board[2][0] == board[2][2] and board[2][0] != 0) or\n",
        "      (board[2][0] == board [1][1] and board[2][0] == board[0][2] and board[2][0] != 0) or\n",
        "      (board[0][0] == board [1][1] and board[0][0] == board[2][2] and board[0][0] != 0)\n",
        "     ):\n",
        "    return turn\n",
        "  return 0\n",
        "    "
      ],
      "execution_count": 1,
      "outputs": []
    },
    {
      "cell_type": "code",
      "metadata": {
        "id": "oJO_-Ljn6n4J",
        "colab_type": "code",
        "colab": {}
      },
      "source": [
        ""
      ],
      "execution_count": null,
      "outputs": []
    },
    {
      "cell_type": "code",
      "metadata": {
        "id": "ID1JKTvt069x",
        "colab_type": "code",
        "colab": {
          "base_uri": "https://localhost:8080/",
          "height": 733
        },
        "outputId": "9c09f34e-8fec-42c5-88a1-0d5df462d75e"
      },
      "source": [
        "board = [[0, 0, 0], [0, 0, 0], [0,0,0]]\n",
        "labels = [' ', 'o', 'x']\n",
        "turn = 1\n",
        "winner = 0\n",
        "x = 0\n",
        "y = 0\n",
        "\n",
        "turn_status = 1\n",
        "while winner == 0:\n",
        "  clear_output()\n",
        "  print(\"Player \" + str(turn) + \"'s Turn\")\n",
        "  printBoard()\n",
        "  while True:\n",
        "    move = input(\"Enter move: \")\n",
        "    turn_status = makeTurn(move)\n",
        "    if turn_status == 1:\n",
        "      break\n",
        "  winner = check_for_win()\n",
        "  if turn == 1:\n",
        "    turn = 2\n",
        "  elif turn == 2:\n",
        "    turn = 1\n",
        "  \n",
        "print(\"Player \" + str(winner) + \" has won\")"
      ],
      "execution_count": null,
      "outputs": [
        {
          "output_type": "stream",
          "text": [
            "Player 2's Turn\n",
            "    a b c \n",
            "    _ _ _\n",
            "1: | | |o|\n",
            "    _ _ _\n",
            "2: | | |x|\n",
            "    _ _ _\n",
            "3: | | |o|\n",
            "    _ _ _\n",
            "Enter move: 4\n",
            "This space is already taken.\n",
            "Enter move: 1\n",
            "This space is already taken.\n",
            "Enter move: 2\n",
            "This space is already taken.\n",
            "Enter move: 7\n",
            "This space is already taken.\n",
            "Enter move: 2\n",
            "This space is already taken.\n",
            "Enter move: 3\n",
            "This space is already taken.\n",
            "Enter move: 4\n",
            "This space is already taken.\n",
            "Enter move: 5\n",
            "This space is already taken.\n",
            "Enter move: 6\n",
            "This space is already taken.\n",
            "Enter move: 7\n",
            "This space is already taken.\n",
            "Enter move: 1,2\n",
            "This space is already taken.\n",
            "Enter move: 1\n",
            "This space is already taken.\n",
            "Enter move: 1\n",
            "This space is already taken.\n",
            "Enter move: 1\n",
            "This space is already taken.\n",
            "Enter move: 1231231\n",
            "This space is already taken.\n",
            "Enter move: 0\n",
            "This space is already taken.\n"
          ],
          "name": "stdout"
        }
      ]
    }
  ]
}