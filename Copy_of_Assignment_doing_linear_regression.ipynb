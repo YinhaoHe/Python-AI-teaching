{
  "nbformat": 4,
  "nbformat_minor": 0,
  "metadata": {
    "colab": {
      "name": "Copy of Assignment_doing_linear_regression.ipynb",
      "provenance": [],
      "collapsed_sections": [],
      "include_colab_link": true
    },
    "kernelspec": {
      "name": "python3",
      "display_name": "Python 3"
    }
  },
  "cells": [
    {
      "cell_type": "markdown",
      "metadata": {
        "id": "view-in-github",
        "colab_type": "text"
      },
      "source": [
        "<a href=\"https://colab.research.google.com/github/YinhaoHe/Python-AI-teaching/blob/master/Copy_of_Assignment_doing_linear_regression.ipynb\" target=\"_parent\"><img src=\"https://colab.research.google.com/assets/colab-badge.svg\" alt=\"Open In Colab\"/></a>"
      ]
    },
    {
      "cell_type": "markdown",
      "metadata": {
        "id": "K4i5n883p_Xf",
        "colab_type": "text"
      },
      "source": [
        "_Lambda School Data Science — Regression 2_\n",
        "\n",
        "# Doing Linear Regression\n",
        "\n",
        "### Objectives\n",
        "- acquire data for features\n",
        "- arrange data into X features matrix and y target vector\n",
        "- begin with baselines for regression\n",
        "- use scikit-learn for linear regression\n",
        "- use regression metric: MAE\n",
        "- do leave-one-out cross-validation\n",
        "\n",
        "### Contents\n",
        "1. Pre-reads\n",
        "2. Process\n",
        "3. Project"
      ]
    },
    {
      "cell_type": "markdown",
      "metadata": {
        "id": "i6O0KEmmQ7OM",
        "colab_type": "text"
      },
      "source": [
        "# Pre-reads\n",
        "\n",
        "#### [Jake VanderPlas, Python Data Science Handbook, Chapter 5.2, Introducing Scikit-Learn](https://jakevdp.github.io/PythonDataScienceHandbook/05.02-introducing-scikit-learn.html). \n",
        "\n",
        "Read up through “Supervised learning example: Simple linear regression”. You can stop when you get to “Supervised learning example: Iris classification.”\n",
        "\n",
        "#### [Nate Silver, What Do Economic Models Really Tell Us About Elections?](https://fivethirtyeight.com/features/what-do-economic-models-really-tell-us-about-elections/)\n",
        "\n",
        "Read the whole thing. We’ll make a model similar to the “Bread and Peace” model...\n",
        "\n",
        ">Perhaps the best-known of these models is the so-called “Bread and Peace” model designed by Douglas Hibbs of the University of Gothenberg. There are a lot of things to admire about this model. Most notably, it’s not larded down with superfluous variables. Instead, it is based on just two: growth in real, per-capita disposable income, and the number of military fatalities resulting from U.S.-initiated foreign conflicts.\n",
        "\n",
        "... and then you’ll make your own elections model, with two features of your choice."
      ]
    },
    {
      "cell_type": "markdown",
      "metadata": {
        "id": "EZ7Oh030150T",
        "colab_type": "text"
      },
      "source": [
        "# Process\n",
        "\n",
        "#### Renee Teate, [Becoming a Data Scientist, PyData DC 2016 Talk](https://www.becomingadatascientist.com/2016/10/11/pydata-dc-2016-talk/)\n",
        "\n",
        "![](https://image.slidesharecdn.com/becomingadatascientistadvice-pydatadc-shared-161012184823/95/becoming-a-data-scientist-advice-from-my-podcast-guests-55-638.jpg?cb=1476298295)\n"
      ]
    },
    {
      "cell_type": "markdown",
      "metadata": {
        "id": "IEZu7RSd0O3w",
        "colab_type": "text"
      },
      "source": [
        "## Business Question --> Data Question --> Data Answer (for Supervised Learning)\n",
        "\n",
        "#### Francois Chollet, [Deep Learning with Python](https://github.com/fchollet/deep-learning-with-python-notebooks/blob/master/README.md), Chapter 4: Fundamentals of machine learning, \"A universal workflow of machine learning\"\n",
        " \n",
        "> **1. Define the problem at hand and the data on which you’ll train.** Collect this data, or annotate it with labels if need be.\n",
        "\n",
        "> **2. Choose how you’ll measure success on your problem.** Which metrics will you monitor on your validation data?\n",
        "\n",
        "> **3. Determine your evaluation protocol:** hold-out validation? K-fold validation? Which portion of the data should you use for validation?\n",
        "\n",
        "> **4. Develop a first model that does better than a basic baseline:** a model with statistical power.\n",
        "\n",
        "> **5. Develop a model that overfits.** The universal tension in machine learning is between optimization and generalization; the ideal model is one that stands right at the border between underfitting and overfitting; between undercapacity and overcapacity. To figure out where this border lies, first you must cross it.\n",
        "\n",
        "> **6. Regularize your model and tune its hyperparameters, based on performance on the validation data.** Repeatedly modify your model, train it, evaluate on your validation data (not the test data, at this point), modify it again, and repeat, until the model is as good as it can get. \n",
        "\n",
        "> **Iterate on feature engineering: add new features, or remove features that don’t seem to be informative.** Once you’ve developed a satisfactory model configuration, you can train your final production model on all the available data (training and validation) and evaluate it one last time on the test set.\n"
      ]
    },
    {
      "cell_type": "markdown",
      "metadata": {
        "id": "kJhnVFGQRXS0",
        "colab_type": "text"
      },
      "source": [
        "## Define the data on which you'll train / Add new features or remove features\n",
        "\n",
        "#### Jake VanderPlas, [Python Data Science Handbook, Chapter 5.2, Introducing Scikit-Learn](https://jakevdp.github.io/PythonDataScienceHandbook/05.02-introducing-scikit-learn.html), Data Representation in Scikit-Learn\n",
        "\n",
        "> The best way to think about data within Scikit-Learn is in terms of tables of data.\n",
        "\n",
        "![](https://jakevdp.github.io/PythonDataScienceHandbook/figures/05.02-samples-features.png)\n",
        "\n",
        "> The samples (i.e., rows) always refer to the individual objects described by the dataset. For example, the sample might be a flower, a person, a document, an image, a sound file, a video, an astronomical object, or anything else you can describe with a set of quantitative measurements.\n",
        "\n",
        "> The features (i.e., columns) always refer to the distinct observations that describe each sample in a quantitative manner. \n",
        "\n",
        "> The information can be thought of as a two-dimensional numerical array or matrix, which we will call the _features matrix._ By convention, this features matrix is often stored in a variable named `X`. The features matrix is assumed to be two-dimensional, with shape `[n_samples, n_features]`, and is most often contained in a NumPy array or a Pandas `DataFrame`, though some Scikit-Learn models also accept SciPy sparse matrices.\n",
        "\n",
        "> In addition to the feature matrix `X`, we also generally work with a label or target array, which by convention we will usually call `y`. The target array is usually one dimensional, with length `n_samples`, and is generally contained in a NumPy array or Pandas `Series`. \n",
        "\n",
        "> Often one point of confusion is how the target array differs from the other features columns. The distinguishing feature of the target array is that it is usually the quantity we want to _predict from the data:_ in statistical terms, it is the dependent variable.\n",
        "\n",
        "#### Google Developers, [Machine Learning Glossary](https://developers.google.com/machine-learning/glossary/#l) \n",
        "\n",
        "> Each example in a labeled dataset consists of one or more features and a label. \n",
        "\n",
        "> For instance, in a housing dataset, the features might include the number of bedrooms, the number of bathrooms, and the age of the house, while the label might be the house's price. \n",
        "\n",
        "> In a spam detection dataset, the features might include the subject line, the sender, and the email message itself, while the label would probably be either \"spam\" or \"not spam.\"\n",
        "\n",
        "#### Wikipedia, [Feature Engineering](https://en.wikipedia.org/wiki/Feature_engineering)\n",
        "\n",
        "> \"Some machine learning projects succeed and some fail. What makes the difference? Easily the most important factor is the features used.\" — Pedro Domingos, [\"A Few Useful Things to Know about Machine Learning\"](https://homes.cs.washington.edu/~pedrod/papers/cacm12.pdf)\n",
        "\n",
        "> \"Coming up with features is difficult, time-consuming, requires expert knowledge. 'Applied machine learning' is basically feature engineering.\" — Andrew Ng, [Machine Learning and AI via Brain simulations](https://forum.stanford.edu/events/2011/2011slides/plenary/2011plenaryNg.pdf) \n",
        "\n",
        "> Feature engineering is the process of using domain knowledge of the data to create features that make machine learning algorithms work. "
      ]
    },
    {
      "cell_type": "markdown",
      "metadata": {
        "id": "lSZBdwNg1Vvj",
        "colab_type": "text"
      },
      "source": [
        "## Determine evaluation protocol\n",
        "\n",
        "#### Sebastian Raschka, [Model Evaluation]( https://sebastianraschka.com/blog/2018/model-evaluation-selection-part4.html)\n",
        "> <img src=\"https://sebastianraschka.com/images/blog/2018/model-evaluation-selection-part4/model-eval-conclusions.jpg\" width=\"600\">"
      ]
    },
    {
      "cell_type": "markdown",
      "metadata": {
        "id": "HFAHa5dD3BQt",
        "colab_type": "text"
      },
      "source": [
        "## Develop a first model that does better than a basic baseline\n",
        "\n",
        "### Why begin with baselines?\n",
        "\n",
        "[My mentor](https://www.linkedin.com/in/jason-sanchez-62093847/) [taught me](https://youtu.be/0GrciaGYzV0?t=40s):\n",
        "\n",
        ">***Your first goal should always, always, always be getting a generalized prediction as fast as possible.*** You shouldn't spend a lot of time trying to tune your model, trying to add features, trying to engineer features, until you've actually gotten one prediction, at least. \n",
        "\n",
        "> The reason why that's a really good thing is because then ***you'll set a benchmark*** for yourself, and you'll be able to directly see how much effort you put in translates to a better prediction. \n",
        "\n",
        "> What you'll find by working on many models: some effort you put in, actually has very little effect on how well your final model does at predicting new observations. Whereas some very easy changes actually have a lot of effect. And so you get better at allocating your time more effectively.\n",
        "\n",
        "My mentor's advice is echoed and elaborated in several sources:\n",
        "\n",
        "[Always start with a stupid model, no exceptions](https://blog.insightdatascience.com/always-start-with-a-stupid-model-no-exceptions-3a22314b9aaa)\n",
        "\n",
        "> Why start with a baseline? A baseline will take you less than 1/10th of the time, and could provide up to 90% of the results. A baseline puts a more complex model into context. Baselines are easy to deploy.\n",
        "\n",
        "[Measure Once, Cut Twice: Moving Towards Iteration in Data Science](https://blog.datarobot.com/measure-once-cut-twice-moving-towards-iteration-in-data-science)\n",
        "\n",
        "> The iterative approach in data science starts with emphasizing the importance of getting to a first model quickly, rather than starting with the variables and features. Once the first model is built, the work then steadily focuses on continual improvement.\n",
        "\n",
        "[*Data Science for Business*](https://books.google.com/books?id=4ZctAAAAQBAJ&pg=PT276), Chapter 7.3: Evaluation, Baseline Performance, and Implications for Investments in Data\n",
        "\n",
        "> *Consider carefully what would be a reasonable baseline against which to compare model performance.* This is important for the data science team in order to understand whether they indeed are improving performance, and is equally important for demonstrating to stakeholders that mining the data has added value.\n",
        "\n",
        "### What does baseline mean?\n",
        "\n",
        "Baseline is an overloaded term, as you can see in the links above. Baseline has multiple meanings:\n",
        "\n",
        "#### The score you'd get by guessing a single value\n",
        "\n",
        "> A baseline for classification can be the most common class in the training dataset.\n",
        "\n",
        "> A baseline for regression can be the mean of the training labels. —[Will Koehrsen](https://twitter.com/koehrsen_will/status/1088863527778111488)\n",
        "\n",
        "#### The score you'd get by guessing in a more granular way\n",
        "\n",
        "> A baseline for time-series regressions can be the value from the previous timestep.\n",
        "\n",
        "#### Fast, first models that beat guessing\n",
        "\n",
        "What my mentor was talking about.\n",
        "\n",
        "#### Complete, tuned \"simpler\" model\n",
        "\n",
        "Can be simpler mathematically and computationally. For example, Logistic Regression versus Deep Learning.\n",
        "\n",
        "Or can be simpler for the data scientist, with less work. For example, a model with less feature engineering versus a model with more feature engineering.\n",
        "\n",
        "#### Minimum performance that \"matters\"\n",
        "\n",
        "To go to production and get business value.\n",
        "\n",
        "#### Human-level performance \n",
        "\n",
        "Your goal may to be match, or nearly match, human performance, but with better speed, cost, or consistency.\n",
        "\n",
        "Or your goal may to be exceed human performance."
      ]
    },
    {
      "cell_type": "markdown",
      "metadata": {
        "id": "aOW2hsiDBIk9",
        "colab_type": "text"
      },
      "source": [
        "## Use scikit-learn to fit a model\n",
        "\n",
        "#### Jake VanderPlas, [Python Data Science Handbook, Chapter 5.2, Introducing Scikit-Learn](https://jakevdp.github.io/PythonDataScienceHandbook/05.02-introducing-scikit-learn.html), Scikit-Learn's Estimator API\n",
        "\n",
        "> Most commonly, the steps in using the Scikit-Learn estimator API are as follows (we will step through a handful of detailed examples in the sections that follow).\n",
        "\n",
        "> 1. Choose a class of model by importing the appropriate estimator class from Scikit-Learn. \n",
        "> 2. Choose model hyperparameters by instantiating this class with desired values. \n",
        "> 3. Arrange data into a features matrix and target vector following the discussion above.\n",
        "> 4. Fit the model to your data by calling the `fit()` method of the model instance.\n",
        "> 5. Apply the Model to new data: For supervised learning, often we predict labels for unknown data using the `predict()` method."
      ]
    },
    {
      "cell_type": "markdown",
      "metadata": {
        "id": "T1hPspa5mkWT",
        "colab_type": "text"
      },
      "source": [
        "# Project\n",
        "\n",
        "### Predict presidential election voting, doing linear regression with two features\n",
        "\n",
        "#### Douglas Hibbs, [Background Information on the ‘Bread and Peace’ Model of Voting in Postwar US Presidential Elections](https://douglas-hibbs.com/background-information-on-bread-and-peace-voting-in-us-presidential-elections/)\n",
        "\n",
        "> According to the ‘Bread and Peace’ model, postwar US presidential elections can for the most part be interpreted as a sequence of referendums on the incumbent party’s record during its four-year mandate period. \n",
        "\n",
        "> In fact aggregate two-party vote shares going to candidates of the party holding the presidency during the postwar era are well explained by just two fundamental determinants:\n",
        "\n",
        "> (1) Positively by weighted-average growth of per capita real disposable personal income over the term.\n",
        "\n",
        "> (2) Negatively by cumulative US military fatalities (scaled to population) owing to unprovoked, hostile deployments of American armed forces in foreign wars.\n",
        "\n",
        "![](https://douglas-hibbs.com/wp-content/uploads/2013/08/BP1v4c2.jpg)\n",
        "\n"
      ]
    },
    {
      "cell_type": "markdown",
      "metadata": {
        "id": "UbqeAzl9TK_y",
        "colab_type": "text"
      },
      "source": [
        "## Define the data on which you'll train"
      ]
    },
    {
      "cell_type": "markdown",
      "metadata": {
        "id": "E5Cl5iTHXwA7",
        "colab_type": "text"
      },
      "source": [
        "### Load data\n",
        "\n",
        "#### Sources\n",
        "- 1952-2012: Douglas Hibbs, [2014 lecture at Deakin University Melbourne](http://www.douglas-hibbs.com/HibbsArticles/HIBBS-PRESVOTE-SLIDES-MELBOURNE-Part1-2014-02-26.pdf), Slide 40\n",
        "- 2016, Vote Share: [The American Presidency Project](https://www.presidency.ucsb.edu/statistics/elections)\n",
        "- 2016, Recent Growth in Personal Incomes: [The 2016 election economy: the \"Bread and Peace\" model final forecast](https://angrybearblog.com/2016/11/the-2016-election-economy-the-bread-and-peace-model-final-forecast.html)\n",
        "- 2016, US Military Fatalities: Assumption that Afghanistan War fatalities in 2012-16 occured at the same rate as 2008-12\n"
      ]
    },
    {
      "cell_type": "code",
      "metadata": {
        "id": "qEeVFTa0VWDE",
        "colab_type": "code",
        "colab": {}
      },
      "source": [
        "import pandas as pd\n",
        "\n",
        "columns = ['Year','Incumbent Party Candidate','Other Candidate','Incumbent Party Vote Share']\n",
        "\n",
        "data = [[1952,\"Stevenson\",\"Eisenhower\",44.6],\n",
        "        [1956,\"Eisenhower\",\"Stevenson\",57.76],\n",
        "        [1960,\"Nixon\",\"Kennedy\",49.91],\n",
        "        [1964,\"Johnson\",\"Goldwater\",61.34],\n",
        "        [1968,\"Humphrey\",\"Nixon\",49.60],\n",
        "        [1972,\"Nixon\",\"McGovern\",61.79],\n",
        "        [1976,\"Ford\",\"Carter\",48.95],\n",
        "        [1980,\"Carter\",\"Reagan\",44.70],\n",
        "        [1984,\"Reagan\",\"Mondale\",59.17],\n",
        "        [1988,\"Bush, Sr.\",\"Dukakis\",53.94],\n",
        "        [1992,\"Bush, Sr.\",\"Clinton\",46.55],\n",
        "        [1996,\"Clinton\",\"Dole\",54.74],\n",
        "        [2000,\"Gore\",\"Bush, Jr.\",50.27],\n",
        "        [2004,\"Bush, Jr.\",\"Kerry\",51.24],\n",
        "        [2008,\"McCain\",\"Obama\",46.32],\n",
        "        [2012,\"Obama\",\"Romney\",52.00], \n",
        "        [2016,\"Clinton\",\"Trump\",48.2]]\n",
        "        \n",
        "votes = pd.DataFrame(data=data, columns=columns)"
      ],
      "execution_count": null,
      "outputs": []
    },
    {
      "cell_type": "code",
      "metadata": {
        "id": "yNKTk8bV7c7U",
        "colab_type": "code",
        "colab": {}
      },
      "source": [
        "columns = ['Year','Average Recent Growth in Personal Incomes']\n",
        "\n",
        "data = [[1952,2.40],\n",
        "        [1956,2.89],\n",
        "        [1960, .85],\n",
        "        [1964,4.21],\n",
        "        [1968,3.02],\n",
        "        [1972,3.62],\n",
        "        [1976,1.08],\n",
        "        [1980,-.39],\n",
        "        [1984,3.86],\n",
        "        [1988,2.27],\n",
        "        [1992, .38],\n",
        "        [1996,1.04],\n",
        "        [2000,2.36],\n",
        "        [2004,1.72],\n",
        "        [2008, .10],\n",
        "        [2012, .95], \n",
        "        [2016, .10]]\n",
        "        \n",
        "growth = pd.DataFrame(data=data, columns=columns)"
      ],
      "execution_count": null,
      "outputs": []
    },
    {
      "cell_type": "code",
      "metadata": {
        "id": "TxyoxOLQl7VX",
        "colab_type": "code",
        "colab": {}
      },
      "source": [
        "\"\"\"\n",
        "Fatalities denotes the cumulative number of American military\n",
        "fatalities per millions of US population the in Korea, Vietnam,\n",
        "Iraq and Afghanistan wars during the presidential terms\n",
        "preceding the 1952, 1964, 1968, 1976 and 2004, 2008 and\n",
        "2012 elections.\n",
        "\n",
        "http://www.douglas-hibbs.com/HibbsArticles/HIBBS-PRESVOTE-SLIDES-MELBOURNE-Part1-2014-02-26.pdf\n",
        "\"\"\"\n",
        "\n",
        "columns = ['Year','US Military Fatalities per Million']\n",
        "\n",
        "data = [[1952,190],\n",
        "        [1956,  0],\n",
        "        [1960,  0],\n",
        "        [1964,  1],\n",
        "        [1968,146],\n",
        "        [1972,  0],\n",
        "        [1976,  2],\n",
        "        [1980,  0],\n",
        "        [1984,  0],\n",
        "        [1988,  0],\n",
        "        [1992,  0],\n",
        "        [1996,  0],\n",
        "        [2000,  0],\n",
        "        [2004,  4],\n",
        "        [2008, 14],\n",
        "        [2012,  5], \n",
        "        [2016,  5]]\n",
        "        \n",
        "deaths = pd.DataFrame(data=data, columns=columns)"
      ],
      "execution_count": null,
      "outputs": []
    },
    {
      "cell_type": "markdown",
      "metadata": {
        "id": "CXirDjeR73Bm",
        "colab_type": "text"
      },
      "source": [
        "### Merge data"
      ]
    },
    {
      "cell_type": "code",
      "metadata": {
        "id": "8TWFDN_QZ_DM",
        "colab_type": "code",
        "colab": {
          "base_uri": "https://localhost:8080/",
          "height": 34
        },
        "outputId": "b5899e39-7b67-42a7-8e3e-47546752bbc5"
      },
      "source": [
        "votes.shape, growth.shape, deaths.shape"
      ],
      "execution_count": null,
      "outputs": [
        {
          "output_type": "execute_result",
          "data": {
            "text/plain": [
              "((17, 4), (17, 2), (17, 2))"
            ]
          },
          "metadata": {
            "tags": []
          },
          "execution_count": 111
        }
      ]
    },
    {
      "cell_type": "code",
      "metadata": {
        "id": "xTTmNqqLfSJi",
        "colab_type": "code",
        "colab": {
          "base_uri": "https://localhost:8080/",
          "height": 121
        },
        "outputId": "90abe797-fdb4-4b0d-af1c-b44a03428bbd"
      },
      "source": [
        "votes.columns, growth.columns, deaths.columns"
      ],
      "execution_count": null,
      "outputs": [
        {
          "output_type": "execute_result",
          "data": {
            "text/plain": [
              "(Index(['Year', 'Incumbent Party Candidate', 'Other Candidate',\n",
              "        'Incumbent Party Vote Share'],\n",
              "       dtype='object'),\n",
              " Index(['Year', 'Average Recent Growth in Personal Incomes'], dtype='object'),\n",
              " Index(['Year', 'US Military Fatalities per Million'], dtype='object'))"
            ]
          },
          "metadata": {
            "tags": []
          },
          "execution_count": 112
        }
      ]
    },
    {
      "cell_type": "code",
      "metadata": {
        "id": "JHGs2crTfZ43",
        "colab_type": "code",
        "colab": {
          "base_uri": "https://localhost:8080/",
          "height": 34
        },
        "outputId": "bf90702d-7b40-407c-93b8-1686fadf03f8"
      },
      "source": [
        "df = votes.merge(growth).merge(deaths)\n",
        "df.shape"
      ],
      "execution_count": null,
      "outputs": [
        {
          "output_type": "execute_result",
          "data": {
            "text/plain": [
              "(17, 6)"
            ]
          },
          "metadata": {
            "tags": []
          },
          "execution_count": 113
        }
      ]
    },
    {
      "cell_type": "code",
      "metadata": {
        "id": "MGzhihMGfp1p",
        "colab_type": "code",
        "colab": {
          "base_uri": "https://localhost:8080/",
          "height": 601
        },
        "outputId": "e03e141e-0c1c-4cc9-965e-c01cf8483a52"
      },
      "source": [
        "df"
      ],
      "execution_count": null,
      "outputs": [
        {
          "output_type": "execute_result",
          "data": {
            "text/html": [
              "<div>\n",
              "<style scoped>\n",
              "    .dataframe tbody tr th:only-of-type {\n",
              "        vertical-align: middle;\n",
              "    }\n",
              "\n",
              "    .dataframe tbody tr th {\n",
              "        vertical-align: top;\n",
              "    }\n",
              "\n",
              "    .dataframe thead th {\n",
              "        text-align: right;\n",
              "    }\n",
              "</style>\n",
              "<table border=\"1\" class=\"dataframe\">\n",
              "  <thead>\n",
              "    <tr style=\"text-align: right;\">\n",
              "      <th></th>\n",
              "      <th>Year</th>\n",
              "      <th>Incumbent Party Candidate</th>\n",
              "      <th>Other Candidate</th>\n",
              "      <th>Incumbent Party Vote Share</th>\n",
              "      <th>Average Recent Growth in Personal Incomes</th>\n",
              "      <th>US Military Fatalities per Million</th>\n",
              "    </tr>\n",
              "  </thead>\n",
              "  <tbody>\n",
              "    <tr>\n",
              "      <th>0</th>\n",
              "      <td>1952</td>\n",
              "      <td>Stevenson</td>\n",
              "      <td>Eisenhower</td>\n",
              "      <td>44.60</td>\n",
              "      <td>2.40</td>\n",
              "      <td>190</td>\n",
              "    </tr>\n",
              "    <tr>\n",
              "      <th>1</th>\n",
              "      <td>1956</td>\n",
              "      <td>Eisenhower</td>\n",
              "      <td>Stevenson</td>\n",
              "      <td>57.76</td>\n",
              "      <td>2.89</td>\n",
              "      <td>0</td>\n",
              "    </tr>\n",
              "    <tr>\n",
              "      <th>2</th>\n",
              "      <td>1960</td>\n",
              "      <td>Nixon</td>\n",
              "      <td>Kennedy</td>\n",
              "      <td>49.91</td>\n",
              "      <td>0.85</td>\n",
              "      <td>0</td>\n",
              "    </tr>\n",
              "    <tr>\n",
              "      <th>3</th>\n",
              "      <td>1964</td>\n",
              "      <td>Johnson</td>\n",
              "      <td>Goldwater</td>\n",
              "      <td>61.34</td>\n",
              "      <td>4.21</td>\n",
              "      <td>1</td>\n",
              "    </tr>\n",
              "    <tr>\n",
              "      <th>4</th>\n",
              "      <td>1968</td>\n",
              "      <td>Humphrey</td>\n",
              "      <td>Nixon</td>\n",
              "      <td>49.60</td>\n",
              "      <td>3.02</td>\n",
              "      <td>146</td>\n",
              "    </tr>\n",
              "    <tr>\n",
              "      <th>5</th>\n",
              "      <td>1972</td>\n",
              "      <td>Nixon</td>\n",
              "      <td>McGovern</td>\n",
              "      <td>61.79</td>\n",
              "      <td>3.62</td>\n",
              "      <td>0</td>\n",
              "    </tr>\n",
              "    <tr>\n",
              "      <th>6</th>\n",
              "      <td>1976</td>\n",
              "      <td>Ford</td>\n",
              "      <td>Carter</td>\n",
              "      <td>48.95</td>\n",
              "      <td>1.08</td>\n",
              "      <td>2</td>\n",
              "    </tr>\n",
              "    <tr>\n",
              "      <th>7</th>\n",
              "      <td>1980</td>\n",
              "      <td>Carter</td>\n",
              "      <td>Reagan</td>\n",
              "      <td>44.70</td>\n",
              "      <td>-0.39</td>\n",
              "      <td>0</td>\n",
              "    </tr>\n",
              "    <tr>\n",
              "      <th>8</th>\n",
              "      <td>1984</td>\n",
              "      <td>Reagan</td>\n",
              "      <td>Mondale</td>\n",
              "      <td>59.17</td>\n",
              "      <td>3.86</td>\n",
              "      <td>0</td>\n",
              "    </tr>\n",
              "    <tr>\n",
              "      <th>9</th>\n",
              "      <td>1988</td>\n",
              "      <td>Bush, Sr.</td>\n",
              "      <td>Dukakis</td>\n",
              "      <td>53.94</td>\n",
              "      <td>2.27</td>\n",
              "      <td>0</td>\n",
              "    </tr>\n",
              "    <tr>\n",
              "      <th>10</th>\n",
              "      <td>1992</td>\n",
              "      <td>Bush, Sr.</td>\n",
              "      <td>Clinton</td>\n",
              "      <td>46.55</td>\n",
              "      <td>0.38</td>\n",
              "      <td>0</td>\n",
              "    </tr>\n",
              "    <tr>\n",
              "      <th>11</th>\n",
              "      <td>1996</td>\n",
              "      <td>Clinton</td>\n",
              "      <td>Dole</td>\n",
              "      <td>54.74</td>\n",
              "      <td>1.04</td>\n",
              "      <td>0</td>\n",
              "    </tr>\n",
              "    <tr>\n",
              "      <th>12</th>\n",
              "      <td>2000</td>\n",
              "      <td>Gore</td>\n",
              "      <td>Bush, Jr.</td>\n",
              "      <td>50.27</td>\n",
              "      <td>2.36</td>\n",
              "      <td>0</td>\n",
              "    </tr>\n",
              "    <tr>\n",
              "      <th>13</th>\n",
              "      <td>2004</td>\n",
              "      <td>Bush, Jr.</td>\n",
              "      <td>Kerry</td>\n",
              "      <td>51.24</td>\n",
              "      <td>1.72</td>\n",
              "      <td>4</td>\n",
              "    </tr>\n",
              "    <tr>\n",
              "      <th>14</th>\n",
              "      <td>2008</td>\n",
              "      <td>McCain</td>\n",
              "      <td>Obama</td>\n",
              "      <td>46.32</td>\n",
              "      <td>0.10</td>\n",
              "      <td>14</td>\n",
              "    </tr>\n",
              "    <tr>\n",
              "      <th>15</th>\n",
              "      <td>2012</td>\n",
              "      <td>Obama</td>\n",
              "      <td>Romney</td>\n",
              "      <td>52.00</td>\n",
              "      <td>0.95</td>\n",
              "      <td>5</td>\n",
              "    </tr>\n",
              "    <tr>\n",
              "      <th>16</th>\n",
              "      <td>2016</td>\n",
              "      <td>Clinton</td>\n",
              "      <td>Trump</td>\n",
              "      <td>48.20</td>\n",
              "      <td>0.10</td>\n",
              "      <td>5</td>\n",
              "    </tr>\n",
              "  </tbody>\n",
              "</table>\n",
              "</div>"
            ],
            "text/plain": [
              "    Year  ... US Military Fatalities per Million\n",
              "0   1952  ...                                190\n",
              "1   1956  ...                                  0\n",
              "2   1960  ...                                  0\n",
              "3   1964  ...                                  1\n",
              "4   1968  ...                                146\n",
              "5   1972  ...                                  0\n",
              "6   1976  ...                                  2\n",
              "7   1980  ...                                  0\n",
              "8   1984  ...                                  0\n",
              "9   1988  ...                                  0\n",
              "10  1992  ...                                  0\n",
              "11  1996  ...                                  0\n",
              "12  2000  ...                                  0\n",
              "13  2004  ...                                  4\n",
              "14  2008  ...                                 14\n",
              "15  2012  ...                                  5\n",
              "16  2016  ...                                  5\n",
              "\n",
              "[17 rows x 6 columns]"
            ]
          },
          "metadata": {
            "tags": []
          },
          "execution_count": 114
        }
      ]
    },
    {
      "cell_type": "markdown",
      "metadata": {
        "id": "GMmPjCEWTXFn",
        "colab_type": "text"
      },
      "source": [
        "## Begin with baselines for regression"
      ]
    },
    {
      "cell_type": "code",
      "metadata": {
        "id": "x9aec8nw-Ybh",
        "colab_type": "code",
        "colab": {
          "base_uri": "https://localhost:8080/",
          "height": 168
        },
        "outputId": "8f083180-181a-46b7-ad3d-30d9bd62567f"
      },
      "source": [
        "df['Incumbent Party Vote Share'].describe()"
      ],
      "execution_count": null,
      "outputs": [
        {
          "output_type": "execute_result",
          "data": {
            "text/plain": [
              "count    17.000000\n",
              "mean     51.828235\n",
              "std       5.510739\n",
              "min      44.600000\n",
              "25%      48.200000\n",
              "50%      50.270000\n",
              "75%      54.740000\n",
              "max      61.790000\n",
              "Name: Incumbent Party Vote Share, dtype: float64"
            ]
          },
          "metadata": {
            "tags": []
          },
          "execution_count": 115
        }
      ]
    },
    {
      "cell_type": "code",
      "metadata": {
        "id": "2VeBnv3QgHyK",
        "colab_type": "code",
        "colab": {
          "base_uri": "https://localhost:8080/",
          "height": 283
        },
        "outputId": "d155e467-548b-48a1-cc59-79c931702250"
      },
      "source": [
        "%matplotlib inline\n",
        "import seaborn as sns\n",
        "sns.distplot(df['Incumbent Party Vote Share']);"
      ],
      "execution_count": null,
      "outputs": [
        {
          "output_type": "display_data",
          "data": {
            "image/png": "[encoded data removed]",
            "text/plain": [
              "<Figure size 432x288 with 1 Axes>"
            ]
          },
          "metadata": {
            "tags": []
          }
        }
      ]
    },
    {
      "cell_type": "code",
      "metadata": {
        "id": "4A0wf4yPgu4h",
        "colab_type": "code",
        "colab": {
          "base_uri": "https://localhost:8080/",
          "height": 654
        },
        "outputId": "c59809f3-10c7-4b2e-8ec5-cb1fc0c5512e"
      },
      "source": [
        "target = 'Incumbent Party Vote Share'\n",
        "\n",
        "# This would be more typical\n",
        "mean_baseline = [df[target].mean()] * len(df)\n",
        "\n",
        "# We'll do this here for demonstration purposes\n",
        "df['Mean Baseline'] = df[target].mean()\n",
        "df['Error'] = df['Mean Baseline'] - df[target]\n",
        "df"
      ],
      "execution_count": null,
      "outputs": [
        {
          "output_type": "execute_result",
          "data": {
            "text/html": [
              "<div>\n",
              "<style scoped>\n",
              "    .dataframe tbody tr th:only-of-type {\n",
              "        vertical-align: middle;\n",
              "    }\n",
              "\n",
              "    .dataframe tbody tr th {\n",
              "        vertical-align: top;\n",
              "    }\n",
              "\n",
              "    .dataframe thead th {\n",
              "        text-align: right;\n",
              "    }\n",
              "</style>\n",
              "<table border=\"1\" class=\"dataframe\">\n",
              "  <thead>\n",
              "    <tr style=\"text-align: right;\">\n",
              "      <th></th>\n",
              "      <th>Year</th>\n",
              "      <th>Incumbent Party Candidate</th>\n",
              "      <th>Other Candidate</th>\n",
              "      <th>Incumbent Party Vote Share</th>\n",
              "      <th>Average Recent Growth in Personal Incomes</th>\n",
              "      <th>US Military Fatalities per Million</th>\n",
              "      <th>Mean Baseline</th>\n",
              "      <th>Error</th>\n",
              "    </tr>\n",
              "  </thead>\n",
              "  <tbody>\n",
              "    <tr>\n",
              "      <th>0</th>\n",
              "      <td>1952</td>\n",
              "      <td>Stevenson</td>\n",
              "      <td>Eisenhower</td>\n",
              "      <td>44.60</td>\n",
              "      <td>2.40</td>\n",
              "      <td>190</td>\n",
              "      <td>51.828235</td>\n",
              "      <td>7.228235</td>\n",
              "    </tr>\n",
              "    <tr>\n",
              "      <th>1</th>\n",
              "      <td>1956</td>\n",
              "      <td>Eisenhower</td>\n",
              "      <td>Stevenson</td>\n",
              "      <td>57.76</td>\n",
              "      <td>2.89</td>\n",
              "      <td>0</td>\n",
              "      <td>51.828235</td>\n",
              "      <td>-5.931765</td>\n",
              "    </tr>\n",
              "    <tr>\n",
              "      <th>2</th>\n",
              "      <td>1960</td>\n",
              "      <td>Nixon</td>\n",
              "      <td>Kennedy</td>\n",
              "      <td>49.91</td>\n",
              "      <td>0.85</td>\n",
              "      <td>0</td>\n",
              "      <td>51.828235</td>\n",
              "      <td>1.918235</td>\n",
              "    </tr>\n",
              "    <tr>\n",
              "      <th>3</th>\n",
              "      <td>1964</td>\n",
              "      <td>Johnson</td>\n",
              "      <td>Goldwater</td>\n",
              "      <td>61.34</td>\n",
              "      <td>4.21</td>\n",
              "      <td>1</td>\n",
              "      <td>51.828235</td>\n",
              "      <td>-9.511765</td>\n",
              "    </tr>\n",
              "    <tr>\n",
              "      <th>4</th>\n",
              "      <td>1968</td>\n",
              "      <td>Humphrey</td>\n",
              "      <td>Nixon</td>\n",
              "      <td>49.60</td>\n",
              "      <td>3.02</td>\n",
              "      <td>146</td>\n",
              "      <td>51.828235</td>\n",
              "      <td>2.228235</td>\n",
              "    </tr>\n",
              "    <tr>\n",
              "      <th>5</th>\n",
              "      <td>1972</td>\n",
              "      <td>Nixon</td>\n",
              "      <td>McGovern</td>\n",
              "      <td>61.79</td>\n",
              "      <td>3.62</td>\n",
              "      <td>0</td>\n",
              "      <td>51.828235</td>\n",
              "      <td>-9.961765</td>\n",
              "    </tr>\n",
              "    <tr>\n",
              "      <th>6</th>\n",
              "      <td>1976</td>\n",
              "      <td>Ford</td>\n",
              "      <td>Carter</td>\n",
              "      <td>48.95</td>\n",
              "      <td>1.08</td>\n",
              "      <td>2</td>\n",
              "      <td>51.828235</td>\n",
              "      <td>2.878235</td>\n",
              "    </tr>\n",
              "    <tr>\n",
              "      <th>7</th>\n",
              "      <td>1980</td>\n",
              "      <td>Carter</td>\n",
              "      <td>Reagan</td>\n",
              "      <td>44.70</td>\n",
              "      <td>-0.39</td>\n",
              "      <td>0</td>\n",
              "      <td>51.828235</td>\n",
              "      <td>7.128235</td>\n",
              "    </tr>\n",
              "    <tr>\n",
              "      <th>8</th>\n",
              "      <td>1984</td>\n",
              "      <td>Reagan</td>\n",
              "      <td>Mondale</td>\n",
              "      <td>59.17</td>\n",
              "      <td>3.86</td>\n",
              "      <td>0</td>\n",
              "      <td>51.828235</td>\n",
              "      <td>-7.341765</td>\n",
              "    </tr>\n",
              "    <tr>\n",
              "      <th>9</th>\n",
              "      <td>1988</td>\n",
              "      <td>Bush, Sr.</td>\n",
              "      <td>Dukakis</td>\n",
              "      <td>53.94</td>\n",
              "      <td>2.27</td>\n",
              "      <td>0</td>\n",
              "      <td>51.828235</td>\n",
              "      <td>-2.111765</td>\n",
              "    </tr>\n",
              "    <tr>\n",
              "      <th>10</th>\n",
              "      <td>1992</td>\n",
              "      <td>Bush, Sr.</td>\n",
              "      <td>Clinton</td>\n",
              "      <td>46.55</td>\n",
              "      <td>0.38</td>\n",
              "      <td>0</td>\n",
              "      <td>51.828235</td>\n",
              "      <td>5.278235</td>\n",
              "    </tr>\n",
              "    <tr>\n",
              "      <th>11</th>\n",
              "      <td>1996</td>\n",
              "      <td>Clinton</td>\n",
              "      <td>Dole</td>\n",
              "      <td>54.74</td>\n",
              "      <td>1.04</td>\n",
              "      <td>0</td>\n",
              "      <td>51.828235</td>\n",
              "      <td>-2.911765</td>\n",
              "    </tr>\n",
              "    <tr>\n",
              "      <th>12</th>\n",
              "      <td>2000</td>\n",
              "      <td>Gore</td>\n",
              "      <td>Bush, Jr.</td>\n",
              "      <td>50.27</td>\n",
              "      <td>2.36</td>\n",
              "      <td>0</td>\n",
              "      <td>51.828235</td>\n",
              "      <td>1.558235</td>\n",
              "    </tr>\n",
              "    <tr>\n",
              "      <th>13</th>\n",
              "      <td>2004</td>\n",
              "      <td>Bush, Jr.</td>\n",
              "      <td>Kerry</td>\n",
              "      <td>51.24</td>\n",
              "      <td>1.72</td>\n",
              "      <td>4</td>\n",
              "      <td>51.828235</td>\n",
              "      <td>0.588235</td>\n",
              "    </tr>\n",
              "    <tr>\n",
              "      <th>14</th>\n",
              "      <td>2008</td>\n",
              "      <td>McCain</td>\n",
              "      <td>Obama</td>\n",
              "      <td>46.32</td>\n",
              "      <td>0.10</td>\n",
              "      <td>14</td>\n",
              "      <td>51.828235</td>\n",
              "      <td>5.508235</td>\n",
              "    </tr>\n",
              "    <tr>\n",
              "      <th>15</th>\n",
              "      <td>2012</td>\n",
              "      <td>Obama</td>\n",
              "      <td>Romney</td>\n",
              "      <td>52.00</td>\n",
              "      <td>0.95</td>\n",
              "      <td>5</td>\n",
              "      <td>51.828235</td>\n",
              "      <td>-0.171765</td>\n",
              "    </tr>\n",
              "    <tr>\n",
              "      <th>16</th>\n",
              "      <td>2016</td>\n",
              "      <td>Clinton</td>\n",
              "      <td>Trump</td>\n",
              "      <td>48.20</td>\n",
              "      <td>0.10</td>\n",
              "      <td>5</td>\n",
              "      <td>51.828235</td>\n",
              "      <td>3.628235</td>\n",
              "    </tr>\n",
              "  </tbody>\n",
              "</table>\n",
              "</div>"
            ],
            "text/plain": [
              "    Year Incumbent Party Candidate  ... Mean Baseline     Error\n",
              "0   1952                 Stevenson  ...     51.828235  7.228235\n",
              "1   1956                Eisenhower  ...     51.828235 -5.931765\n",
              "2   1960                     Nixon  ...     51.828235  1.918235\n",
              "3   1964                   Johnson  ...     51.828235 -9.511765\n",
              "4   1968                  Humphrey  ...     51.828235  2.228235\n",
              "5   1972                     Nixon  ...     51.828235 -9.961765\n",
              "6   1976                      Ford  ...     51.828235  2.878235\n",
              "7   1980                    Carter  ...     51.828235  7.128235\n",
              "8   1984                    Reagan  ...     51.828235 -7.341765\n",
              "9   1988                 Bush, Sr.  ...     51.828235 -2.111765\n",
              "10  1992                 Bush, Sr.  ...     51.828235  5.278235\n",
              "11  1996                   Clinton  ...     51.828235 -2.911765\n",
              "12  2000                      Gore  ...     51.828235  1.558235\n",
              "13  2004                 Bush, Jr.  ...     51.828235  0.588235\n",
              "14  2008                    McCain  ...     51.828235  5.508235\n",
              "15  2012                     Obama  ...     51.828235 -0.171765\n",
              "16  2016                   Clinton  ...     51.828235  3.628235\n",
              "\n",
              "[17 rows x 8 columns]"
            ]
          },
          "metadata": {
            "tags": []
          },
          "execution_count": 117
        }
      ]
    },
    {
      "cell_type": "code",
      "metadata": {
        "id": "wT5XE-Nuh-T5",
        "colab_type": "code",
        "colab": {
          "base_uri": "https://localhost:8080/",
          "height": 34
        },
        "outputId": "5f04a349-3124-4ffb-988c-863abc587b26"
      },
      "source": [
        "# a wrong way\n",
        "df['Error'].sum()"
      ],
      "execution_count": null,
      "outputs": [
        {
          "output_type": "execute_result",
          "data": {
            "text/plain": [
              "-1.4210854715202004e-14"
            ]
          },
          "metadata": {
            "tags": []
          },
          "execution_count": 118
        }
      ]
    },
    {
      "cell_type": "code",
      "metadata": {
        "id": "gbmqmpOfCae7",
        "colab_type": "code",
        "colab": {}
      },
      "source": [
        ""
      ],
      "execution_count": null,
      "outputs": []
    },
    {
      "cell_type": "code",
      "metadata": {
        "id": "3GZR_IP1imIc",
        "colab_type": "code",
        "colab": {
          "base_uri": "https://localhost:8080/",
          "height": 34
        },
        "outputId": "e82e92cb-402d-4a8f-bd53-0ceb1d0f571b"
      },
      "source": [
        "# a right way\n",
        "df['Absolute Error'] = df['Error'].abs()\n",
        "df['Absolute Error'].sum()"
      ],
      "execution_count": null,
      "outputs": [
        {
          "output_type": "execute_result",
          "data": {
            "text/plain": [
              "75.88470588235293"
            ]
          },
          "metadata": {
            "tags": []
          },
          "execution_count": 119
        }
      ]
    },
    {
      "cell_type": "code",
      "metadata": {
        "id": "LEPo6ZN6i1eb",
        "colab_type": "code",
        "colab": {
          "base_uri": "https://localhost:8080/",
          "height": 34
        },
        "outputId": "f4551a82-e617-4dcc-b716-37c91cef8848"
      },
      "source": [
        "75.88 / 17"
      ],
      "execution_count": null,
      "outputs": [
        {
          "output_type": "execute_result",
          "data": {
            "text/plain": [
              "4.463529411764705"
            ]
          },
          "metadata": {
            "tags": []
          },
          "execution_count": 120
        }
      ]
    },
    {
      "cell_type": "code",
      "metadata": {
        "id": "8NKicWQCi5RU",
        "colab_type": "code",
        "colab": {
          "base_uri": "https://localhost:8080/",
          "height": 34
        },
        "outputId": "13dd08d7-7a1f-4721-ed9b-398ee3235313"
      },
      "source": [
        "df['Absolute Error'].mean()"
      ],
      "execution_count": null,
      "outputs": [
        {
          "output_type": "execute_result",
          "data": {
            "text/plain": [
              "4.463806228373703"
            ]
          },
          "metadata": {
            "tags": []
          },
          "execution_count": 121
        }
      ]
    },
    {
      "cell_type": "code",
      "metadata": {
        "id": "kVwaIbLsjAlm",
        "colab_type": "code",
        "colab": {
          "base_uri": "https://localhost:8080/",
          "height": 34
        },
        "outputId": "05c77020-6ed2-4e63-8df6-f4a5668779d9"
      },
      "source": [
        "from sklearn.metrics import mean_absolute_error\n",
        "mean_absolute_error(y_true=df['Incumbent Party Vote Share'], \n",
        "                    y_pred=df['Mean Baseline'])"
      ],
      "execution_count": null,
      "outputs": [
        {
          "output_type": "execute_result",
          "data": {
            "text/plain": [
              "4.463806228373702"
            ]
          },
          "metadata": {
            "tags": []
          },
          "execution_count": 122
        }
      ]
    },
    {
      "cell_type": "markdown",
      "metadata": {
        "id": "i3hDX7yUTbix",
        "colab_type": "text"
      },
      "source": [
        "## Use scikit-learn for linear regression, with 1 feature\n",
        "\n",
        "\n"
      ]
    },
    {
      "cell_type": "markdown",
      "metadata": {
        "id": "HFWAop61CgCq",
        "colab_type": "text"
      },
      "source": [
        "Follow the process from Jake VanderPlas, [Python Data Science Handbook, Chapter 5.2, Introducing Scikit-Learn](https://jakevdp.github.io/PythonDataScienceHandbook/05.02-introducing-scikit-learn.html), Scikit-Learn's Estimator API\n",
        "\n",
        "### Choose a class of model by importing the appropriate estimator class from Scikit-Learn\n"
      ]
    },
    {
      "cell_type": "code",
      "metadata": {
        "id": "OMbOVWEDCfmO",
        "colab_type": "code",
        "colab": {}
      },
      "source": [
        "from sklearn.linear_model import LinearRegression"
      ],
      "execution_count": null,
      "outputs": []
    },
    {
      "cell_type": "markdown",
      "metadata": {
        "id": "vATSdu5oD5NQ",
        "colab_type": "text"
      },
      "source": [
        "### Choose model hyperparameters by instantiating this class with desired values\n",
        "\n",
        "Refer to scikit-learn documentation to see what model hyperparameters you can choose. For example: [sklearn.linear_model.LinearRegression](https://scikit-learn.org/stable/modules/generated/sklearn.linear_model.LinearRegression.html)"
      ]
    },
    {
      "cell_type": "code",
      "metadata": {
        "id": "CexmSzauEBnu",
        "colab_type": "code",
        "colab": {}
      },
      "source": [
        "model = LinearRegression()"
      ],
      "execution_count": null,
      "outputs": []
    },
    {
      "cell_type": "markdown",
      "metadata": {
        "id": "oEsa7jtHC0L5",
        "colab_type": "text"
      },
      "source": [
        "### Arrange data into X features matrix and y target vector"
      ]
    },
    {
      "cell_type": "code",
      "metadata": {
        "id": "euIG2-5P_sdZ",
        "colab_type": "code",
        "colab": {
          "base_uri": "https://localhost:8080/",
          "height": 34
        },
        "outputId": "eeade6b8-2add-4232-bfe9-5e5b48c4f307"
      },
      "source": [
        "X = df[['Average Recent Growth in Personal Incomes']]\n",
        "y = df['Incumbent Party Vote Share']\n",
        "\n",
        "type(X), type(y)"
      ],
      "execution_count": null,
      "outputs": [
        {
          "output_type": "execute_result",
          "data": {
            "text/plain": [
              "(pandas.core.frame.DataFrame, pandas.core.series.Series)"
            ]
          },
          "metadata": {
            "tags": []
          },
          "execution_count": 125
        }
      ]
    },
    {
      "cell_type": "code",
      "metadata": {
        "id": "8LxWr3CZnz1g",
        "colab_type": "code",
        "colab": {
          "base_uri": "https://localhost:8080/",
          "height": 34
        },
        "outputId": "4f276c00-d06d-4c29-b95a-506bbcdb3ab3"
      },
      "source": [
        "X.shape, y.shape"
      ],
      "execution_count": null,
      "outputs": [
        {
          "output_type": "execute_result",
          "data": {
            "text/plain": [
              "((17, 1), (17,))"
            ]
          },
          "metadata": {
            "tags": []
          },
          "execution_count": 126
        }
      ]
    },
    {
      "cell_type": "code",
      "metadata": {
        "id": "59mSicCZoT8L",
        "colab_type": "code",
        "colab": {}
      },
      "source": [
        "features = ['Average Recent Growth in Personal Incomes']\n",
        "target = 'Incumbent Party Vote Share'\n",
        "X = df[features]\n",
        "y = df[target]"
      ],
      "execution_count": null,
      "outputs": []
    },
    {
      "cell_type": "markdown",
      "metadata": {
        "id": "K8s3-WYWEKxN",
        "colab_type": "text"
      },
      "source": [
        "### Fit the model to your data by calling the `fit()` method of the model instance"
      ]
    },
    {
      "cell_type": "code",
      "metadata": {
        "id": "XTLnEzwUENb5",
        "colab_type": "code",
        "colab": {
          "base_uri": "https://localhost:8080/",
          "height": 54
        },
        "outputId": "69d4a15b-805f-4657-8c19-e9490119c6d4"
      },
      "source": [
        "model.fit(X, y)"
      ],
      "execution_count": null,
      "outputs": [
        {
          "output_type": "execute_result",
          "data": {
            "text/plain": [
              "LinearRegression(copy_X=True, fit_intercept=True, n_jobs=None, normalize=False)"
            ]
          },
          "metadata": {
            "tags": []
          },
          "execution_count": 128
        }
      ]
    },
    {
      "cell_type": "markdown",
      "metadata": {
        "id": "HynZZRL7ESvx",
        "colab_type": "text"
      },
      "source": [
        "### Apply the Model to new data: For supervised learning, often we predict labels for unknown data using the `predict()` method"
      ]
    },
    {
      "cell_type": "code",
      "metadata": {
        "id": "mCtwohVKERED",
        "colab_type": "code",
        "colab": {}
      },
      "source": [
        "y_pred = model.predict(X)"
      ],
      "execution_count": null,
      "outputs": []
    },
    {
      "cell_type": "markdown",
      "metadata": {
        "id": "6l-WbivHIwHh",
        "colab_type": "text"
      },
      "source": [
        "## Use regression metric: MAE"
      ]
    },
    {
      "cell_type": "code",
      "metadata": {
        "id": "r5G7hDzGG0B0",
        "colab_type": "code",
        "colab": {
          "base_uri": "https://localhost:8080/",
          "height": 34
        },
        "outputId": "af126400-9c4e-4df3-f183-2da48711db6a"
      },
      "source": [
        "mean_absolute_error(y, y_pred)"
      ],
      "execution_count": null,
      "outputs": [
        {
          "output_type": "execute_result",
          "data": {
            "text/plain": [
              "2.5291938349608953"
            ]
          },
          "metadata": {
            "tags": []
          },
          "execution_count": 130
        }
      ]
    },
    {
      "cell_type": "code",
      "metadata": {
        "id": "PfuI9wu5FvXu",
        "colab_type": "code",
        "colab": {
          "base_uri": "https://localhost:8080/",
          "height": 654
        },
        "outputId": "61c77390-81ec-446f-c256-ed199199cfb9"
      },
      "source": [
        "# We won't usually add predictions back to the original dataframe as a new column, \n",
        "# But we'll do this here just for demonstration purposes\n",
        "df['Linear Regression, 1 feature'] = y_pred\n",
        "df['Error'] = df['Linear Regression, 1 feature'] - df[target]\n",
        "df['Absolute Error'] = df['Error'].abs()\n",
        "\n",
        "df"
      ],
      "execution_count": null,
      "outputs": [
        {
          "output_type": "execute_result",
          "data": {
            "text/html": [
              "<div>\n",
              "<style scoped>\n",
              "    .dataframe tbody tr th:only-of-type {\n",
              "        vertical-align: middle;\n",
              "    }\n",
              "\n",
              "    .dataframe tbody tr th {\n",
              "        vertical-align: top;\n",
              "    }\n",
              "\n",
              "    .dataframe thead th {\n",
              "        text-align: right;\n",
              "    }\n",
              "</style>\n",
              "<table border=\"1\" class=\"dataframe\">\n",
              "  <thead>\n",
              "    <tr style=\"text-align: right;\">\n",
              "      <th></th>\n",
              "      <th>Year</th>\n",
              "      <th>Incumbent Party Candidate</th>\n",
              "      <th>Other Candidate</th>\n",
              "      <th>Incumbent Party Vote Share</th>\n",
              "      <th>Average Recent Growth in Personal Incomes</th>\n",
              "      <th>US Military Fatalities per Million</th>\n",
              "      <th>Mean Baseline</th>\n",
              "      <th>Error</th>\n",
              "      <th>Absolute Error</th>\n",
              "      <th>Linear Regression, 1 feature</th>\n",
              "    </tr>\n",
              "  </thead>\n",
              "  <tbody>\n",
              "    <tr>\n",
              "      <th>0</th>\n",
              "      <td>1952</td>\n",
              "      <td>Stevenson</td>\n",
              "      <td>Eisenhower</td>\n",
              "      <td>44.60</td>\n",
              "      <td>2.40</td>\n",
              "      <td>190</td>\n",
              "      <td>51.828235</td>\n",
              "      <td>9.037235</td>\n",
              "      <td>9.037235</td>\n",
              "      <td>53.637235</td>\n",
              "    </tr>\n",
              "    <tr>\n",
              "      <th>1</th>\n",
              "      <td>1956</td>\n",
              "      <td>Eisenhower</td>\n",
              "      <td>Stevenson</td>\n",
              "      <td>57.76</td>\n",
              "      <td>2.89</td>\n",
              "      <td>0</td>\n",
              "      <td>51.828235</td>\n",
              "      <td>-2.665418</td>\n",
              "      <td>2.665418</td>\n",
              "      <td>55.094582</td>\n",
              "    </tr>\n",
              "    <tr>\n",
              "      <th>2</th>\n",
              "      <td>1960</td>\n",
              "      <td>Nixon</td>\n",
              "      <td>Kennedy</td>\n",
              "      <td>49.91</td>\n",
              "      <td>0.85</td>\n",
              "      <td>0</td>\n",
              "      <td>51.828235</td>\n",
              "      <td>-0.882740</td>\n",
              "      <td>0.882740</td>\n",
              "      <td>49.027260</td>\n",
              "    </tr>\n",
              "    <tr>\n",
              "      <th>3</th>\n",
              "      <td>1964</td>\n",
              "      <td>Johnson</td>\n",
              "      <td>Goldwater</td>\n",
              "      <td>61.34</td>\n",
              "      <td>4.21</td>\n",
              "      <td>1</td>\n",
              "      <td>51.828235</td>\n",
              "      <td>-2.319505</td>\n",
              "      <td>2.319505</td>\n",
              "      <td>59.020495</td>\n",
              "    </tr>\n",
              "    <tr>\n",
              "      <th>4</th>\n",
              "      <td>1968</td>\n",
              "      <td>Humphrey</td>\n",
              "      <td>Nixon</td>\n",
              "      <td>49.60</td>\n",
              "      <td>3.02</td>\n",
              "      <td>146</td>\n",
              "      <td>51.828235</td>\n",
              "      <td>5.881225</td>\n",
              "      <td>5.881225</td>\n",
              "      <td>55.481225</td>\n",
              "    </tr>\n",
              "    <tr>\n",
              "      <th>5</th>\n",
              "      <td>1972</td>\n",
              "      <td>Nixon</td>\n",
              "      <td>McGovern</td>\n",
              "      <td>61.79</td>\n",
              "      <td>3.62</td>\n",
              "      <td>0</td>\n",
              "      <td>51.828235</td>\n",
              "      <td>-4.524269</td>\n",
              "      <td>4.524269</td>\n",
              "      <td>57.265731</td>\n",
              "    </tr>\n",
              "    <tr>\n",
              "      <th>6</th>\n",
              "      <td>1976</td>\n",
              "      <td>Ford</td>\n",
              "      <td>Carter</td>\n",
              "      <td>48.95</td>\n",
              "      <td>1.08</td>\n",
              "      <td>2</td>\n",
              "      <td>51.828235</td>\n",
              "      <td>0.761321</td>\n",
              "      <td>0.761321</td>\n",
              "      <td>49.711321</td>\n",
              "    </tr>\n",
              "    <tr>\n",
              "      <th>7</th>\n",
              "      <td>1980</td>\n",
              "      <td>Carter</td>\n",
              "      <td>Reagan</td>\n",
              "      <td>44.70</td>\n",
              "      <td>-0.39</td>\n",
              "      <td>0</td>\n",
              "      <td>51.828235</td>\n",
              "      <td>0.639281</td>\n",
              "      <td>0.639281</td>\n",
              "      <td>45.339281</td>\n",
              "    </tr>\n",
              "    <tr>\n",
              "      <th>8</th>\n",
              "      <td>1984</td>\n",
              "      <td>Reagan</td>\n",
              "      <td>Mondale</td>\n",
              "      <td>59.17</td>\n",
              "      <td>3.86</td>\n",
              "      <td>0</td>\n",
              "      <td>51.828235</td>\n",
              "      <td>-1.190467</td>\n",
              "      <td>1.190467</td>\n",
              "      <td>57.979533</td>\n",
              "    </tr>\n",
              "    <tr>\n",
              "      <th>9</th>\n",
              "      <td>1988</td>\n",
              "      <td>Bush, Sr.</td>\n",
              "      <td>Dukakis</td>\n",
              "      <td>53.94</td>\n",
              "      <td>2.27</td>\n",
              "      <td>0</td>\n",
              "      <td>51.828235</td>\n",
              "      <td>-0.689408</td>\n",
              "      <td>0.689408</td>\n",
              "      <td>53.250592</td>\n",
              "    </tr>\n",
              "    <tr>\n",
              "      <th>10</th>\n",
              "      <td>1992</td>\n",
              "      <td>Bush, Sr.</td>\n",
              "      <td>Clinton</td>\n",
              "      <td>46.55</td>\n",
              "      <td>0.38</td>\n",
              "      <td>0</td>\n",
              "      <td>51.828235</td>\n",
              "      <td>1.079397</td>\n",
              "      <td>1.079397</td>\n",
              "      <td>47.629397</td>\n",
              "    </tr>\n",
              "    <tr>\n",
              "      <th>11</th>\n",
              "      <td>1996</td>\n",
              "      <td>Clinton</td>\n",
              "      <td>Dole</td>\n",
              "      <td>54.74</td>\n",
              "      <td>1.04</td>\n",
              "      <td>0</td>\n",
              "      <td>51.828235</td>\n",
              "      <td>-5.147646</td>\n",
              "      <td>5.147646</td>\n",
              "      <td>49.592354</td>\n",
              "    </tr>\n",
              "    <tr>\n",
              "      <th>12</th>\n",
              "      <td>2000</td>\n",
              "      <td>Gore</td>\n",
              "      <td>Bush, Jr.</td>\n",
              "      <td>50.27</td>\n",
              "      <td>2.36</td>\n",
              "      <td>0</td>\n",
              "      <td>51.828235</td>\n",
              "      <td>3.248268</td>\n",
              "      <td>3.248268</td>\n",
              "      <td>53.518268</td>\n",
              "    </tr>\n",
              "    <tr>\n",
              "      <th>13</th>\n",
              "      <td>2004</td>\n",
              "      <td>Bush, Jr.</td>\n",
              "      <td>Kerry</td>\n",
              "      <td>51.24</td>\n",
              "      <td>1.72</td>\n",
              "      <td>4</td>\n",
              "      <td>51.828235</td>\n",
              "      <td>0.374794</td>\n",
              "      <td>0.374794</td>\n",
              "      <td>51.614794</td>\n",
              "    </tr>\n",
              "    <tr>\n",
              "      <th>14</th>\n",
              "      <td>2008</td>\n",
              "      <td>McCain</td>\n",
              "      <td>Obama</td>\n",
              "      <td>46.32</td>\n",
              "      <td>0.10</td>\n",
              "      <td>14</td>\n",
              "      <td>51.828235</td>\n",
              "      <td>0.476627</td>\n",
              "      <td>0.476627</td>\n",
              "      <td>46.796627</td>\n",
              "    </tr>\n",
              "    <tr>\n",
              "      <th>15</th>\n",
              "      <td>2012</td>\n",
              "      <td>Obama</td>\n",
              "      <td>Romney</td>\n",
              "      <td>52.00</td>\n",
              "      <td>0.95</td>\n",
              "      <td>5</td>\n",
              "      <td>51.828235</td>\n",
              "      <td>-2.675322</td>\n",
              "      <td>2.675322</td>\n",
              "      <td>49.324678</td>\n",
              "    </tr>\n",
              "    <tr>\n",
              "      <th>16</th>\n",
              "      <td>2016</td>\n",
              "      <td>Clinton</td>\n",
              "      <td>Trump</td>\n",
              "      <td>48.20</td>\n",
              "      <td>0.10</td>\n",
              "      <td>5</td>\n",
              "      <td>51.828235</td>\n",
              "      <td>-1.403373</td>\n",
              "      <td>1.403373</td>\n",
              "      <td>46.796627</td>\n",
              "    </tr>\n",
              "  </tbody>\n",
              "</table>\n",
              "</div>"
            ],
            "text/plain": [
              "    Year  ... Linear Regression, 1 feature\n",
              "0   1952  ...                    53.637235\n",
              "1   1956  ...                    55.094582\n",
              "2   1960  ...                    49.027260\n",
              "3   1964  ...                    59.020495\n",
              "4   1968  ...                    55.481225\n",
              "5   1972  ...                    57.265731\n",
              "6   1976  ...                    49.711321\n",
              "7   1980  ...                    45.339281\n",
              "8   1984  ...                    57.979533\n",
              "9   1988  ...                    53.250592\n",
              "10  1992  ...                    47.629397\n",
              "11  1996  ...                    49.592354\n",
              "12  2000  ...                    53.518268\n",
              "13  2004  ...                    51.614794\n",
              "14  2008  ...                    46.796627\n",
              "15  2012  ...                    49.324678\n",
              "16  2016  ...                    46.796627\n",
              "\n",
              "[17 rows x 10 columns]"
            ]
          },
          "metadata": {
            "tags": []
          },
          "execution_count": 131
        }
      ]
    },
    {
      "cell_type": "code",
      "metadata": {
        "id": "vBHdqlYBrIY3",
        "colab_type": "code",
        "colab": {
          "base_uri": "https://localhost:8080/",
          "height": 283
        },
        "outputId": "4223ee2d-d64d-4daa-ee66-3a727a36ca50"
      },
      "source": [
        "ax = df.plot(x='Average Recent Growth in Personal Incomes', \n",
        "             y='Incumbent Party Vote Share', \n",
        "             kind='scatter')\n",
        "\n",
        "df.plot(x='Average Recent Growth in Personal Incomes', \n",
        "        y='Linear Regression, 1 feature', \n",
        "        kind='scatter', \n",
        "        color='orange', \n",
        "        ax=ax);"
      ],
      "execution_count": null,
      "outputs": [
        {
          "output_type": "display_data",
          "data": {
            "image/png": "[encoded data removed]",
            "text/plain": [
              "<Figure size 432x288 with 1 Axes>"
            ]
          },
          "metadata": {
            "tags": []
          }
        }
      ]
    },
    {
      "cell_type": "code",
      "metadata": {
        "id": "cVo2GG6Lr7rx",
        "colab_type": "code",
        "colab": {
          "base_uri": "https://localhost:8080/",
          "height": 34
        },
        "outputId": "239b832f-aab8-4db2-c85d-5573ed2e6c88"
      },
      "source": [
        "len(y_pred)"
      ],
      "execution_count": null,
      "outputs": [
        {
          "output_type": "execute_result",
          "data": {
            "text/plain": [
              "17"
            ]
          },
          "metadata": {
            "tags": []
          },
          "execution_count": 133
        }
      ]
    },
    {
      "cell_type": "code",
      "metadata": {
        "id": "fcdk8Dvpr82i",
        "colab_type": "code",
        "colab": {
          "base_uri": "https://localhost:8080/",
          "height": 302
        },
        "outputId": "fe24d6f5-271b-4ea7-f0a3-a0fafb35a98c"
      },
      "source": [
        "X.values"
      ],
      "execution_count": null,
      "outputs": [
        {
          "output_type": "execute_result",
          "data": {
            "text/plain": [
              "array([[ 2.4 ],\n",
              "       [ 2.89],\n",
              "       [ 0.85],\n",
              "       [ 4.21],\n",
              "       [ 3.02],\n",
              "       [ 3.62],\n",
              "       [ 1.08],\n",
              "       [-0.39],\n",
              "       [ 3.86],\n",
              "       [ 2.27],\n",
              "       [ 0.38],\n",
              "       [ 1.04],\n",
              "       [ 2.36],\n",
              "       [ 1.72],\n",
              "       [ 0.1 ],\n",
              "       [ 0.95],\n",
              "       [ 0.1 ]])"
            ]
          },
          "metadata": {
            "tags": []
          },
          "execution_count": 134
        }
      ]
    },
    {
      "cell_type": "code",
      "metadata": {
        "id": "WlYyzBj8r-hX",
        "colab_type": "code",
        "colab": {
          "base_uri": "https://localhost:8080/",
          "height": 84
        },
        "outputId": "c9904c65-e567-4a8f-ba76-8a69ff3f3252"
      },
      "source": [
        "y_pred"
      ],
      "execution_count": null,
      "outputs": [
        {
          "output_type": "execute_result",
          "data": {
            "text/plain": [
              "array([53.63723477, 55.09458154, 49.02726028, 59.0204953 , 55.48122457,\n",
              "       57.26573082, 49.71132101, 45.33928069, 57.97953332, 53.25059175,\n",
              "       47.62939705, 49.59235393, 53.51826769, 51.61479435, 46.79662747,\n",
              "       49.32467799, 46.79662747])"
            ]
          },
          "metadata": {
            "tags": []
          },
          "execution_count": 135
        }
      ]
    },
    {
      "cell_type": "code",
      "metadata": {
        "id": "mo6h1SnMr9kP",
        "colab_type": "code",
        "colab": {
          "base_uri": "https://localhost:8080/",
          "height": 34
        },
        "outputId": "5fd2f8da-d024-49bc-c116-e5a66d4fc883"
      },
      "source": [
        "# What incumbent party vote share does the model predict for 2.4% personal income growth?\n",
        "model.predict([[2.4]])"
      ],
      "execution_count": null,
      "outputs": [
        {
          "output_type": "execute_result",
          "data": {
            "text/plain": [
              "array([53.63723477])"
            ]
          },
          "metadata": {
            "tags": []
          },
          "execution_count": 136
        }
      ]
    },
    {
      "cell_type": "code",
      "metadata": {
        "id": "0deE38yxsU-R",
        "colab_type": "code",
        "colab": {
          "base_uri": "https://localhost:8080/",
          "height": 34
        },
        "outputId": "fffeff4f-b2ae-4f4d-ce75-f4736b1ac222"
      },
      "source": [
        "# What incumbent party vote share does the model predict for 1% personal income growth?\n",
        "model.predict([[1]])"
      ],
      "execution_count": null,
      "outputs": [
        {
          "output_type": "execute_result",
          "data": {
            "text/plain": [
              "array([49.47338685])"
            ]
          },
          "metadata": {
            "tags": []
          },
          "execution_count": 137
        }
      ]
    },
    {
      "cell_type": "code",
      "metadata": {
        "id": "yvqJeeNXseB6",
        "colab_type": "code",
        "colab": {
          "base_uri": "https://localhost:8080/",
          "height": 34
        },
        "outputId": "6adad471-74e1-4cee-8b7d-3f665feeb617"
      },
      "source": [
        "model.predict([[2]])"
      ],
      "execution_count": null,
      "outputs": [
        {
          "output_type": "execute_result",
          "data": {
            "text/plain": [
              "array([52.44756393])"
            ]
          },
          "metadata": {
            "tags": []
          },
          "execution_count": 138
        }
      ]
    },
    {
      "cell_type": "code",
      "metadata": {
        "id": "MFS6YoGrsgsF",
        "colab_type": "code",
        "colab": {
          "base_uri": "https://localhost:8080/",
          "height": 34
        },
        "outputId": "d0cc18a1-6918-4d1e-b17a-6dda1ccdd52d"
      },
      "source": [
        "model.predict([[3]])"
      ],
      "execution_count": null,
      "outputs": [
        {
          "output_type": "execute_result",
          "data": {
            "text/plain": [
              "array([55.42174102])"
            ]
          },
          "metadata": {
            "tags": []
          },
          "execution_count": 139
        }
      ]
    },
    {
      "cell_type": "code",
      "metadata": {
        "id": "8ZDF3gODshuT",
        "colab_type": "code",
        "colab": {
          "base_uri": "https://localhost:8080/",
          "height": 34
        },
        "outputId": "f232c6de-968f-4909-ef6a-7defeaa97017"
      },
      "source": [
        "model.predict([[3]]) - model.predict([[2]])"
      ],
      "execution_count": null,
      "outputs": [
        {
          "output_type": "execute_result",
          "data": {
            "text/plain": [
              "array([2.97417709])"
            ]
          },
          "metadata": {
            "tags": []
          },
          "execution_count": 140
        }
      ]
    },
    {
      "cell_type": "code",
      "metadata": {
        "id": "kFK2Ce2Hsl5J",
        "colab_type": "code",
        "colab": {
          "base_uri": "https://localhost:8080/",
          "height": 34
        },
        "outputId": "b55ff31b-4c47-4ae6-b1e4-7c056e592505"
      },
      "source": [
        "model.predict([[2]]) - model.predict([[1]])"
      ],
      "execution_count": null,
      "outputs": [
        {
          "output_type": "execute_result",
          "data": {
            "text/plain": [
              "array([2.97417709])"
            ]
          },
          "metadata": {
            "tags": []
          },
          "execution_count": 141
        }
      ]
    },
    {
      "cell_type": "code",
      "metadata": {
        "id": "tD0A4Ey1sqOm",
        "colab_type": "code",
        "colab": {
          "base_uri": "https://localhost:8080/",
          "height": 34
        },
        "outputId": "8b8f25c0-6a0c-4936-d095-436f82a6b823"
      },
      "source": [
        "model.predict([[0]])"
      ],
      "execution_count": null,
      "outputs": [
        {
          "output_type": "execute_result",
          "data": {
            "text/plain": [
              "array([46.49920976])"
            ]
          },
          "metadata": {
            "tags": []
          },
          "execution_count": 142
        }
      ]
    },
    {
      "cell_type": "code",
      "metadata": {
        "id": "ti7QrEZNs2Zd",
        "colab_type": "code",
        "colab": {
          "base_uri": "https://localhost:8080/",
          "height": 34
        },
        "outputId": "ce26c2a2-3ab8-4e26-e0eb-797dafd8811f"
      },
      "source": [
        "model.coef_, model.intercept_"
      ],
      "execution_count": null,
      "outputs": [
        {
          "output_type": "execute_result",
          "data": {
            "text/plain": [
              "(array([2.97417709]), 46.499209757741625)"
            ]
          },
          "metadata": {
            "tags": []
          },
          "execution_count": 143
        }
      ]
    },
    {
      "cell_type": "code",
      "metadata": {
        "id": "jIFGVWsLtFO6",
        "colab_type": "code",
        "colab": {
          "base_uri": "https://localhost:8080/",
          "height": 34
        },
        "outputId": "ecffb116-42d4-4402-fb60-faf1f182ee5b"
      },
      "source": [
        "model.predict([[20]])"
      ],
      "execution_count": null,
      "outputs": [
        {
          "output_type": "execute_result",
          "data": {
            "text/plain": [
              "array([105.98275153])"
            ]
          },
          "metadata": {
            "tags": []
          },
          "execution_count": 144
        }
      ]
    },
    {
      "cell_type": "code",
      "metadata": {
        "id": "3l8V9BBWtIOR",
        "colab_type": "code",
        "colab": {
          "base_uri": "https://localhost:8080/",
          "height": 34
        },
        "outputId": "d4edc2bd-c0ba-4616-c78c-2991c0a511c5"
      },
      "source": [
        "model.predict([[-20]])"
      ],
      "execution_count": null,
      "outputs": [
        {
          "output_type": "execute_result",
          "data": {
            "text/plain": [
              "array([-12.98433201])"
            ]
          },
          "metadata": {
            "tags": []
          },
          "execution_count": 145
        }
      ]
    },
    {
      "cell_type": "markdown",
      "metadata": {
        "id": "N_KGM3LOHyrW",
        "colab_type": "text"
      },
      "source": [
        "## Use scikit-learn for linear regression, with 2 features"
      ]
    },
    {
      "cell_type": "markdown",
      "metadata": {
        "id": "Z_79qOeAH2ZU",
        "colab_type": "text"
      },
      "source": [
        "Follow the process from Jake VanderPlas, [Python Data Science Handbook, Chapter 5.2, Introducing Scikit-Learn](https://jakevdp.github.io/PythonDataScienceHandbook/05.02-introducing-scikit-learn.html), Scikit-Learn's Estimator API\n",
        "\n",
        "### Choose a class of model by importing the appropriate estimator class from Scikit-Learn"
      ]
    },
    {
      "cell_type": "code",
      "metadata": {
        "id": "E26qduGiH2_y",
        "colab_type": "code",
        "colab": {}
      },
      "source": [
        "from sklearn.linear_model import LinearRegression"
      ],
      "execution_count": null,
      "outputs": []
    },
    {
      "cell_type": "markdown",
      "metadata": {
        "id": "--7julXYH3oC",
        "colab_type": "text"
      },
      "source": [
        "### Choose model hyperparameters by instantiating this class with desired values"
      ]
    },
    {
      "cell_type": "code",
      "metadata": {
        "id": "BkkoMxbsIXLR",
        "colab_type": "code",
        "colab": {}
      },
      "source": [
        "model = LinearRegression()"
      ],
      "execution_count": null,
      "outputs": []
    },
    {
      "cell_type": "markdown",
      "metadata": {
        "id": "pJNRFvK9IeWU",
        "colab_type": "text"
      },
      "source": [
        "### Arrange data into X features matrix and y target vector"
      ]
    },
    {
      "cell_type": "code",
      "metadata": {
        "id": "2290BJszIgrb",
        "colab_type": "code",
        "colab": {}
      },
      "source": [
        "features = ['Average Recent Growth in Personal Incomes', \n",
        "            'US Military Fatalities per Million']\n",
        "\n",
        "target = 'Incumbent Party Vote Share'\n",
        "\n",
        "X = df[features]\n",
        "y = df[target]"
      ],
      "execution_count": null,
      "outputs": []
    },
    {
      "cell_type": "markdown",
      "metadata": {
        "id": "BOa5Uj4jIjDR",
        "colab_type": "text"
      },
      "source": [
        "### Fit the model to your data by calling the `fit()` method of the model instance"
      ]
    },
    {
      "cell_type": "code",
      "metadata": {
        "id": "VZAUSsY0IjWa",
        "colab_type": "code",
        "colab": {
          "base_uri": "https://localhost:8080/",
          "height": 54
        },
        "outputId": "27723935-6000-4f3c-8d16-191c49e7bcb4"
      },
      "source": [
        "model.fit(X, y)"
      ],
      "execution_count": null,
      "outputs": [
        {
          "output_type": "execute_result",
          "data": {
            "text/plain": [
              "LinearRegression(copy_X=True, fit_intercept=True, n_jobs=None, normalize=False)"
            ]
          },
          "metadata": {
            "tags": []
          },
          "execution_count": 149
        }
      ]
    },
    {
      "cell_type": "markdown",
      "metadata": {
        "id": "8GEyW2B3Imr2",
        "colab_type": "text"
      },
      "source": [
        "### Apply the Model to new data: For supervised learning, often we predict labels for unknown data using the `predict()` method"
      ]
    },
    {
      "cell_type": "code",
      "metadata": {
        "id": "3ubKZVRJInLV",
        "colab_type": "code",
        "colab": {}
      },
      "source": [
        "y_pred = model.predict(X)"
      ],
      "execution_count": null,
      "outputs": []
    },
    {
      "cell_type": "markdown",
      "metadata": {
        "id": "MDbG8jreI8Ip",
        "colab_type": "text"
      },
      "source": [
        "## Use regression metric: MAE"
      ]
    },
    {
      "cell_type": "code",
      "metadata": {
        "id": "xCs--47RI-He",
        "colab_type": "code",
        "colab": {
          "base_uri": "https://localhost:8080/",
          "height": 34
        },
        "outputId": "da496379-4833-43dd-d07e-090301b59ffa"
      },
      "source": [
        "mean_absolute_error(y, y_pred)"
      ],
      "execution_count": null,
      "outputs": [
        {
          "output_type": "execute_result",
          "data": {
            "text/plain": [
              "1.3975663494016117"
            ]
          },
          "metadata": {
            "tags": []
          },
          "execution_count": 151
        }
      ]
    },
    {
      "cell_type": "code",
      "metadata": {
        "id": "UoM9pDrRuMRM",
        "colab_type": "code",
        "colab": {
          "base_uri": "https://localhost:8080/",
          "height": 654
        },
        "outputId": "ae3467ec-95a6-47e1-8c2d-406ff7f210b4"
      },
      "source": [
        "df['Linear Regression, 2 features'] = y_pred\n",
        "df['Error'] = y_pred - df[target]\n",
        "df['Absolute Error'] = df['Error'].abs()\n",
        "df"
      ],
      "execution_count": null,
      "outputs": [
        {
          "output_type": "execute_result",
          "data": {
            "text/html": [
              "<div>\n",
              "<style scoped>\n",
              "    .dataframe tbody tr th:only-of-type {\n",
              "        vertical-align: middle;\n",
              "    }\n",
              "\n",
              "    .dataframe tbody tr th {\n",
              "        vertical-align: top;\n",
              "    }\n",
              "\n",
              "    .dataframe thead th {\n",
              "        text-align: right;\n",
              "    }\n",
              "</style>\n",
              "<table border=\"1\" class=\"dataframe\">\n",
              "  <thead>\n",
              "    <tr style=\"text-align: right;\">\n",
              "      <th></th>\n",
              "      <th>Year</th>\n",
              "      <th>Incumbent Party Candidate</th>\n",
              "      <th>Other Candidate</th>\n",
              "      <th>Incumbent Party Vote Share</th>\n",
              "      <th>Average Recent Growth in Personal Incomes</th>\n",
              "      <th>US Military Fatalities per Million</th>\n",
              "      <th>Mean Baseline</th>\n",
              "      <th>Error</th>\n",
              "      <th>Absolute Error</th>\n",
              "      <th>Linear Regression, 1 feature</th>\n",
              "      <th>Linear Regression, 2 features</th>\n",
              "    </tr>\n",
              "  </thead>\n",
              "  <tbody>\n",
              "    <tr>\n",
              "      <th>0</th>\n",
              "      <td>1952</td>\n",
              "      <td>Stevenson</td>\n",
              "      <td>Eisenhower</td>\n",
              "      <td>44.60</td>\n",
              "      <td>2.40</td>\n",
              "      <td>190</td>\n",
              "      <td>51.828235</td>\n",
              "      <td>0.247507</td>\n",
              "      <td>0.247507</td>\n",
              "      <td>53.637235</td>\n",
              "      <td>44.847507</td>\n",
              "    </tr>\n",
              "    <tr>\n",
              "      <th>1</th>\n",
              "      <td>1956</td>\n",
              "      <td>Eisenhower</td>\n",
              "      <td>Stevenson</td>\n",
              "      <td>57.76</td>\n",
              "      <td>2.89</td>\n",
              "      <td>0</td>\n",
              "      <td>51.828235</td>\n",
              "      <td>-1.030524</td>\n",
              "      <td>1.030524</td>\n",
              "      <td>55.094582</td>\n",
              "      <td>56.729476</td>\n",
              "    </tr>\n",
              "    <tr>\n",
              "      <th>2</th>\n",
              "      <td>1960</td>\n",
              "      <td>Nixon</td>\n",
              "      <td>Kennedy</td>\n",
              "      <td>49.91</td>\n",
              "      <td>0.85</td>\n",
              "      <td>0</td>\n",
              "      <td>51.828235</td>\n",
              "      <td>-0.129201</td>\n",
              "      <td>0.129201</td>\n",
              "      <td>49.027260</td>\n",
              "      <td>49.780799</td>\n",
              "    </tr>\n",
              "    <tr>\n",
              "      <th>3</th>\n",
              "      <td>1964</td>\n",
              "      <td>Johnson</td>\n",
              "      <td>Goldwater</td>\n",
              "      <td>61.34</td>\n",
              "      <td>4.21</td>\n",
              "      <td>1</td>\n",
              "      <td>51.828235</td>\n",
              "      <td>-0.168074</td>\n",
              "      <td>0.168074</td>\n",
              "      <td>59.020495</td>\n",
              "      <td>61.171926</td>\n",
              "    </tr>\n",
              "    <tr>\n",
              "      <th>4</th>\n",
              "      <td>1968</td>\n",
              "      <td>Humphrey</td>\n",
              "      <td>Nixon</td>\n",
              "      <td>49.60</td>\n",
              "      <td>3.02</td>\n",
              "      <td>146</td>\n",
              "      <td>51.828235</td>\n",
              "      <td>-0.275542</td>\n",
              "      <td>0.275542</td>\n",
              "      <td>55.481225</td>\n",
              "      <td>49.324458</td>\n",
              "    </tr>\n",
              "    <tr>\n",
              "      <th>5</th>\n",
              "      <td>1972</td>\n",
              "      <td>Nixon</td>\n",
              "      <td>McGovern</td>\n",
              "      <td>61.79</td>\n",
              "      <td>3.62</td>\n",
              "      <td>0</td>\n",
              "      <td>51.828235</td>\n",
              "      <td>-2.573988</td>\n",
              "      <td>2.573988</td>\n",
              "      <td>57.265731</td>\n",
              "      <td>59.216012</td>\n",
              "    </tr>\n",
              "    <tr>\n",
              "      <th>6</th>\n",
              "      <td>1976</td>\n",
              "      <td>Ford</td>\n",
              "      <td>Carter</td>\n",
              "      <td>48.95</td>\n",
              "      <td>1.08</td>\n",
              "      <td>2</td>\n",
              "      <td>51.828235</td>\n",
              "      <td>1.506724</td>\n",
              "      <td>1.506724</td>\n",
              "      <td>49.711321</td>\n",
              "      <td>50.456724</td>\n",
              "    </tr>\n",
              "    <tr>\n",
              "      <th>7</th>\n",
              "      <td>1980</td>\n",
              "      <td>Carter</td>\n",
              "      <td>Reagan</td>\n",
              "      <td>44.70</td>\n",
              "      <td>-0.39</td>\n",
              "      <td>0</td>\n",
              "      <td>51.828235</td>\n",
              "      <td>0.857093</td>\n",
              "      <td>0.857093</td>\n",
              "      <td>45.339281</td>\n",
              "      <td>45.557093</td>\n",
              "    </tr>\n",
              "    <tr>\n",
              "      <th>8</th>\n",
              "      <td>1984</td>\n",
              "      <td>Reagan</td>\n",
              "      <td>Mondale</td>\n",
              "      <td>59.17</td>\n",
              "      <td>3.86</td>\n",
              "      <td>0</td>\n",
              "      <td>51.828235</td>\n",
              "      <td>0.863503</td>\n",
              "      <td>0.863503</td>\n",
              "      <td>57.979533</td>\n",
              "      <td>60.033503</td>\n",
              "    </tr>\n",
              "    <tr>\n",
              "      <th>9</th>\n",
              "      <td>1988</td>\n",
              "      <td>Bush, Sr.</td>\n",
              "      <td>Dukakis</td>\n",
              "      <td>53.94</td>\n",
              "      <td>2.27</td>\n",
              "      <td>0</td>\n",
              "      <td>51.828235</td>\n",
              "      <td>0.677623</td>\n",
              "      <td>0.677623</td>\n",
              "      <td>53.250592</td>\n",
              "      <td>54.617623</td>\n",
              "    </tr>\n",
              "    <tr>\n",
              "      <th>10</th>\n",
              "      <td>1992</td>\n",
              "      <td>Bush, Sr.</td>\n",
              "      <td>Clinton</td>\n",
              "      <td>46.55</td>\n",
              "      <td>0.38</td>\n",
              "      <td>0</td>\n",
              "      <td>51.828235</td>\n",
              "      <td>1.629878</td>\n",
              "      <td>1.629878</td>\n",
              "      <td>47.629397</td>\n",
              "      <td>48.179878</td>\n",
              "    </tr>\n",
              "    <tr>\n",
              "      <th>11</th>\n",
              "      <td>1996</td>\n",
              "      <td>Clinton</td>\n",
              "      <td>Dole</td>\n",
              "      <td>54.74</td>\n",
              "      <td>1.04</td>\n",
              "      <td>0</td>\n",
              "      <td>51.828235</td>\n",
              "      <td>-4.312020</td>\n",
              "      <td>4.312020</td>\n",
              "      <td>49.592354</td>\n",
              "      <td>50.427980</td>\n",
              "    </tr>\n",
              "    <tr>\n",
              "      <th>12</th>\n",
              "      <td>2000</td>\n",
              "      <td>Gore</td>\n",
              "      <td>Bush, Jr.</td>\n",
              "      <td>50.27</td>\n",
              "      <td>2.36</td>\n",
              "      <td>0</td>\n",
              "      <td>51.828235</td>\n",
              "      <td>4.654182</td>\n",
              "      <td>4.654182</td>\n",
              "      <td>53.518268</td>\n",
              "      <td>54.924182</td>\n",
              "    </tr>\n",
              "    <tr>\n",
              "      <th>13</th>\n",
              "      <td>2004</td>\n",
              "      <td>Bush, Jr.</td>\n",
              "      <td>Kerry</td>\n",
              "      <td>51.24</td>\n",
              "      <td>1.72</td>\n",
              "      <td>4</td>\n",
              "      <td>51.828235</td>\n",
              "      <td>1.289196</td>\n",
              "      <td>1.289196</td>\n",
              "      <td>51.614794</td>\n",
              "      <td>52.529196</td>\n",
              "    </tr>\n",
              "    <tr>\n",
              "      <th>14</th>\n",
              "      <td>2008</td>\n",
              "      <td>McCain</td>\n",
              "      <td>Obama</td>\n",
              "      <td>46.32</td>\n",
              "      <td>0.10</td>\n",
              "      <td>14</td>\n",
              "      <td>51.828235</td>\n",
              "      <td>0.153607</td>\n",
              "      <td>0.153607</td>\n",
              "      <td>46.796627</td>\n",
              "      <td>46.473607</td>\n",
              "    </tr>\n",
              "    <tr>\n",
              "      <th>15</th>\n",
              "      <td>2012</td>\n",
              "      <td>Obama</td>\n",
              "      <td>Romney</td>\n",
              "      <td>52.00</td>\n",
              "      <td>0.95</td>\n",
              "      <td>5</td>\n",
              "      <td>51.828235</td>\n",
              "      <td>-2.147341</td>\n",
              "      <td>2.147341</td>\n",
              "      <td>49.324678</td>\n",
              "      <td>49.852659</td>\n",
              "    </tr>\n",
              "    <tr>\n",
              "      <th>16</th>\n",
              "      <td>2016</td>\n",
              "      <td>Clinton</td>\n",
              "      <td>Trump</td>\n",
              "      <td>48.20</td>\n",
              "      <td>0.10</td>\n",
              "      <td>5</td>\n",
              "      <td>51.828235</td>\n",
              "      <td>-1.242623</td>\n",
              "      <td>1.242623</td>\n",
              "      <td>46.796627</td>\n",
              "      <td>46.957377</td>\n",
              "    </tr>\n",
              "  </tbody>\n",
              "</table>\n",
              "</div>"
            ],
            "text/plain": [
              "    Year  ... Linear Regression, 2 features\n",
              "0   1952  ...                     44.847507\n",
              "1   1956  ...                     56.729476\n",
              "2   1960  ...                     49.780799\n",
              "3   1964  ...                     61.171926\n",
              "4   1968  ...                     49.324458\n",
              "5   1972  ...                     59.216012\n",
              "6   1976  ...                     50.456724\n",
              "7   1980  ...                     45.557093\n",
              "8   1984  ...                     60.033503\n",
              "9   1988  ...                     54.617623\n",
              "10  1992  ...                     48.179878\n",
              "11  1996  ...                     50.427980\n",
              "12  2000  ...                     54.924182\n",
              "13  2004  ...                     52.529196\n",
              "14  2008  ...                     46.473607\n",
              "15  2012  ...                     49.852659\n",
              "16  2016  ...                     46.957377\n",
              "\n",
              "[17 rows x 11 columns]"
            ]
          },
          "metadata": {
            "tags": []
          },
          "execution_count": 152
        }
      ]
    },
    {
      "cell_type": "markdown",
      "metadata": {
        "id": "LQ-D8LNCUJsb",
        "colab_type": "text"
      },
      "source": [
        "## Do test-train split\n",
        "\n",
        "[Nate Silver's post on economic elections models](https://fivethirtyeight.com/features/what-do-economic-models-really-tell-us-about-elections/) discusses out-of-sample testing.\n"
      ]
    },
    {
      "cell_type": "code",
      "metadata": {
        "id": "7N8dQSBOUPLF",
        "colab_type": "code",
        "colab": {
          "base_uri": "https://localhost:8080/",
          "height": 34
        },
        "outputId": "12d1d478-a335-4235-e56e-223e4d1e8b69"
      },
      "source": [
        "train = df.query('Year < 2008')\n",
        "test  = df.query('Year >= 2008')\n",
        "X_train = train[features] \n",
        "y_train = train[target]\n",
        "X_test  = test[features]\n",
        "y_test  = test[target]\n",
        "\n",
        "X_train.shape, y_train.shape, X_test.shape, y_test.shape"
      ],
      "execution_count": null,
      "outputs": [
        {
          "output_type": "execute_result",
          "data": {
            "text/plain": [
              "((14, 2), (14,), (3, 2), (3,))"
            ]
          },
          "metadata": {
            "tags": []
          },
          "execution_count": 153
        }
      ]
    },
    {
      "cell_type": "code",
      "metadata": {
        "id": "_gC6L1owulgJ",
        "colab_type": "code",
        "colab": {
          "base_uri": "https://localhost:8080/",
          "height": 54
        },
        "outputId": "8a2cd6cc-b6f7-4e04-ac8e-c69ac3334af0"
      },
      "source": [
        "model.fit(X_train, y_train)"
      ],
      "execution_count": null,
      "outputs": [
        {
          "output_type": "execute_result",
          "data": {
            "text/plain": [
              "LinearRegression(copy_X=True, fit_intercept=True, n_jobs=None, normalize=False)"
            ]
          },
          "metadata": {
            "tags": []
          },
          "execution_count": 154
        }
      ]
    },
    {
      "cell_type": "code",
      "metadata": {
        "id": "QK-BSDk4vRRK",
        "colab_type": "code",
        "colab": {
          "base_uri": "https://localhost:8080/",
          "height": 34
        },
        "outputId": "cbe7ca52-e9d7-4ace-a11b-bae4fdc35602"
      },
      "source": [
        "y_pred = model.predict(X_test)\n",
        "\n",
        "y_pred"
      ],
      "execution_count": null,
      "outputs": [
        {
          "output_type": "execute_result",
          "data": {
            "text/plain": [
              "array([45.86970509, 49.39965918, 46.34811893])"
            ]
          },
          "metadata": {
            "tags": []
          },
          "execution_count": 155
        }
      ]
    },
    {
      "cell_type": "code",
      "metadata": {
        "id": "dmRXVyAAvXU-",
        "colab_type": "code",
        "colab": {
          "base_uri": "https://localhost:8080/",
          "height": 84
        },
        "outputId": "4a37f138-b7e3-4d6c-a65d-77bb61c24fc9"
      },
      "source": [
        "y_test"
      ],
      "execution_count": null,
      "outputs": [
        {
          "output_type": "execute_result",
          "data": {
            "text/plain": [
              "14    46.32\n",
              "15    52.00\n",
              "16    48.20\n",
              "Name: Incumbent Party Vote Share, dtype: float64"
            ]
          },
          "metadata": {
            "tags": []
          },
          "execution_count": 156
        }
      ]
    },
    {
      "cell_type": "code",
      "metadata": {
        "id": "bIdEbHpfvacQ",
        "colab_type": "code",
        "colab": {
          "base_uri": "https://localhost:8080/",
          "height": 34
        },
        "outputId": "72e5efe3-f518-4717-8beb-543855e83641"
      },
      "source": [
        "mean_absolute_error(y_test, y_pred)"
      ],
      "execution_count": null,
      "outputs": [
        {
          "output_type": "execute_result",
          "data": {
            "text/plain": [
              "1.6341722692537293"
            ]
          },
          "metadata": {
            "tags": []
          },
          "execution_count": 157
        }
      ]
    },
    {
      "cell_type": "markdown",
      "metadata": {
        "id": "uZp_TyR9Tg9A",
        "colab_type": "text"
      },
      "source": [
        "## Do leave-one-out cross-validation\n",
        "\n",
        "\n",
        "[Sebastian Raschka's chart](https://sebastianraschka.com/images/blog/2018/model-evaluation-selection-part4/model-eval-conclusions.jpg) shows that \"leave-one-out cross-validation\" is an option for small datasets."
      ]
    },
    {
      "cell_type": "code",
      "metadata": {
        "id": "avlXCUIAI-lL",
        "colab_type": "code",
        "colab": {
          "base_uri": "https://localhost:8080/",
          "height": 605
        },
        "outputId": "c61e0778-2c81-4c05-e158-5859e14a1610"
      },
      "source": [
        "# Choose a class of model by importing the appropriate estimator class\n",
        "from sklearn.linear_model import LinearRegression\n",
        "\n",
        "print('Leave-One-Out Cross-Validation, Do-It-Yourself implementation:')\n",
        "\n",
        "maes = []\n",
        "\n",
        "for year in df['Year']:\n",
        "    print(f'Fit Linear Regression on all years except {year}')\n",
        "    \n",
        "    # Choose model hyperparamaters by instantiating this class\n",
        "    model = LinearRegression()\n",
        "    \n",
        "    # Arrange data into X features matrix and y target vector\n",
        "    train = df[df['Year'] != year]\n",
        "    test = df[df['Year'] == year]\n",
        "    X_train = train[features]\n",
        "    y_train = train[target]\n",
        "    X_test = test[features]\n",
        "    y_test = test[target]\n",
        "    \n",
        "    # Fit the model to your data by calling the fit() method of the estimator\n",
        "    model.fit(X_train, y_train)\n",
        "    \n",
        "    # Apply the model to new data: predict labels for unknown data using predict() method\n",
        "    y_pred = model.predict(X_test)\n",
        "    \n",
        "    mae = mean_absolute_error(y_test, y_pred)\n",
        "    maes.append(mae)\n",
        "    print(f'Absolute Error on prediction for {year} = {mae}')\n",
        "    "
      ],
      "execution_count": null,
      "outputs": [
        {
          "output_type": "stream",
          "text": [
            "Leave-One-Out Cross-Validation, Do-It-Yourself implementation:\n",
            "Fit Linear Regression on all years except 1952\n",
            "Absolute Error on prediction for 1952 = 0.6710286794539044\n",
            "Fit Linear Regression on all years except 1956\n",
            "Absolute Error on prediction for 1956 = 1.1652530150273535\n",
            "Fit Linear Regression on all years except 1960\n",
            "Absolute Error on prediction for 1960 = 0.14204849628617922\n",
            "Fit Linear Regression on all years except 1964\n",
            "Absolute Error on prediction for 1964 = 0.23142167116768775\n",
            "Fit Linear Regression on all years except 1968\n",
            "Absolute Error on prediction for 1968 = 0.44497540045065165\n",
            "Fit Linear Regression on all years except 1972\n",
            "Absolute Error on prediction for 1972 = 3.1780175021763313\n",
            "Fit Linear Regression on all years except 1976\n",
            "Absolute Error on prediction for 1976 = 1.635190786562319\n",
            "Fit Linear Regression on all years except 1980\n",
            "Absolute Error on prediction for 1980 = 1.0804837297850156\n",
            "Fit Linear Regression on all years except 1984\n",
            "Absolute Error on prediction for 1984 = 1.1100047214006281\n",
            "Fit Linear Regression on all years except 1988\n",
            "Absolute Error on prediction for 1988 = 0.73613108287514\n",
            "Fit Linear Regression on all years except 1992\n",
            "Absolute Error on prediction for 1992 = 1.8580821828262302\n",
            "Fit Linear Regression on all years except 1996\n",
            "Absolute Error on prediction for 1996 = 4.694196191616342\n",
            "Fit Linear Regression on all years except 2000\n",
            "Absolute Error on prediction for 2000 = 5.0764595548209215\n",
            "Fit Linear Regression on all years except 2004\n",
            "Absolute Error on prediction for 2004 = 1.3788977163226477\n",
            "Fit Linear Regression on all years except 2008\n",
            "Absolute Error on prediction for 2008 = 0.18035709301712188\n",
            "Fit Linear Regression on all years except 2012\n",
            "Absolute Error on prediction for 2012 = 2.3412315153300085\n",
            "Fit Linear Regression on all years except 2016\n",
            "Absolute Error on prediction for 2016 = 1.458044197718813\n"
          ],
          "name": "stdout"
        }
      ]
    },
    {
      "cell_type": "code",
      "metadata": {
        "id": "g3-BaMtOxhmc",
        "colab_type": "code",
        "colab": {
          "base_uri": "https://localhost:8080/",
          "height": 34
        },
        "outputId": "192d3e8f-a353-4074-c290-0183ba5a52e3"
      },
      "source": [
        "# Leave-One-Out Cross-Validation Mean Absolute Error\n",
        "pd.Series(maes).mean()"
      ],
      "execution_count": null,
      "outputs": [
        {
          "output_type": "execute_result",
          "data": {
            "text/plain": [
              "1.6106955021668998"
            ]
          },
          "metadata": {
            "tags": []
          },
          "execution_count": 159
        }
      ]
    },
    {
      "cell_type": "markdown",
      "metadata": {
        "id": "KxbxANM-JHdv",
        "colab_type": "text"
      },
      "source": [
        "## Assignment\n",
        "\n",
        "#### Predict presidential election voting, with two features you choose!\n",
        "- Start a new notebook.\n",
        "- You may reuse one of the features from the \"Bread & Peace\" model.\n",
        "- **Acquire data for at least one new feature.** The links below may help!\n",
        "- Commit your notebook to your fork of the GitHub repo.\n",
        "\n",
        "#### Why I'm asking you to acquire data for at least one new [feature](https://en.wikipedia.org/wiki/Feature_engineering)\n",
        "\n",
        "> \"Some machine learning projects succeed and some fail. What makes the difference? Easily the most important factor is the features used.\" — Pedro Domingos, [\"A Few Useful Things to Know about Machine Learning\"](https://homes.cs.washington.edu/~pedrod/papers/cacm12.pdf)\n",
        "\n",
        "> \"Coming up with features is difficult, time-consuming, requires expert knowledge. 'Applied machine learning' is basically feature engineering.\" — Andrew Ng, [Machine Learning and AI via Brain simulations](https://forum.stanford.edu/events/2011/2011slides/plenary/2011plenaryNg.pdf) \n",
        "\n",
        "> Feature engineering is the process of using domain knowledge of the data to create features that make machine learning algorithms work. \n",
        "\n",
        "#### You can search [FRED (Federal Reserve Bank of St. Louis)](https://fred.stlouisfed.org/) for these keywords\n",
        "- real disposable income change annual\n",
        "- gdp change annual\n",
        "- unemployment \n",
        "\n",
        "#### Go to [BEA (Bureau of Economic Analysis)](https://apps.bea.gov/itable/) and follow these steps\n",
        "- National Data - GDP & Personal Income\n",
        "- Begin using the data\n",
        "- Section 1 - DOMESTIC PRODUCT AND INCOME\n",
        "- Table 1.17.1. Percent Change From Preceding Period in Real Gross Domestic Product, Real Gross Domestic Income, and Other Major NIPA Aggregates\n",
        "- Modify\n",
        "  - First Year: 1947\n",
        "  - Last Year: 2018\n",
        "  - Series: Annual\n",
        "  - Refresh Table\n",
        "- Download\n",
        "\n",
        "#### Go to Wikipedia, [United States military casualties of war, Wars ranked by total number of U.S. military deaths](https://en.wikipedia.org/wiki/United_States_military_casualties_of_war#Wars_ranked_by_total_number_of_U.S._military_deaths)\n",
        "- You can try this tutorial to scrape data from HTML tables: [Quick Tip: The easiest way to grab data out of a web page in Python](https://medium.com/@ageitgey/quick-tip-the-easiest-way-to-grab-data-out-of-a-web-page-in-python-7153cecfca58)\n",
        "\n",
        "#### Read more about economic features to predict elections\n",
        "- [Which Economic Indicators Best Predict Presidential Elections?](https://fivethirtyeight.blogs.nytimes.com/2011/11/18/which-economic-indicators-best-predict-presidential-elections/)\n",
        "- [What stat best gets at the question, \"Are you better off now than you were a year ago?\"](https://www.theatlantic.com/business/archive/2010/11/the-most-important-economic-indicator-in-midterm-elections/65505/)\n",
        "- [Time for change model](https://pollyvote.com/en/components/econometric-models/time-for-change-model/)\n",
        "\n",
        "\n",
        "#### You can try for a \"serious\" model or a \"spurious\" model. Here are more data sources you can try\n",
        "- [Tyler Vigen, Spurious Correlations, Discover a Correlation](https://tylervigen.com/discover)\n",
        "- [CDC (Centers for Disease Control), Compressed Mortality data](https://wonder.cdc.gov/mortSQL.html)\n",
        "- [Data Is Plural](https://tinyletter.com/data-is-plural)\n",
        "- [Gapminder](https://github.com/open-numbers/ddf--gapminder--systema_globalis/)\n",
        "- [Campaign Finance Institute, Historical Stats](http://www.cfinst.org/data/historicalstats.aspx)\n",
        "- Or find your own data and features to try!\n",
        "\n",
        "\n",
        "\n"
      ]
    },
    {
      "cell_type": "code",
      "metadata": {
        "id": "hqzSabyIHHcu",
        "colab_type": "code",
        "colab": {
          "resources": {
            "http://localhost:8080/nbextensions/google.colab/files.js": {
              "data": "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",
              "ok": true,
              "headers": [
                [
                  "content-type",
                  "application/javascript"
                ]
              ],
              "status": 200,
              "status_text": ""
            }
          },
          "base_uri": "https://localhost:8080/",
          "height": 37
        },
        "outputId": "910c1cbe-3276-4306-fd66-85d99b308744"
      },
      "source": [
        "from google.colab import files\n",
        "uploaded  =  files.upload()"
      ],
      "execution_count": null,
      "outputs": [
        {
          "output_type": "display_data",
          "data": {
            "text/html": [
              "\n",
              "     <input type=\"file\" id=\"files-62defb2f-e8f0-4700-b89b-6360f77edd69\" name=\"files[]\" multiple disabled />\n",
              "     <output id=\"result-62defb2f-e8f0-4700-b89b-6360f77edd69\">\n",
              "      Upload widget is only available when the cell has been executed in the\n",
              "      current browser session. Please rerun this cell to enable.\n",
              "      </output>\n",
              "      <script src=\"/nbextensions/google.colab/files.js\"></script> "
            ],
            "text/plain": [
              "<IPython.core.display.HTML object>"
            ]
          },
          "metadata": {
            "tags": []
          }
        }
      ]
    },
    {
      "cell_type": "code",
      "metadata": {
        "id": "OH_OcMAJHMTe",
        "colab_type": "code",
        "colab": {}
      },
      "source": [
        "debt = pd.read_csv('nationaldebt1929t02019withmajorevents - Sheet1.csv')"
      ],
      "execution_count": null,
      "outputs": []
    },
    {
      "cell_type": "code",
      "metadata": {
        "id": "OnkAUnEYHpQN",
        "colab_type": "code",
        "colab": {
          "base_uri": "https://localhost:8080/",
          "height": 246
        },
        "outputId": "a94a805e-ecfd-47f2-9799-0d46200de521"
      },
      "source": [
        "print(debt.shape)\n",
        "\n",
        "debt.tail()"
      ],
      "execution_count": null,
      "outputs": [
        {
          "output_type": "stream",
          "text": [
            "(20, 4)\n"
          ],
          "name": "stdout"
        },
        {
          "output_type": "execute_result",
          "data": {
            "text/html": [
              "<div>\n",
              "<style scoped>\n",
              "    .dataframe tbody tr th:only-of-type {\n",
              "        vertical-align: middle;\n",
              "    }\n",
              "\n",
              "    .dataframe tbody tr th {\n",
              "        vertical-align: top;\n",
              "    }\n",
              "\n",
              "    .dataframe thead th {\n",
              "        text-align: right;\n",
              "    }\n",
              "</style>\n",
              "<table border=\"1\" class=\"dataframe\">\n",
              "  <thead>\n",
              "    <tr style=\"text-align: right;\">\n",
              "      <th></th>\n",
              "      <th>End of Fiscal Year</th>\n",
              "      <th>Debt (as of 9/30, in billions)</th>\n",
              "      <th>Debt/ GDP Ratio</th>\n",
              "      <th>Major Events by Presidential Term</th>\n",
              "    </tr>\n",
              "  </thead>\n",
              "  <tbody>\n",
              "    <tr>\n",
              "      <th>15</th>\n",
              "      <td>2012</td>\n",
              "      <td>16,066.00</td>\n",
              "      <td>0.99</td>\n",
              "      <td>Fiscal cliff</td>\n",
              "    </tr>\n",
              "    <tr>\n",
              "      <th>16</th>\n",
              "      <td>2016</td>\n",
              "      <td>19,573.00</td>\n",
              "      <td>1.04</td>\n",
              "      <td>Defense = $767.6 b.</td>\n",
              "    </tr>\n",
              "    <tr>\n",
              "      <th>17</th>\n",
              "      <td>2017</td>\n",
              "      <td>20,245.00</td>\n",
              "      <td>1.03</td>\n",
              "      <td>Congress raised debt ceiling.</td>\n",
              "    </tr>\n",
              "    <tr>\n",
              "      <th>18</th>\n",
              "      <td>2018</td>\n",
              "      <td>21,516.00</td>\n",
              "      <td>1.05</td>\n",
              "      <td>Trump tax cuts.</td>\n",
              "    </tr>\n",
              "    <tr>\n",
              "      <th>19</th>\n",
              "      <td>2019</td>\n",
              "      <td>22,776.00</td>\n",
              "      <td>1.06</td>\n",
              "      <td>Defense = $956.5 b.</td>\n",
              "    </tr>\n",
              "  </tbody>\n",
              "</table>\n",
              "</div>"
            ],
            "text/plain": [
              "    End of Fiscal Year  ... Major Events by Presidential Term\n",
              "15                2012  ...                      Fiscal cliff\n",
              "16                2016  ...               Defense = $767.6 b.\n",
              "17                2017  ...     Congress raised debt ceiling.\n",
              "18                2018  ...                   Trump tax cuts.\n",
              "19                2019  ...               Defense = $956.5 b.\n",
              "\n",
              "[5 rows x 4 columns]"
            ]
          },
          "metadata": {
            "tags": []
          },
          "execution_count": 162
        }
      ]
    },
    {
      "cell_type": "code",
      "metadata": {
        "id": "rszrTPGkJg53",
        "colab_type": "code",
        "colab": {
          "base_uri": "https://localhost:8080/",
          "height": 212
        },
        "outputId": "b524864f-2f67-423c-b1d5-db65d194ab1d"
      },
      "source": [
        "debt.rename(columns={'End of Fiscal Year':'Year'}, inplace=True)\n",
        "debt.head()\n"
      ],
      "execution_count": null,
      "outputs": [
        {
          "output_type": "execute_result",
          "data": {
            "text/html": [
              "<div>\n",
              "<style scoped>\n",
              "    .dataframe tbody tr th:only-of-type {\n",
              "        vertical-align: middle;\n",
              "    }\n",
              "\n",
              "    .dataframe tbody tr th {\n",
              "        vertical-align: top;\n",
              "    }\n",
              "\n",
              "    .dataframe thead th {\n",
              "        text-align: right;\n",
              "    }\n",
              "</style>\n",
              "<table border=\"1\" class=\"dataframe\">\n",
              "  <thead>\n",
              "    <tr style=\"text-align: right;\">\n",
              "      <th></th>\n",
              "      <th>Year</th>\n",
              "      <th>Debt (as of 9/30, in billions)</th>\n",
              "      <th>Debt/ GDP Ratio</th>\n",
              "      <th>Major Events by Presidential Term</th>\n",
              "    </tr>\n",
              "  </thead>\n",
              "  <tbody>\n",
              "    <tr>\n",
              "      <th>0</th>\n",
              "      <td>1952</td>\n",
              "      <td>259.00</td>\n",
              "      <td>0.72</td>\n",
              "      <td>NaN</td>\n",
              "    </tr>\n",
              "    <tr>\n",
              "      <th>1</th>\n",
              "      <td>1956</td>\n",
              "      <td>273.00</td>\n",
              "      <td>0.61</td>\n",
              "      <td>NaN</td>\n",
              "    </tr>\n",
              "    <tr>\n",
              "      <th>2</th>\n",
              "      <td>1960</td>\n",
              "      <td>286.00</td>\n",
              "      <td>0.53</td>\n",
              "      <td>Recession.</td>\n",
              "    </tr>\n",
              "    <tr>\n",
              "      <th>3</th>\n",
              "      <td>1964</td>\n",
              "      <td>312.00</td>\n",
              "      <td>0.46</td>\n",
              "      <td>LBJ's budgets. War on poverty.</td>\n",
              "    </tr>\n",
              "    <tr>\n",
              "      <th>4</th>\n",
              "      <td>1968</td>\n",
              "      <td>348.00</td>\n",
              "      <td>0.37</td>\n",
              "      <td>Moon landing.</td>\n",
              "    </tr>\n",
              "  </tbody>\n",
              "</table>\n",
              "</div>"
            ],
            "text/plain": [
              "   Year  ... Major Events by Presidential Term\n",
              "0  1952  ...                               NaN\n",
              "1  1956  ...                               NaN\n",
              "2  1960  ...                        Recession.\n",
              "3  1964  ...    LBJ's budgets. War on poverty.\n",
              "4  1968  ...                     Moon landing.\n",
              "\n",
              "[5 rows x 4 columns]"
            ]
          },
          "metadata": {
            "tags": []
          },
          "execution_count": 163
        }
      ]
    },
    {
      "cell_type": "code",
      "metadata": {
        "id": "MXVxHYUXH5ye",
        "colab_type": "code",
        "colab": {
          "base_uri": "https://localhost:8080/",
          "height": 316
        },
        "outputId": "521789e0-967d-44fe-b089-b0c5fc017158"
      },
      "source": [
        "print(df.shape)\n",
        "df.tail()"
      ],
      "execution_count": null,
      "outputs": [
        {
          "output_type": "stream",
          "text": [
            "(17, 11)\n"
          ],
          "name": "stdout"
        },
        {
          "output_type": "execute_result",
          "data": {
            "text/html": [
              "<div>\n",
              "<style scoped>\n",
              "    .dataframe tbody tr th:only-of-type {\n",
              "        vertical-align: middle;\n",
              "    }\n",
              "\n",
              "    .dataframe tbody tr th {\n",
              "        vertical-align: top;\n",
              "    }\n",
              "\n",
              "    .dataframe thead th {\n",
              "        text-align: right;\n",
              "    }\n",
              "</style>\n",
              "<table border=\"1\" class=\"dataframe\">\n",
              "  <thead>\n",
              "    <tr style=\"text-align: right;\">\n",
              "      <th></th>\n",
              "      <th>Year</th>\n",
              "      <th>Incumbent Party Candidate</th>\n",
              "      <th>Other Candidate</th>\n",
              "      <th>Incumbent Party Vote Share</th>\n",
              "      <th>Average Recent Growth in Personal Incomes</th>\n",
              "      <th>US Military Fatalities per Million</th>\n",
              "      <th>Mean Baseline</th>\n",
              "      <th>Error</th>\n",
              "      <th>Absolute Error</th>\n",
              "      <th>Linear Regression, 1 feature</th>\n",
              "      <th>Linear Regression, 2 features</th>\n",
              "    </tr>\n",
              "  </thead>\n",
              "  <tbody>\n",
              "    <tr>\n",
              "      <th>12</th>\n",
              "      <td>2000</td>\n",
              "      <td>Gore</td>\n",
              "      <td>Bush, Jr.</td>\n",
              "      <td>50.27</td>\n",
              "      <td>2.36</td>\n",
              "      <td>0</td>\n",
              "      <td>51.828235</td>\n",
              "      <td>4.654182</td>\n",
              "      <td>4.654182</td>\n",
              "      <td>53.518268</td>\n",
              "      <td>54.924182</td>\n",
              "    </tr>\n",
              "    <tr>\n",
              "      <th>13</th>\n",
              "      <td>2004</td>\n",
              "      <td>Bush, Jr.</td>\n",
              "      <td>Kerry</td>\n",
              "      <td>51.24</td>\n",
              "      <td>1.72</td>\n",
              "      <td>4</td>\n",
              "      <td>51.828235</td>\n",
              "      <td>1.289196</td>\n",
              "      <td>1.289196</td>\n",
              "      <td>51.614794</td>\n",
              "      <td>52.529196</td>\n",
              "    </tr>\n",
              "    <tr>\n",
              "      <th>14</th>\n",
              "      <td>2008</td>\n",
              "      <td>McCain</td>\n",
              "      <td>Obama</td>\n",
              "      <td>46.32</td>\n",
              "      <td>0.10</td>\n",
              "      <td>14</td>\n",
              "      <td>51.828235</td>\n",
              "      <td>0.153607</td>\n",
              "      <td>0.153607</td>\n",
              "      <td>46.796627</td>\n",
              "      <td>46.473607</td>\n",
              "    </tr>\n",
              "    <tr>\n",
              "      <th>15</th>\n",
              "      <td>2012</td>\n",
              "      <td>Obama</td>\n",
              "      <td>Romney</td>\n",
              "      <td>52.00</td>\n",
              "      <td>0.95</td>\n",
              "      <td>5</td>\n",
              "      <td>51.828235</td>\n",
              "      <td>-2.147341</td>\n",
              "      <td>2.147341</td>\n",
              "      <td>49.324678</td>\n",
              "      <td>49.852659</td>\n",
              "    </tr>\n",
              "    <tr>\n",
              "      <th>16</th>\n",
              "      <td>2016</td>\n",
              "      <td>Clinton</td>\n",
              "      <td>Trump</td>\n",
              "      <td>48.20</td>\n",
              "      <td>0.10</td>\n",
              "      <td>5</td>\n",
              "      <td>51.828235</td>\n",
              "      <td>-1.242623</td>\n",
              "      <td>1.242623</td>\n",
              "      <td>46.796627</td>\n",
              "      <td>46.957377</td>\n",
              "    </tr>\n",
              "  </tbody>\n",
              "</table>\n",
              "</div>"
            ],
            "text/plain": [
              "    Year  ... Linear Regression, 2 features\n",
              "12  2000  ...                     54.924182\n",
              "13  2004  ...                     52.529196\n",
              "14  2008  ...                     46.473607\n",
              "15  2012  ...                     49.852659\n",
              "16  2016  ...                     46.957377\n",
              "\n",
              "[5 rows x 11 columns]"
            ]
          },
          "metadata": {
            "tags": []
          },
          "execution_count": 164
        }
      ]
    },
    {
      "cell_type": "code",
      "metadata": {
        "id": "AIP6X-fUIpWe",
        "colab_type": "code",
        "colab": {
          "base_uri": "https://localhost:8080/",
          "height": 316
        },
        "outputId": "6917675b-5b22-4148-e40c-017e819f6bb4"
      },
      "source": [
        "dfm = df.merge(debt)\n",
        "dfm.head()"
      ],
      "execution_count": null,
      "outputs": [
        {
          "output_type": "execute_result",
          "data": {
            "text/html": [
              "<div>\n",
              "<style scoped>\n",
              "    .dataframe tbody tr th:only-of-type {\n",
              "        vertical-align: middle;\n",
              "    }\n",
              "\n",
              "    .dataframe tbody tr th {\n",
              "        vertical-align: top;\n",
              "    }\n",
              "\n",
              "    .dataframe thead th {\n",
              "        text-align: right;\n",
              "    }\n",
              "</style>\n",
              "<table border=\"1\" class=\"dataframe\">\n",
              "  <thead>\n",
              "    <tr style=\"text-align: right;\">\n",
              "      <th></th>\n",
              "      <th>Year</th>\n",
              "      <th>Incumbent Party Candidate</th>\n",
              "      <th>Other Candidate</th>\n",
              "      <th>Incumbent Party Vote Share</th>\n",
              "      <th>Average Recent Growth in Personal Incomes</th>\n",
              "      <th>US Military Fatalities per Million</th>\n",
              "      <th>Mean Baseline</th>\n",
              "      <th>Error</th>\n",
              "      <th>Absolute Error</th>\n",
              "      <th>Linear Regression, 1 feature</th>\n",
              "      <th>Linear Regression, 2 features</th>\n",
              "      <th>Debt (as of 9/30, in billions)</th>\n",
              "      <th>Debt/ GDP Ratio</th>\n",
              "      <th>Major Events by Presidential Term</th>\n",
              "    </tr>\n",
              "  </thead>\n",
              "  <tbody>\n",
              "    <tr>\n",
              "      <th>0</th>\n",
              "      <td>1952</td>\n",
              "      <td>Stevenson</td>\n",
              "      <td>Eisenhower</td>\n",
              "      <td>44.60</td>\n",
              "      <td>2.40</td>\n",
              "      <td>190</td>\n",
              "      <td>51.828235</td>\n",
              "      <td>0.247507</td>\n",
              "      <td>0.247507</td>\n",
              "      <td>53.637235</td>\n",
              "      <td>44.847507</td>\n",
              "      <td>259.00</td>\n",
              "      <td>0.72</td>\n",
              "      <td>NaN</td>\n",
              "    </tr>\n",
              "    <tr>\n",
              "      <th>1</th>\n",
              "      <td>1956</td>\n",
              "      <td>Eisenhower</td>\n",
              "      <td>Stevenson</td>\n",
              "      <td>57.76</td>\n",
              "      <td>2.89</td>\n",
              "      <td>0</td>\n",
              "      <td>51.828235</td>\n",
              "      <td>-1.030524</td>\n",
              "      <td>1.030524</td>\n",
              "      <td>55.094582</td>\n",
              "      <td>56.729476</td>\n",
              "      <td>273.00</td>\n",
              "      <td>0.61</td>\n",
              "      <td>NaN</td>\n",
              "    </tr>\n",
              "    <tr>\n",
              "      <th>2</th>\n",
              "      <td>1960</td>\n",
              "      <td>Nixon</td>\n",
              "      <td>Kennedy</td>\n",
              "      <td>49.91</td>\n",
              "      <td>0.85</td>\n",
              "      <td>0</td>\n",
              "      <td>51.828235</td>\n",
              "      <td>-0.129201</td>\n",
              "      <td>0.129201</td>\n",
              "      <td>49.027260</td>\n",
              "      <td>49.780799</td>\n",
              "      <td>286.00</td>\n",
              "      <td>0.53</td>\n",
              "      <td>Recession.</td>\n",
              "    </tr>\n",
              "    <tr>\n",
              "      <th>3</th>\n",
              "      <td>1964</td>\n",
              "      <td>Johnson</td>\n",
              "      <td>Goldwater</td>\n",
              "      <td>61.34</td>\n",
              "      <td>4.21</td>\n",
              "      <td>1</td>\n",
              "      <td>51.828235</td>\n",
              "      <td>-0.168074</td>\n",
              "      <td>0.168074</td>\n",
              "      <td>59.020495</td>\n",
              "      <td>61.171926</td>\n",
              "      <td>312.00</td>\n",
              "      <td>0.46</td>\n",
              "      <td>LBJ's budgets. War on poverty.</td>\n",
              "    </tr>\n",
              "    <tr>\n",
              "      <th>4</th>\n",
              "      <td>1968</td>\n",
              "      <td>Humphrey</td>\n",
              "      <td>Nixon</td>\n",
              "      <td>49.60</td>\n",
              "      <td>3.02</td>\n",
              "      <td>146</td>\n",
              "      <td>51.828235</td>\n",
              "      <td>-0.275542</td>\n",
              "      <td>0.275542</td>\n",
              "      <td>55.481225</td>\n",
              "      <td>49.324458</td>\n",
              "      <td>348.00</td>\n",
              "      <td>0.37</td>\n",
              "      <td>Moon landing.</td>\n",
              "    </tr>\n",
              "  </tbody>\n",
              "</table>\n",
              "</div>"
            ],
            "text/plain": [
              "   Year  ... Major Events by Presidential Term\n",
              "0  1952  ...                               NaN\n",
              "1  1956  ...                               NaN\n",
              "2  1960  ...                        Recession.\n",
              "3  1964  ...    LBJ's budgets. War on poverty.\n",
              "4  1968  ...                     Moon landing.\n",
              "\n",
              "[5 rows x 14 columns]"
            ]
          },
          "metadata": {
            "tags": []
          },
          "execution_count": 165
        }
      ]
    },
    {
      "cell_type": "code",
      "metadata": {
        "id": "BywAjIn2MI79",
        "colab_type": "code",
        "colab": {
          "base_uri": "https://localhost:8080/",
          "height": 269
        },
        "outputId": "c31c217a-1e45-4d27-b277-6a6b94cfe05f"
      },
      "source": [
        "dfm.dtypes"
      ],
      "execution_count": null,
      "outputs": [
        {
          "output_type": "execute_result",
          "data": {
            "text/plain": [
              "Year                                           int64\n",
              "Incumbent Party Candidate                     object\n",
              "Other Candidate                               object\n",
              "Incumbent Party Vote Share                   float64\n",
              "Average Recent Growth in Personal Incomes    float64\n",
              "US Military Fatalities per Million             int64\n",
              "Mean Baseline                                float64\n",
              "Error                                        float64\n",
              "Absolute Error                               float64\n",
              "Linear Regression, 1 feature                 float64\n",
              "Linear Regression, 2 features                float64\n",
              "Debt (as of 9/30, in billions)                object\n",
              "Debt/ GDP Ratio                              float64\n",
              "Major Events by Presidential Term             object\n",
              "dtype: object"
            ]
          },
          "metadata": {
            "tags": []
          },
          "execution_count": 166
        }
      ]
    },
    {
      "cell_type": "code",
      "metadata": {
        "id": "M1JRQDJMMvpX",
        "colab_type": "code",
        "colab": {
          "base_uri": "https://localhost:8080/",
          "height": 319
        },
        "outputId": "c61a2898-a9f5-4a8d-ae17-63eb1c49f435"
      },
      "source": [
        "dfm['Debt (as of 9/30, in billions)'].value_counts()"
      ],
      "execution_count": null,
      "outputs": [
        {
          "output_type": "execute_result",
          "data": {
            "text/plain": [
              "286.00       1\n",
              "7,379.00     1\n",
              "620.00       1\n",
              "5,674.00     1\n",
              "348.00       1\n",
              "16,066.00    1\n",
              "4,065.00     1\n",
              "312.00       1\n",
              "5,225.00     1\n",
              "1,572.00     1\n",
              "2,602.00     1\n",
              "427.00       1\n",
              "259.00       1\n",
              "10,025.00    1\n",
              "273.00       1\n",
              "19,573.00    1\n",
              "908.00       1\n",
              "Name: Debt (as of 9/30, in billions), dtype: int64"
            ]
          },
          "metadata": {
            "tags": []
          },
          "execution_count": 167
        }
      ]
    },
    {
      "cell_type": "code",
      "metadata": {
        "id": "T7KENTXoNJYI",
        "colab_type": "code",
        "colab": {}
      },
      "source": [
        "dfm['Debt (as of 9/30, in billions)'] = dfm['Debt (as of 9/30, in billions)'].str.replace(',', '').astype(float)"
      ],
      "execution_count": null,
      "outputs": []
    },
    {
      "cell_type": "code",
      "metadata": {
        "id": "VDu4iFjjPkos",
        "colab_type": "code",
        "colab": {}
      },
      "source": [
        "import matplotlib.pyplot as plt"
      ],
      "execution_count": null,
      "outputs": []
    },
    {
      "cell_type": "code",
      "metadata": {
        "id": "77n8fkn2Jbue",
        "colab_type": "code",
        "colab": {
          "base_uri": "https://localhost:8080/",
          "height": 295
        },
        "outputId": "a670f148-ca44-416c-8970-00c3263651a5"
      },
      "source": [
        "sns.distplot(dfm['Debt (as of 9/30, in billions)'], bins=20);\n",
        "plt.title('Debt Distribution U.S. 1952-2019');"
      ],
      "execution_count": null,
      "outputs": [
        {
          "output_type": "display_data",
          "data": {
            "image/png": "[encoded data removed]",
            "text/plain": [
              "<Figure size 432x288 with 1 Axes>"
            ]
          },
          "metadata": {
            "tags": []
          }
        }
      ]
    },
    {
      "cell_type": "code",
      "metadata": {
        "id": "SdveEgCQL3mc",
        "colab_type": "code",
        "colab": {
          "base_uri": "https://localhost:8080/",
          "height": 295
        },
        "outputId": "6065ce4b-2819-41ed-ae2a-ce442ce1a978"
      },
      "source": [
        "sns.distplot(dfm['Debt/ GDP Ratio'], bins=20, color='orange');\n",
        "plt.title('Debt/GDP Ratio Distribution 1952-2019');"
      ],
      "execution_count": null,
      "outputs": [
        {
          "output_type": "display_data",
          "data": {
            "image/png": "[encoded data removed]",
            "text/plain": [
              "<Figure size 432x288 with 1 Axes>"
            ]
          },
          "metadata": {
            "tags": []
          }
        }
      ]
    },
    {
      "cell_type": "code",
      "metadata": {
        "id": "d4bt0EhxPMfl",
        "colab_type": "code",
        "colab": {}
      },
      "source": [
        "target = 'Incumbent Party Vote Share'\n",
        "features = ['Debt (as of 9/30, in billions)',\n",
        "           'Debt/ GDP Ratio']\n",
        "X = dfm[features]\n",
        "y = dfm[target]"
      ],
      "execution_count": null,
      "outputs": []
    },
    {
      "cell_type": "code",
      "metadata": {
        "id": "uRuQdlUgeF9M",
        "colab_type": "code",
        "colab": {}
      },
      "source": [
        "model.fit(X,y)\n",
        "y_pred = model.predict(X)"
      ],
      "execution_count": null,
      "outputs": []
    },
    {
      "cell_type": "code",
      "metadata": {
        "id": "ZmlvHoJkeT37",
        "colab_type": "code",
        "colab": {
          "base_uri": "https://localhost:8080/",
          "height": 34
        },
        "outputId": "f68e60b6-d4c4-43fc-cb3d-3eacb48114dc"
      },
      "source": [
        "mean_absolute_error(y, y_pred)"
      ],
      "execution_count": null,
      "outputs": [
        {
          "output_type": "execute_result",
          "data": {
            "text/plain": [
              "4.381683075835241"
            ]
          },
          "metadata": {
            "tags": []
          },
          "execution_count": 174
        }
      ]
    },
    {
      "cell_type": "code",
      "metadata": {
        "id": "022susTIebDx",
        "colab_type": "code",
        "colab": {
          "base_uri": "https://localhost:8080/",
          "height": 316
        },
        "outputId": "e18d383d-2d0d-4e68-ee96-772531a16a9b"
      },
      "source": [
        "dfm['Linear Regression, Debt/DebtRatio'] = y_pred\n",
        "dfm['Error2'] = y_pred - dfm[target]\n",
        "dfm['Absolute Error2'] = dfm['Error2'].abs()\n",
        "dfm.head()"
      ],
      "execution_count": null,
      "outputs": [
        {
          "output_type": "execute_result",
          "data": {
            "text/html": [
              "<div>\n",
              "<style scoped>\n",
              "    .dataframe tbody tr th:only-of-type {\n",
              "        vertical-align: middle;\n",
              "    }\n",
              "\n",
              "    .dataframe tbody tr th {\n",
              "        vertical-align: top;\n",
              "    }\n",
              "\n",
              "    .dataframe thead th {\n",
              "        text-align: right;\n",
              "    }\n",
              "</style>\n",
              "<table border=\"1\" class=\"dataframe\">\n",
              "  <thead>\n",
              "    <tr style=\"text-align: right;\">\n",
              "      <th></th>\n",
              "      <th>Year</th>\n",
              "      <th>Incumbent Party Candidate</th>\n",
              "      <th>Other Candidate</th>\n",
              "      <th>Incumbent Party Vote Share</th>\n",
              "      <th>Average Recent Growth in Personal Incomes</th>\n",
              "      <th>US Military Fatalities per Million</th>\n",
              "      <th>Mean Baseline</th>\n",
              "      <th>Error</th>\n",
              "      <th>Absolute Error</th>\n",
              "      <th>Linear Regression, 1 feature</th>\n",
              "      <th>Linear Regression, 2 features</th>\n",
              "      <th>Debt (as of 9/30, in billions)</th>\n",
              "      <th>Debt/ GDP Ratio</th>\n",
              "      <th>Major Events by Presidential Term</th>\n",
              "      <th>Linear Regression, Debt/DebtRatio</th>\n",
              "      <th>Error2</th>\n",
              "      <th>Absolute Error2</th>\n",
              "    </tr>\n",
              "  </thead>\n",
              "  <tbody>\n",
              "    <tr>\n",
              "      <th>0</th>\n",
              "      <td>1952</td>\n",
              "      <td>Stevenson</td>\n",
              "      <td>Eisenhower</td>\n",
              "      <td>44.60</td>\n",
              "      <td>2.40</td>\n",
              "      <td>190</td>\n",
              "      <td>51.828235</td>\n",
              "      <td>0.247507</td>\n",
              "      <td>0.247507</td>\n",
              "      <td>53.637235</td>\n",
              "      <td>44.847507</td>\n",
              "      <td>259.0</td>\n",
              "      <td>0.72</td>\n",
              "      <td>NaN</td>\n",
              "      <td>51.253283</td>\n",
              "      <td>6.653283</td>\n",
              "      <td>6.653283</td>\n",
              "    </tr>\n",
              "    <tr>\n",
              "      <th>1</th>\n",
              "      <td>1956</td>\n",
              "      <td>Eisenhower</td>\n",
              "      <td>Stevenson</td>\n",
              "      <td>57.76</td>\n",
              "      <td>2.89</td>\n",
              "      <td>0</td>\n",
              "      <td>51.828235</td>\n",
              "      <td>-1.030524</td>\n",
              "      <td>1.030524</td>\n",
              "      <td>55.094582</td>\n",
              "      <td>56.729476</td>\n",
              "      <td>273.0</td>\n",
              "      <td>0.61</td>\n",
              "      <td>NaN</td>\n",
              "      <td>51.865680</td>\n",
              "      <td>-5.894320</td>\n",
              "      <td>5.894320</td>\n",
              "    </tr>\n",
              "    <tr>\n",
              "      <th>2</th>\n",
              "      <td>1960</td>\n",
              "      <td>Nixon</td>\n",
              "      <td>Kennedy</td>\n",
              "      <td>49.91</td>\n",
              "      <td>0.85</td>\n",
              "      <td>0</td>\n",
              "      <td>51.828235</td>\n",
              "      <td>-0.129201</td>\n",
              "      <td>0.129201</td>\n",
              "      <td>49.027260</td>\n",
              "      <td>49.780799</td>\n",
              "      <td>286.0</td>\n",
              "      <td>0.53</td>\n",
              "      <td>Recession.</td>\n",
              "      <td>52.310880</td>\n",
              "      <td>2.400880</td>\n",
              "      <td>2.400880</td>\n",
              "    </tr>\n",
              "    <tr>\n",
              "      <th>3</th>\n",
              "      <td>1964</td>\n",
              "      <td>Johnson</td>\n",
              "      <td>Goldwater</td>\n",
              "      <td>61.34</td>\n",
              "      <td>4.21</td>\n",
              "      <td>1</td>\n",
              "      <td>51.828235</td>\n",
              "      <td>-0.168074</td>\n",
              "      <td>0.168074</td>\n",
              "      <td>59.020495</td>\n",
              "      <td>61.171926</td>\n",
              "      <td>312.0</td>\n",
              "      <td>0.46</td>\n",
              "      <td>LBJ's budgets. War on poverty.</td>\n",
              "      <td>52.699494</td>\n",
              "      <td>-8.640506</td>\n",
              "      <td>8.640506</td>\n",
              "    </tr>\n",
              "    <tr>\n",
              "      <th>4</th>\n",
              "      <td>1968</td>\n",
              "      <td>Humphrey</td>\n",
              "      <td>Nixon</td>\n",
              "      <td>49.60</td>\n",
              "      <td>3.02</td>\n",
              "      <td>146</td>\n",
              "      <td>51.828235</td>\n",
              "      <td>-0.275542</td>\n",
              "      <td>0.275542</td>\n",
              "      <td>55.481225</td>\n",
              "      <td>49.324458</td>\n",
              "      <td>348.0</td>\n",
              "      <td>0.37</td>\n",
              "      <td>Moon landing.</td>\n",
              "      <td>53.198977</td>\n",
              "      <td>3.598977</td>\n",
              "      <td>3.598977</td>\n",
              "    </tr>\n",
              "  </tbody>\n",
              "</table>\n",
              "</div>"
            ],
            "text/plain": [
              "   Year Incumbent Party Candidate  ...    Error2  Absolute Error2\n",
              "0  1952                 Stevenson  ...  6.653283         6.653283\n",
              "1  1956                Eisenhower  ... -5.894320         5.894320\n",
              "2  1960                     Nixon  ...  2.400880         2.400880\n",
              "3  1964                   Johnson  ... -8.640506         8.640506\n",
              "4  1968                  Humphrey  ...  3.598977         3.598977\n",
              "\n",
              "[5 rows x 17 columns]"
            ]
          },
          "metadata": {
            "tags": []
          },
          "execution_count": 175
        }
      ]
    },
    {
      "cell_type": "code",
      "metadata": {
        "id": "e7iSGoQHeo-P",
        "colab_type": "code",
        "colab": {
          "base_uri": "https://localhost:8080/",
          "height": 34
        },
        "outputId": "9dbbc411-d866-4fb8-aceb-b3afe926f1d5"
      },
      "source": [
        "#Test train split\n",
        "trainm = dfm.query('Year < 2008')\n",
        "testm  = dfm.query('Year >= 2008')\n",
        "X_trainm = trainm[features] \n",
        "y_trainm = trainm[target]\n",
        "X_testm  = testm[features]\n",
        "y_testm  = testm[target]\n",
        "\n",
        "X_trainm.shape, y_trainm.shape, X_testm.shape, y_testm.shape"
      ],
      "execution_count": null,
      "outputs": [
        {
          "output_type": "execute_result",
          "data": {
            "text/plain": [
              "((14, 2), (14,), (3, 2), (3,))"
            ]
          },
          "metadata": {
            "tags": []
          },
          "execution_count": 176
        }
      ]
    },
    {
      "cell_type": "code",
      "metadata": {
        "id": "dZKhDredfWgo",
        "colab_type": "code",
        "colab": {
          "base_uri": "https://localhost:8080/",
          "height": 54
        },
        "outputId": "524f9859-1992-4727-a8a9-3a3c13a1c1e8"
      },
      "source": [
        "model.fit(X_trainm, y_trainm)"
      ],
      "execution_count": null,
      "outputs": [
        {
          "output_type": "execute_result",
          "data": {
            "text/plain": [
              "LinearRegression(copy_X=True, fit_intercept=True, n_jobs=None, normalize=False)"
            ]
          },
          "metadata": {
            "tags": []
          },
          "execution_count": 177
        }
      ]
    },
    {
      "cell_type": "code",
      "metadata": {
        "id": "V4AEv8JUfd-M",
        "colab_type": "code",
        "colab": {
          "base_uri": "https://localhost:8080/",
          "height": 34
        },
        "outputId": "9b80eccc-9d91-4106-d785-6dce6677b9f1"
      },
      "source": [
        "y_predm = model.predict(X_testm)\n",
        "y_predm"
      ],
      "execution_count": null,
      "outputs": [
        {
          "output_type": "execute_result",
          "data": {
            "text/plain": [
              "array([50.02145038, 46.69697512, 45.8759202 ])"
            ]
          },
          "metadata": {
            "tags": []
          },
          "execution_count": 189
        }
      ]
    },
    {
      "cell_type": "code",
      "metadata": {
        "id": "4JzZwe7Qmice",
        "colab_type": "code",
        "colab": {}
      },
      "source": [
        "ypredm2 = model.predict(X)"
      ],
      "execution_count": null,
      "outputs": []
    },
    {
      "cell_type": "code",
      "metadata": {
        "id": "bWsNIlvXfkdL",
        "colab_type": "code",
        "colab": {
          "base_uri": "https://localhost:8080/",
          "height": 84
        },
        "outputId": "9cabd44a-e395-4e74-e225-eda13b10fb14"
      },
      "source": [
        "y_testm"
      ],
      "execution_count": null,
      "outputs": [
        {
          "output_type": "execute_result",
          "data": {
            "text/plain": [
              "14    46.32\n",
              "15    52.00\n",
              "16    48.20\n",
              "Name: Incumbent Party Vote Share, dtype: float64"
            ]
          },
          "metadata": {
            "tags": []
          },
          "execution_count": 190
        }
      ]
    },
    {
      "cell_type": "code",
      "metadata": {
        "id": "RQ8xrgy8fnpe",
        "colab_type": "code",
        "colab": {
          "base_uri": "https://localhost:8080/",
          "height": 34
        },
        "outputId": "20c9a254-0acb-44d7-e11e-e581e9b3143a"
      },
      "source": [
        "mean_absolute_error(y_testm, y_predm)"
      ],
      "execution_count": null,
      "outputs": [
        {
          "output_type": "execute_result",
          "data": {
            "text/plain": [
              "3.7761850194888638"
            ]
          },
          "metadata": {
            "tags": []
          },
          "execution_count": 191
        }
      ]
    },
    {
      "cell_type": "code",
      "metadata": {
        "id": "43dBtjXbmOLX",
        "colab_type": "code",
        "colab": {
          "base_uri": "https://localhost:8080/",
          "height": 34
        },
        "outputId": "8bb7e9fb-aa5c-48ad-9d96-2b88423a8c2e"
      },
      "source": [
        "len(y_predm)"
      ],
      "execution_count": null,
      "outputs": [
        {
          "output_type": "execute_result",
          "data": {
            "text/plain": [
              "3"
            ]
          },
          "metadata": {
            "tags": []
          },
          "execution_count": 208
        }
      ]
    },
    {
      "cell_type": "code",
      "metadata": {
        "id": "OVcSjHD5ia_m",
        "colab_type": "code",
        "colab": {
          "base_uri": "https://localhost:8080/",
          "height": 316
        },
        "outputId": "4930fa91-1410-4b03-d7fa-6c51ec6b6158"
      },
      "source": [
        "dfm['Train Test Split Error, Linear Regression, Debt/DebtRatio'] = ypredm2\n",
        "dfm['Error3'] = ypredm2 - dfm[target]\n",
        "dfm['Absolute Error3'] = dfm['Error3'].abs()\n",
        "dfm.head()"
      ],
      "execution_count": null,
      "outputs": [
        {
          "output_type": "execute_result",
          "data": {
            "text/html": [
              "<div>\n",
              "<style scoped>\n",
              "    .dataframe tbody tr th:only-of-type {\n",
              "        vertical-align: middle;\n",
              "    }\n",
              "\n",
              "    .dataframe tbody tr th {\n",
              "        vertical-align: top;\n",
              "    }\n",
              "\n",
              "    .dataframe thead th {\n",
              "        text-align: right;\n",
              "    }\n",
              "</style>\n",
              "<table border=\"1\" class=\"dataframe\">\n",
              "  <thead>\n",
              "    <tr style=\"text-align: right;\">\n",
              "      <th></th>\n",
              "      <th>Year</th>\n",
              "      <th>Incumbent Party Candidate</th>\n",
              "      <th>Other Candidate</th>\n",
              "      <th>Incumbent Party Vote Share</th>\n",
              "      <th>Average Recent Growth in Personal Incomes</th>\n",
              "      <th>US Military Fatalities per Million</th>\n",
              "      <th>Mean Baseline</th>\n",
              "      <th>Error</th>\n",
              "      <th>Absolute Error</th>\n",
              "      <th>Linear Regression, 1 feature</th>\n",
              "      <th>Linear Regression, 2 features</th>\n",
              "      <th>Debt (as of 9/30, in billions)</th>\n",
              "      <th>Debt/ GDP Ratio</th>\n",
              "      <th>Major Events by Presidential Term</th>\n",
              "      <th>Linear Regression, Debt/DebtRatio</th>\n",
              "      <th>Error2</th>\n",
              "      <th>Absolute Error2</th>\n",
              "      <th>Train Test Split Error, Linear Regression, Debt/DebtRatio</th>\n",
              "      <th>Error3</th>\n",
              "      <th>Absolute Error3</th>\n",
              "    </tr>\n",
              "  </thead>\n",
              "  <tbody>\n",
              "    <tr>\n",
              "      <th>0</th>\n",
              "      <td>1952</td>\n",
              "      <td>Stevenson</td>\n",
              "      <td>Eisenhower</td>\n",
              "      <td>44.60</td>\n",
              "      <td>2.40</td>\n",
              "      <td>190</td>\n",
              "      <td>51.828235</td>\n",
              "      <td>0.247507</td>\n",
              "      <td>0.247507</td>\n",
              "      <td>53.637235</td>\n",
              "      <td>44.847507</td>\n",
              "      <td>259.0</td>\n",
              "      <td>0.72</td>\n",
              "      <td>NaN</td>\n",
              "      <td>51.253283</td>\n",
              "      <td>6.653283</td>\n",
              "      <td>6.653283</td>\n",
              "      <td>50.778547</td>\n",
              "      <td>6.178547</td>\n",
              "      <td>6.178547</td>\n",
              "    </tr>\n",
              "    <tr>\n",
              "      <th>1</th>\n",
              "      <td>1956</td>\n",
              "      <td>Eisenhower</td>\n",
              "      <td>Stevenson</td>\n",
              "      <td>57.76</td>\n",
              "      <td>2.89</td>\n",
              "      <td>0</td>\n",
              "      <td>51.828235</td>\n",
              "      <td>-1.030524</td>\n",
              "      <td>1.030524</td>\n",
              "      <td>55.094582</td>\n",
              "      <td>56.729476</td>\n",
              "      <td>273.0</td>\n",
              "      <td>0.61</td>\n",
              "      <td>NaN</td>\n",
              "      <td>51.865680</td>\n",
              "      <td>-5.894320</td>\n",
              "      <td>5.894320</td>\n",
              "      <td>51.715535</td>\n",
              "      <td>-6.044465</td>\n",
              "      <td>6.044465</td>\n",
              "    </tr>\n",
              "    <tr>\n",
              "      <th>2</th>\n",
              "      <td>1960</td>\n",
              "      <td>Nixon</td>\n",
              "      <td>Kennedy</td>\n",
              "      <td>49.91</td>\n",
              "      <td>0.85</td>\n",
              "      <td>0</td>\n",
              "      <td>51.828235</td>\n",
              "      <td>-0.129201</td>\n",
              "      <td>0.129201</td>\n",
              "      <td>49.027260</td>\n",
              "      <td>49.780799</td>\n",
              "      <td>286.0</td>\n",
              "      <td>0.53</td>\n",
              "      <td>Recession.</td>\n",
              "      <td>52.310880</td>\n",
              "      <td>2.400880</td>\n",
              "      <td>2.400880</td>\n",
              "      <td>52.396663</td>\n",
              "      <td>2.486663</td>\n",
              "      <td>2.486663</td>\n",
              "    </tr>\n",
              "    <tr>\n",
              "      <th>3</th>\n",
              "      <td>1964</td>\n",
              "      <td>Johnson</td>\n",
              "      <td>Goldwater</td>\n",
              "      <td>61.34</td>\n",
              "      <td>4.21</td>\n",
              "      <td>1</td>\n",
              "      <td>51.828235</td>\n",
              "      <td>-0.168074</td>\n",
              "      <td>0.168074</td>\n",
              "      <td>59.020495</td>\n",
              "      <td>61.171926</td>\n",
              "      <td>312.0</td>\n",
              "      <td>0.46</td>\n",
              "      <td>LBJ's budgets. War on poverty.</td>\n",
              "      <td>52.699494</td>\n",
              "      <td>-8.640506</td>\n",
              "      <td>8.640506</td>\n",
              "      <td>52.991005</td>\n",
              "      <td>-8.348995</td>\n",
              "      <td>8.348995</td>\n",
              "    </tr>\n",
              "    <tr>\n",
              "      <th>4</th>\n",
              "      <td>1968</td>\n",
              "      <td>Humphrey</td>\n",
              "      <td>Nixon</td>\n",
              "      <td>49.60</td>\n",
              "      <td>3.02</td>\n",
              "      <td>146</td>\n",
              "      <td>51.828235</td>\n",
              "      <td>-0.275542</td>\n",
              "      <td>0.275542</td>\n",
              "      <td>55.481225</td>\n",
              "      <td>49.324458</td>\n",
              "      <td>348.0</td>\n",
              "      <td>0.37</td>\n",
              "      <td>Moon landing.</td>\n",
              "      <td>53.198977</td>\n",
              "      <td>3.598977</td>\n",
              "      <td>3.598977</td>\n",
              "      <td>53.754870</td>\n",
              "      <td>4.154870</td>\n",
              "      <td>4.154870</td>\n",
              "    </tr>\n",
              "  </tbody>\n",
              "</table>\n",
              "</div>"
            ],
            "text/plain": [
              "   Year Incumbent Party Candidate  ...    Error3  Absolute Error3\n",
              "0  1952                 Stevenson  ...  6.178547         6.178547\n",
              "1  1956                Eisenhower  ... -6.044465         6.044465\n",
              "2  1960                     Nixon  ...  2.486663         2.486663\n",
              "3  1964                   Johnson  ... -8.348995         8.348995\n",
              "4  1968                  Humphrey  ...  4.154870         4.154870\n",
              "\n",
              "[5 rows x 20 columns]"
            ]
          },
          "metadata": {
            "tags": []
          },
          "execution_count": 212
        }
      ]
    },
    {
      "cell_type": "code",
      "metadata": {
        "id": "UW3bBCUkitBZ",
        "colab_type": "code",
        "colab": {
          "base_uri": "https://localhost:8080/",
          "height": 575
        },
        "outputId": "7b032e5b-5e26-4946-9c4b-1efaf10e79b5"
      },
      "source": [
        "\n",
        "ax = dfm.plot(x='Year', \n",
        "        y='Incumbent Party Vote Share',\n",
        "        kind='line',\n",
        "        label = 'Incumbent Party Vote Share',\n",
        "        color='orange', figsize=(16,9));\n",
        "dfm.plot(x='Year', \n",
        "        y='Linear Regression, Debt/DebtRatio',\n",
        "        label = 'Linear Regression, Debt& Debt / GDP Ratio',\n",
        "        kind='line', \n",
        "        color='red', \n",
        "        ax=ax)\n",
        "dfm.plot(x='Year', \n",
        "        y='Train Test Split Error, Linear Regression, Debt/DebtRatio',\n",
        "        label = 'TTSplit: US Debt with GDP/Debt Ratio',\n",
        "        kind='line', \n",
        "        color='purple', \n",
        "        ax=ax);\n",
        "plt.xlabel('Year')\n",
        "plt.ylabel('Incumbent Party Vote Share');\n"
      ],
      "execution_count": null,
      "outputs": [
        {
          "output_type": "display_data",
          "data": {
            "image/png": "[encoded data removed]",
            "text/plain": [
              "<Figure size 1152x648 with 1 Axes>"
            ]
          },
          "metadata": {
            "tags": []
          }
        }
      ]
    },
    {
      "cell_type": "code",
      "metadata": {
        "id": "WmGEKlpIvBKO",
        "colab_type": "code",
        "colab": {}
      },
      "source": [
        "features = ['Average Recent Growth in Personal Incomes', \n",
        "            'US Military Fatalities per Million',\n",
        "           'Debt (as of 9/30, in billions)',\n",
        "            'Debt/ GDP Ratio']\n",
        "\n",
        "target = 'Incumbent Party Vote Share'\n",
        "\n",
        "X = dfm[features]\n",
        "y = dfm[target]"
      ],
      "execution_count": null,
      "outputs": []
    },
    {
      "cell_type": "code",
      "metadata": {
        "id": "0CFx1w-DvZ4o",
        "colab_type": "code",
        "colab": {}
      },
      "source": [
        "model.fit(X,y)\n",
        "y_pred = model.predict(X)"
      ],
      "execution_count": null,
      "outputs": []
    },
    {
      "cell_type": "code",
      "metadata": {
        "id": "cI87Q9xCvibV",
        "colab_type": "code",
        "colab": {
          "base_uri": "https://localhost:8080/",
          "height": 34
        },
        "outputId": "6192487e-d839-4932-ae6f-a44b33d82257"
      },
      "source": [
        "mean_absolute_error(y, y_pred)"
      ],
      "execution_count": null,
      "outputs": [
        {
          "output_type": "execute_result",
          "data": {
            "text/plain": [
              "1.215228215716582"
            ]
          },
          "metadata": {
            "tags": []
          },
          "execution_count": 248
        }
      ]
    },
    {
      "cell_type": "code",
      "metadata": {
        "id": "IYFaUWAtvpYd",
        "colab_type": "code",
        "colab": {
          "base_uri": "https://localhost:8080/",
          "height": 316
        },
        "outputId": "8df38942-b9ca-447c-826e-8d71b95282bc"
      },
      "source": [
        "dfm['All Four Features'] = y_pred\n",
        "dfm['Error4'] = y_pred - dfm[target]\n",
        "dfm['Absolute Error4'] = dfm['Error4'].abs()\n",
        "dfm.head()\n"
      ],
      "execution_count": null,
      "outputs": [
        {
          "output_type": "execute_result",
          "data": {
            "text/html": [
              "<div>\n",
              "<style scoped>\n",
              "    .dataframe tbody tr th:only-of-type {\n",
              "        vertical-align: middle;\n",
              "    }\n",
              "\n",
              "    .dataframe tbody tr th {\n",
              "        vertical-align: top;\n",
              "    }\n",
              "\n",
              "    .dataframe thead th {\n",
              "        text-align: right;\n",
              "    }\n",
              "</style>\n",
              "<table border=\"1\" class=\"dataframe\">\n",
              "  <thead>\n",
              "    <tr style=\"text-align: right;\">\n",
              "      <th></th>\n",
              "      <th>Year</th>\n",
              "      <th>Incumbent Party Candidate</th>\n",
              "      <th>Other Candidate</th>\n",
              "      <th>Incumbent Party Vote Share</th>\n",
              "      <th>Average Recent Growth in Personal Incomes</th>\n",
              "      <th>US Military Fatalities per Million</th>\n",
              "      <th>Mean Baseline</th>\n",
              "      <th>Error</th>\n",
              "      <th>Absolute Error</th>\n",
              "      <th>Linear Regression, 1 feature</th>\n",
              "      <th>Linear Regression, 2 features</th>\n",
              "      <th>Debt (as of 9/30, in billions)</th>\n",
              "      <th>Debt/ GDP Ratio</th>\n",
              "      <th>Major Events by Presidential Term</th>\n",
              "      <th>Linear Regression, Debt/DebtRatio</th>\n",
              "      <th>Error2</th>\n",
              "      <th>Absolute Error2</th>\n",
              "      <th>Train Test Split Error, Linear Regression, Debt/DebtRatio</th>\n",
              "      <th>Error3</th>\n",
              "      <th>Absolute Error3</th>\n",
              "      <th>All Four Features</th>\n",
              "      <th>Error4</th>\n",
              "      <th>Absolute Error4</th>\n",
              "    </tr>\n",
              "  </thead>\n",
              "  <tbody>\n",
              "    <tr>\n",
              "      <th>0</th>\n",
              "      <td>1952</td>\n",
              "      <td>Stevenson</td>\n",
              "      <td>Eisenhower</td>\n",
              "      <td>44.60</td>\n",
              "      <td>2.40</td>\n",
              "      <td>190</td>\n",
              "      <td>51.828235</td>\n",
              "      <td>0.247507</td>\n",
              "      <td>0.247507</td>\n",
              "      <td>53.637235</td>\n",
              "      <td>44.847507</td>\n",
              "      <td>259.0</td>\n",
              "      <td>0.72</td>\n",
              "      <td>NaN</td>\n",
              "      <td>51.253283</td>\n",
              "      <td>6.653283</td>\n",
              "      <td>6.653283</td>\n",
              "      <td>50.778547</td>\n",
              "      <td>6.178547</td>\n",
              "      <td>6.178547</td>\n",
              "      <td>45.453591</td>\n",
              "      <td>0.853591</td>\n",
              "      <td>0.853591</td>\n",
              "    </tr>\n",
              "    <tr>\n",
              "      <th>1</th>\n",
              "      <td>1956</td>\n",
              "      <td>Eisenhower</td>\n",
              "      <td>Stevenson</td>\n",
              "      <td>57.76</td>\n",
              "      <td>2.89</td>\n",
              "      <td>0</td>\n",
              "      <td>51.828235</td>\n",
              "      <td>-1.030524</td>\n",
              "      <td>1.030524</td>\n",
              "      <td>55.094582</td>\n",
              "      <td>56.729476</td>\n",
              "      <td>273.0</td>\n",
              "      <td>0.61</td>\n",
              "      <td>NaN</td>\n",
              "      <td>51.865680</td>\n",
              "      <td>-5.894320</td>\n",
              "      <td>5.894320</td>\n",
              "      <td>51.715535</td>\n",
              "      <td>-6.044465</td>\n",
              "      <td>6.044465</td>\n",
              "      <td>57.472143</td>\n",
              "      <td>-0.287857</td>\n",
              "      <td>0.287857</td>\n",
              "    </tr>\n",
              "    <tr>\n",
              "      <th>2</th>\n",
              "      <td>1960</td>\n",
              "      <td>Nixon</td>\n",
              "      <td>Kennedy</td>\n",
              "      <td>49.91</td>\n",
              "      <td>0.85</td>\n",
              "      <td>0</td>\n",
              "      <td>51.828235</td>\n",
              "      <td>-0.129201</td>\n",
              "      <td>0.129201</td>\n",
              "      <td>49.027260</td>\n",
              "      <td>49.780799</td>\n",
              "      <td>286.0</td>\n",
              "      <td>0.53</td>\n",
              "      <td>Recession.</td>\n",
              "      <td>52.310880</td>\n",
              "      <td>2.400880</td>\n",
              "      <td>2.400880</td>\n",
              "      <td>52.396663</td>\n",
              "      <td>2.486663</td>\n",
              "      <td>2.486663</td>\n",
              "      <td>49.798836</td>\n",
              "      <td>-0.111164</td>\n",
              "      <td>0.111164</td>\n",
              "    </tr>\n",
              "    <tr>\n",
              "      <th>3</th>\n",
              "      <td>1964</td>\n",
              "      <td>Johnson</td>\n",
              "      <td>Goldwater</td>\n",
              "      <td>61.34</td>\n",
              "      <td>4.21</td>\n",
              "      <td>1</td>\n",
              "      <td>51.828235</td>\n",
              "      <td>-0.168074</td>\n",
              "      <td>0.168074</td>\n",
              "      <td>59.020495</td>\n",
              "      <td>61.171926</td>\n",
              "      <td>312.0</td>\n",
              "      <td>0.46</td>\n",
              "      <td>LBJ's budgets. War on poverty.</td>\n",
              "      <td>52.699494</td>\n",
              "      <td>-8.640506</td>\n",
              "      <td>8.640506</td>\n",
              "      <td>52.991005</td>\n",
              "      <td>-8.348995</td>\n",
              "      <td>8.348995</td>\n",
              "      <td>61.412230</td>\n",
              "      <td>0.072230</td>\n",
              "      <td>0.072230</td>\n",
              "    </tr>\n",
              "    <tr>\n",
              "      <th>4</th>\n",
              "      <td>1968</td>\n",
              "      <td>Humphrey</td>\n",
              "      <td>Nixon</td>\n",
              "      <td>49.60</td>\n",
              "      <td>3.02</td>\n",
              "      <td>146</td>\n",
              "      <td>51.828235</td>\n",
              "      <td>-0.275542</td>\n",
              "      <td>0.275542</td>\n",
              "      <td>55.481225</td>\n",
              "      <td>49.324458</td>\n",
              "      <td>348.0</td>\n",
              "      <td>0.37</td>\n",
              "      <td>Moon landing.</td>\n",
              "      <td>53.198977</td>\n",
              "      <td>3.598977</td>\n",
              "      <td>3.598977</td>\n",
              "      <td>53.754870</td>\n",
              "      <td>4.154870</td>\n",
              "      <td>4.154870</td>\n",
              "      <td>48.488948</td>\n",
              "      <td>-1.111052</td>\n",
              "      <td>1.111052</td>\n",
              "    </tr>\n",
              "  </tbody>\n",
              "</table>\n",
              "</div>"
            ],
            "text/plain": [
              "   Year Incumbent Party Candidate  ...    Error4  Absolute Error4\n",
              "0  1952                 Stevenson  ...  0.853591         0.853591\n",
              "1  1956                Eisenhower  ... -0.287857         0.287857\n",
              "2  1960                     Nixon  ... -0.111164         0.111164\n",
              "3  1964                   Johnson  ...  0.072230         0.072230\n",
              "4  1968                  Humphrey  ... -1.111052         1.111052\n",
              "\n",
              "[5 rows x 23 columns]"
            ]
          },
          "metadata": {
            "tags": []
          },
          "execution_count": 249
        }
      ]
    },
    {
      "cell_type": "code",
      "metadata": {
        "id": "uRMJHRWTwDRU",
        "colab_type": "code",
        "colab": {
          "base_uri": "https://localhost:8080/",
          "height": 575
        },
        "outputId": "8f3a2388-d8d9-4220-f761-45d9cac55f4f"
      },
      "source": [
        "ax = dfm.plot(x='Year', \n",
        "        y='Incumbent Party Vote Share',\n",
        "        kind='line',\n",
        "        label = 'Incumbent Party Vote Share',\n",
        "        color='orange', figsize=(16,9));\n",
        "dfm.plot(x='Year', \n",
        "        y='Linear Regression, Debt/DebtRatio',\n",
        "        label = 'Linear Regression, Debt& Debt / GDP Ratio',\n",
        "        kind='line', \n",
        "        color='red', \n",
        "        ax=ax)\n",
        "dfm.plot(x='Year', \n",
        "        y='Train Test Split Error, Linear Regression, Debt/DebtRatio',\n",
        "        label = 'TTSplit: US Debt with GDP/Debt Ratio',\n",
        "        kind='line', \n",
        "        color='purple', \n",
        "        ax=ax);\n",
        "dfm.plot(x='Year', \n",
        "        y='All Four Features',\n",
        "        label = 'All Four Features Log Regression MAE 1.215',\n",
        "        kind='line', \n",
        "        color='black', \n",
        "        ax=ax)\n",
        "plt.xlabel('Year')\n",
        "plt.ylabel('Incumbent Party Vote Share');"
      ],
      "execution_count": null,
      "outputs": [
        {
          "output_type": "display_data",
          "data": {
            "image/png": "[encoded data removed]",
            "text/plain": [
              "<Figure size 1152x648 with 1 Axes>"
            ]
          },
          "metadata": {
            "tags": []
          }
        }
      ]
    },
    {
      "cell_type": "code",
      "metadata": {
        "id": "t0LKpKI_fszn",
        "colab_type": "code",
        "colab": {}
      },
      "source": [
        "#Leave one out cross validation"
      ],
      "execution_count": null,
      "outputs": []
    },
    {
      "cell_type": "code",
      "metadata": {
        "id": "Q180o65JfyU_",
        "colab_type": "code",
        "colab": {
          "base_uri": "https://localhost:8080/",
          "height": 605
        },
        "outputId": "323027b6-3f3a-4047-cd75-1448e859ec69"
      },
      "source": [
        "# Choose a class of model by importing the appropriate estimator class\n",
        "from sklearn.linear_model import LinearRegression\n",
        "\n",
        "print('Leave-One-Out Cross-Validation:')\n",
        "\n",
        "maes = []\n",
        "\n",
        "for year in dfm['Year']:\n",
        "    print(f'Fit Linear Regression on all years except {year}')\n",
        "    \n",
        "    # Choose model hyperparamaters by instantiating this class\n",
        "    model = LinearRegression()\n",
        "    \n",
        "    # Arrange data into X features matrix and y target vector\n",
        "    train = dfm[dfm['Year'] != year]\n",
        "    test = dfm[dfm['Year'] == year]\n",
        "    X_train = train[features]\n",
        "    y_train = train[target]\n",
        "    X_test = test[features]\n",
        "    y_test = test[target]\n",
        "    \n",
        "    # Fit the model to your data by calling the fit() method of the estimator\n",
        "    model.fit(X_train, y_train)\n",
        "    \n",
        "    # Apply the model to new data: predict labels for unknown data using predict() method\n",
        "    y_pred = model.predict(X_test)\n",
        "    \n",
        "    mae = mean_absolute_error(y_test, y_pred)\n",
        "    maes.append(mae)\n",
        "    print(f'Absolute Error on prediction for {year} = {mae}')\n",
        "    "
      ],
      "execution_count": null,
      "outputs": [
        {
          "output_type": "stream",
          "text": [
            "Leave-One-Out Cross-Validation:\n",
            "Fit Linear Regression on all years except 1952\n",
            "Absolute Error on prediction for 1952 = 3.4577265548107974\n",
            "Fit Linear Regression on all years except 1956\n",
            "Absolute Error on prediction for 1956 = 0.45644415729313437\n",
            "Fit Linear Regression on all years except 1960\n",
            "Absolute Error on prediction for 1960 = 0.15251242009945543\n",
            "Fit Linear Regression on all years except 1964\n",
            "Absolute Error on prediction for 1964 = 0.10124598275618268\n",
            "Fit Linear Regression on all years except 1968\n",
            "Absolute Error on prediction for 1968 = 2.585177952960187\n",
            "Fit Linear Regression on all years except 1972\n",
            "Absolute Error on prediction for 1972 = 3.9079459760557143\n",
            "Fit Linear Regression on all years except 1976\n",
            "Absolute Error on prediction for 1976 = 0.7328452221426573\n",
            "Fit Linear Regression on all years except 1980\n",
            "Absolute Error on prediction for 1980 = 0.6958736647287438\n",
            "Fit Linear Regression on all years except 1984\n",
            "Absolute Error on prediction for 1984 = 0.7780136356078202\n",
            "Fit Linear Regression on all years except 1988\n",
            "Absolute Error on prediction for 1988 = 0.6300074469170553\n",
            "Fit Linear Regression on all years except 1992\n",
            "Absolute Error on prediction for 1992 = 2.1478268694437617\n",
            "Fit Linear Regression on all years except 1996\n",
            "Absolute Error on prediction for 1996 = 4.589961374223968\n",
            "Fit Linear Regression on all years except 2000\n",
            "Absolute Error on prediction for 2000 = 5.17186487409635\n",
            "Fit Linear Regression on all years except 2004\n",
            "Absolute Error on prediction for 2004 = 1.4073644233232585\n",
            "Fit Linear Regression on all years except 2008\n",
            "Absolute Error on prediction for 2008 = 0.036985851461018626\n",
            "Fit Linear Regression on all years except 2012\n",
            "Absolute Error on prediction for 2012 = 1.5874763832338559\n",
            "Fit Linear Regression on all years except 2016\n",
            "Absolute Error on prediction for 2016 = 0.5691721336578084\n"
          ],
          "name": "stdout"
        }
      ]
    },
    {
      "cell_type": "code",
      "metadata": {
        "id": "C_hKZ0CD1IeG",
        "colab_type": "code",
        "colab": {}
      },
      "source": [
        ""
      ],
      "execution_count": null,
      "outputs": []
    }
  ]
}