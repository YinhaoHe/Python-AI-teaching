{
  "nbformat": 4,
  "nbformat_minor": 0,
  "metadata": {
    "colab": {
      "name": "Getting Started - DIY#1",
      "provenance": [],
      "collapsed_sections": [
        "R-2jB9LHtwTh",
        "NtPURxmBpgKu",
        "VnsnVt3RpKzT",
        "OHeWS0S9pA4M",
        "o9Xrv8zRo4mG",
        "8IZKswRdotLQ",
        "zkyprzzyodWR",
        "ru81ekBTp2iq",
        "KKu5wWUEqrGW",
        "f8HqUkQ-tJSx"
      ],
      "include_colab_link": true
    },
    "kernelspec": {
      "name": "python3",
      "display_name": "Python 3"
    },
    "accelerator": "GPU"
  },
  "cells": [
    {
      "cell_type": "markdown",
      "metadata": {
        "id": "view-in-github",
        "colab_type": "text"
      },
      "source": [
        "<a href=\"https://colab.research.google.com/github/YinhaoHe/Python-AI-teaching/blob/master/Getting_Started_DIY_1.ipynb\" target=\"_parent\"><img src=\"https://colab.research.google.com/assets/colab-badge.svg\" alt=\"Open In Colab\"/></a>"
      ]
    },
    {
      "cell_type": "code",
      "metadata": {
        "id": "-uiT9za8qnV0",
        "colab_type": "code",
        "colab": {
          "base_uri": "https://localhost:8080/",
          "height": 34
        },
        "outputId": "1ed354cd-c757-471d-f602-09f03e7781f8"
      },
      "source": [
        "print('Hello world')"
      ],
      "execution_count": null,
      "outputs": [
        {
          "output_type": "stream",
          "text": [
            "Hello world\n"
          ],
          "name": "stdout"
        }
      ]
    },
    {
      "cell_type": "code",
      "metadata": {
        "id": "By_mW2PLv4uR",
        "colab_type": "code",
        "colab": {
          "base_uri": "https://localhost:8080/",
          "height": 34
        },
        "outputId": "349b07e2-e2c1-4032-eed9-2a8eb250129a"
      },
      "source": [
        "print(\"my code\")"
      ],
      "execution_count": null,
      "outputs": [
        {
          "output_type": "stream",
          "text": [
            "my code\n"
          ],
          "name": "stdout"
        }
      ]
    },
    {
      "cell_type": "markdown",
      "metadata": {
        "id": "R-2jB9LHtwTh",
        "colab_type": "text"
      },
      "source": [
        "## Import Packages"
      ]
    },
    {
      "cell_type": "code",
      "metadata": {
        "id": "UNZ9U3K0qvDO",
        "colab_type": "code",
        "colab": {
          "base_uri": "https://localhost:8080/",
          "height": 34
        },
        "outputId": "6bb99b78-5ffb-4d86-9239-4d3366ce3f72"
      },
      "source": [
        "import numpy as np\n",
        "import tensorflow as tf\n",
        "import pandas as pd\n",
        "import keras as kr\n",
        "\n",
        "print(kr.__version__)\n"
      ],
      "execution_count": null,
      "outputs": [
        {
          "output_type": "stream",
          "text": [
            "2.2.4\n"
          ],
          "name": "stdout"
        }
      ]
    },
    {
      "cell_type": "markdown",
      "metadata": {
        "id": "NtPURxmBpgKu",
        "colab_type": "text"
      },
      "source": [
        "## Print"
      ]
    },
    {
      "cell_type": "code",
      "metadata": {
        "id": "koZFTBHqmMlX",
        "colab_type": "code",
        "colab": {
          "base_uri": "https://localhost:8080/"
        },
        "outputId": "63af7872-d6da-4210-f4c5-6db0f120c082"
      },
      "source": [
        "#basic python print\n",
        "print(\"This is Python Do it yourself Tutorials\");\n",
        "print(4+2);\n",
        "\n"
      ],
      "execution_count": null,
      "outputs": [
        {
          "output_type": "stream",
          "text": [
            "This is Python Do it yourself Tutorials\n",
            "6\n"
          ],
          "name": "stdout"
        }
      ]
    },
    {
      "cell_type": "markdown",
      "metadata": {
        "id": "VnsnVt3RpKzT",
        "colab_type": "text"
      },
      "source": [
        "## Variable Assignment\n"
      ]
    },
    {
      "cell_type": "code",
      "metadata": {
        "id": "Y5EttUmLmSbp",
        "colab_type": "code",
        "colab": {
          "base_uri": "https://localhost:8080/"
        },
        "outputId": "8ec07e5a-cb27-4b9d-c881-f9ea616d8779"
      },
      "source": [
        "#Variable assignment\n",
        "a=10;\n",
        "b=5.6767876;\n",
        "c=\"Pet and Play Python\";\n",
        "\n",
        "print(type(a));\n",
        "print(type(b));\n",
        "print(type(c));\n"
      ],
      "execution_count": null,
      "outputs": [
        {
          "output_type": "stream",
          "text": [
            "<class 'int'>\n",
            "<class 'float'>\n",
            "<class 'str'>\n"
          ],
          "name": "stdout"
        }
      ]
    },
    {
      "cell_type": "code",
      "metadata": {
        "id": "lglbuKEUnKRh",
        "colab_type": "code",
        "colab": {
          "base_uri": "https://localhost:8080/",
          "height": 119
        },
        "outputId": "62439e89-3922-4ae8-effc-2ac7e8abc50c"
      },
      "source": [
        "\n",
        "#Print Variable values\n",
        "print(\"b = %5.2f\" %b);\n",
        "print(\"a +100 \",a+100);\n",
        "print(\"a divided by 4 \", a/4);\n",
        "print(\"a divided by 4 - floor value \", a//4);\n",
        "print(\"Remainder  \", a%4);\n",
        "print(\"Power a raise to 2\", a**2);\n"
      ],
      "execution_count": null,
      "outputs": [
        {
          "output_type": "stream",
          "text": [
            "b =  5.68\n",
            "a +100  110\n",
            "a divided by 4  2.5\n",
            "a divided by 4 - floor value  2\n",
            "Remainder   2\n",
            "Power a raise to 2 100\n"
          ],
          "name": "stdout"
        }
      ]
    },
    {
      "cell_type": "code",
      "metadata": {
        "id": "6NGeHPH6nRaM",
        "colab_type": "code",
        "colab": {
          "base_uri": "https://localhost:8080/",
          "height": 136
        },
        "outputId": "fadb2ff3-3b65-482e-b635-79e5c9f9ccab"
      },
      "source": [
        "print(\"a = \",a)\n",
        "print(\"Logical operator > \", a>=5);\n",
        "print(\"Logical operator equal to \", a==5);\n",
        "\n",
        "print(\"Logical operator equal to \", a==10);\n",
        "print(\"Logical operator not equal to \", a!=5);\n",
        "print(\"Logical operator OR \", a==5 or a==10);\n",
        "\n",
        "a += 10;\n",
        "print(\"Addition \", a);\n"
      ],
      "execution_count": null,
      "outputs": [
        {
          "output_type": "stream",
          "text": [
            "a =  30\n",
            "Logical operator >  True\n",
            "Logical operator equal to  False\n",
            "Logical operator equal to  False\n",
            "Logical operator not equal to  True\n",
            "Logical operator OR  False\n",
            "Addition  40\n"
          ],
          "name": "stdout"
        }
      ]
    },
    {
      "cell_type": "markdown",
      "metadata": {
        "id": "OHeWS0S9pA4M",
        "colab_type": "text"
      },
      "source": [
        "##Strings"
      ]
    },
    {
      "cell_type": "code",
      "metadata": {
        "id": "GGpqZokSncGB",
        "colab_type": "code",
        "colab": {
          "base_uri": "https://localhost:8080/"
        },
        "outputId": "cccfecb7-88d2-44ec-ba51-feff7fa08c76"
      },
      "source": [
        "\n",
        "#Strings\n",
        "print(\"c = \",c);\n",
        "print(c[5:15]);\n",
        "print(c.upper());\n",
        "print(c.lower());\n",
        "print(c.split(\" \"));\n",
        "print(len(c));\n"
      ],
      "execution_count": null,
      "outputs": [
        {
          "output_type": "stream",
          "text": [
            "c =  Pet and Play Python\n",
            "nd Play Py\n",
            "PET AND PLAY PYTHON\n",
            "pet and play python\n",
            "['Pet', 'and', 'Play', 'Python']\n",
            "19\n"
          ],
          "name": "stdout"
        }
      ]
    },
    {
      "cell_type": "markdown",
      "metadata": {
        "id": "o9Xrv8zRo4mG",
        "colab_type": "text"
      },
      "source": [
        "##TUPLES"
      ]
    },
    {
      "cell_type": "code",
      "metadata": {
        "id": "SFft1rpwnh_u",
        "colab_type": "code",
        "colab": {
          "base_uri": "https://localhost:8080/"
        },
        "outputId": "3cb11f4c-4ca6-4969-977f-bb51de92d112"
      },
      "source": [
        "#tuples - ordered set of data, can hold mix datatypes, similar to a single row in a database, immutable - can't be modified\n",
        "rt=(10,\"Pet n play\",\"Python\",42000);\n",
        "print(\"rt = \",rt);\n",
        "print(\"rt[1] =\",rt[1]);\n",
        "print(\"rt[-1] = \",rt[-1]);\n",
        "print(\" rt[1:2] = \",rt[1:2]);\n",
        "print(\"rt[-1:]=\", rt[-1:]);\n",
        "print(\"rt[-4:-2] = \",rt[-4:-2]);\n"
      ],
      "execution_count": null,
      "outputs": [
        {
          "output_type": "stream",
          "text": [
            "rt =  (10, 'Pet n play', 'Python', 42000)\n",
            "rt[1] = Pet n play\n",
            "rt[-1] =  42000\n",
            " rt[1:2] =  ('Pet n play',)\n",
            "rt[-1:]= (42000,)\n",
            "rt[-4:-2] =  (10, 'Pet n play')\n"
          ],
          "name": "stdout"
        }
      ]
    },
    {
      "cell_type": "markdown",
      "metadata": {
        "id": "8IZKswRdotLQ",
        "colab_type": "text"
      },
      "source": [
        "## LIST"
      ]
    },
    {
      "cell_type": "code",
      "metadata": {
        "id": "duilV0EyoISW",
        "colab_type": "code",
        "colab": {
          "base_uri": "https://localhost:8080/"
        },
        "outputId": "8865e810-71c2-4fdd-a9b1-4c84877c9d5f"
      },
      "source": [
        "#lists - mutable sequence of elements places in []. Can be modified:\n",
        "list1 = [78,47,82,54];\n",
        "print(list1);\n",
        "list1.append(74);\n",
        "print(list1);\n",
        "list1.insert(3,45);\n",
        "print(list1);"
      ],
      "execution_count": null,
      "outputs": [
        {
          "output_type": "stream",
          "text": [
            "[78, 47, 82, 54]\n",
            "[78, 47, 82, 54, 74]\n",
            "[78, 47, 82, 45, 54, 74]\n"
          ],
          "name": "stdout"
        }
      ]
    },
    {
      "cell_type": "markdown",
      "metadata": {
        "id": "zkyprzzyodWR",
        "colab_type": "text"
      },
      "source": [
        "## IF - ELSE STATEMENT"
      ]
    },
    {
      "cell_type": "code",
      "metadata": {
        "id": "w4C6FMqKoRAu",
        "colab_type": "code",
        "colab": {
          "base_uri": "https://localhost:8080/"
        },
        "outputId": "70eb0a00-34f6-483d-baca-99338cb46df6"
      },
      "source": [
        "x = 1;\n",
        "\n",
        "print(\"BLOCK-1\")\n",
        "if x == 1:\n",
        "    print(\"Match\")\n",
        "else:\n",
        "    print(\"No Match\");\n",
        "\n",
        "print('---------------------------------------------')\n",
        "print(\"BLOCK-2\")\n",
        "\n",
        "userinput = int(input(\"Enter a value between 1 & 4: \"));\n",
        "if userinput == 1:\n",
        "    print(\"One\")\n",
        "    print(\"second statement for ONE\")\n",
        "elif userinput == 2:\n",
        "    print(\"Two\")\n",
        "elif userinput == 3:\n",
        "    print(\"Three\")\n",
        "elif userinput == 4:\n",
        "    print(\"Four\")\n",
        "else:\n",
        "    print(\"No Match\");"
      ],
      "execution_count": null,
      "outputs": [
        {
          "output_type": "stream",
          "text": [
            "BLOCK-1\n",
            "Match\n",
            "---------------------------------------------\n",
            "BLOCK-2\n",
            "Enter a value between 1 & 4: 1\n",
            "One\n",
            "second statement for ONE\n"
          ],
          "name": "stdout"
        }
      ]
    },
    {
      "cell_type": "markdown",
      "metadata": {
        "id": "ru81ekBTp2iq",
        "colab_type": "text"
      },
      "source": [
        "## FOR & WHILE DO LOOPS\n",
        "\n"
      ]
    },
    {
      "cell_type": "code",
      "metadata": {
        "id": "aW3QjYY8p1Za",
        "colab_type": "code",
        "colab": {
          "base_uri": "https://localhost:8080/"
        },
        "outputId": "e21a30ba-42cf-4cd5-fcae-02d4b1229cdb"
      },
      "source": [
        "#Basic For Loop\n",
        "a = 5;\n",
        "for i in range(a+1):\n",
        "    print(\"i is \", i);\n",
        "    print('this is i+1 ', i+1);\n",
        "\n",
        "print('---------------------------------------------')\n",
        "print('---------------------------------------------')\n",
        "\n",
        "#Range increments\n",
        "a = 5;\n",
        "for i in range(a,20,2):\n",
        "    print(\"i is \", i);\n",
        "\n",
        "print('---------------------------------------------')\n",
        "print('---------------------------------------------')\n",
        "\n",
        "\n",
        "\n",
        "#While Loop:\n",
        "i=2;\n",
        "while i < 5:\n",
        "    print(\"While loop value: \", i);\n",
        "    i += 1;"
      ],
      "execution_count": null,
      "outputs": [
        {
          "output_type": "stream",
          "text": [
            "i is  0\n",
            "this is i+1  1\n",
            "i is  1\n",
            "this is i+1  2\n",
            "i is  2\n",
            "this is i+1  3\n",
            "i is  3\n",
            "this is i+1  4\n",
            "i is  4\n",
            "this is i+1  5\n",
            "i is  5\n",
            "this is i+1  6\n",
            "---------------------------------------------\n",
            "---------------------------------------------\n",
            "i is  5\n",
            "i is  7\n",
            "i is  9\n",
            "i is  11\n",
            "i is  13\n",
            "i is  15\n",
            "i is  17\n",
            "i is  19\n",
            "---------------------------------------------\n",
            "---------------------------------------------\n",
            "While loop value:  2\n",
            "While loop value:  3\n",
            "While loop value:  4\n"
          ],
          "name": "stdout"
        }
      ]
    },
    {
      "cell_type": "markdown",
      "metadata": {
        "id": "KKu5wWUEqrGW",
        "colab_type": "text"
      },
      "source": [
        "## Data Frames\n"
      ]
    },
    {
      "cell_type": "code",
      "metadata": {
        "id": "MCSKeiRJqrc8",
        "colab_type": "code",
        "colab": {
          "base_uri": "https://localhost:8080/",
          "height": 629
        },
        "outputId": "87c05edc-fba5-4dd8-e317-12efc0ef1650"
      },
      "source": [
        "#os package\n",
        "import os;\n",
        "print(\"current working directory is \", os.getcwd());\n",
        "print(\"list of items: \", os.listdir());\n",
        "\n",
        "\n",
        "from google.colab import drive\n",
        "drive.mount('/gdrive')\n",
        "%cd /gdrive\n",
        "\n",
        "file = r'/gdrive/My Drive/Colab Notebooks/datafiles/Regression-AreaPrice.csv'\n",
        "my_df = pd.read_csv(file)\n",
        "\n",
        "print(my_df)\n",
        "\n"
      ],
      "execution_count": null,
      "outputs": [
        {
          "output_type": "stream",
          "text": [
            "current working directory is  /gdrive\n",
            "list of items:  ['My Drive', '.Trash']\n",
            "Drive already mounted at /gdrive; to attempt to forcibly remount, call drive.mount(\"/gdrive\", force_remount=True).\n",
            "/gdrive\n",
            "    Area   Price\n",
            "0    400   81374\n",
            "1    450   91349\n",
            "2    500  101324\n",
            "3    550  111299\n",
            "4    600  121274\n",
            "5    650  131249\n",
            "6    700  141224\n",
            "7    750  151199\n",
            "8    800  161174\n",
            "9    850  171149\n",
            "10   900  181124\n",
            "11   950  191099\n",
            "12  1000  201074\n",
            "13  1050  211049\n",
            "14  1100  221024\n",
            "15  1150  230999\n",
            "16  1200  240974\n",
            "17  1250  250949\n",
            "18  1300  260924\n",
            "19  1350  270899\n",
            "20  1400  280874\n",
            "21  1450  290849\n",
            "22  1500  300824\n",
            "23  1550  310799\n",
            "24  1600  320774\n",
            "25  1650  330749\n",
            "26  1700  340724\n",
            "27  1750  350699\n",
            "28  1800  360674\n",
            "29  1850  370649\n",
            "30  1900  380624\n"
          ],
          "name": "stdout"
        }
      ]
    },
    {
      "cell_type": "code",
      "metadata": {
        "id": "gh1DpVAwrkKT",
        "colab_type": "code",
        "colab": {
          "base_uri": "https://localhost:8080/",
          "height": 1000
        },
        "outputId": "cba058ce-d69f-4b55-e358-0c32fc127105"
      },
      "source": [
        "print(\"my_df.head(10): \",my_df.head(10));        #first 10 records of a dataframe in a dataframe\n",
        "print('---------------------------------------------')\n",
        "print('---------------------------------------------')\n",
        "\n",
        "print(\"my_df.tail(10): \",my_df.tail(10));        #last 10 records of a dataframe in a dataframe\n",
        "print('---------------------------------------------')\n",
        "print('---------------------------------------------')\n",
        "\n",
        "print(\"my_df.shape: \",my_df.shape);            #see number of rows & columns in a dataframe\n",
        "print('---------------------------------------------')\n",
        "print('---------------------------------------------')\n",
        "\n",
        "print(\"my_df.info: \",my_df.info);               #see the structure of the dataframe\n",
        "print('---------------------------------------------')\n",
        "print('---------------------------------------------')\n",
        "\n",
        "print(\"my_df.index: \",my_df.index);              #index of a dataframe\n",
        "print('---------------------------------------------')\n",
        "print('---------------------------------------------')\n",
        "\n",
        "print(\"my_df.columns: \",my_df.columns);              #index of a dataframe\n",
        "print('---------------------------------------------')\n",
        "print('---------------------------------------------')\n",
        "\n",
        "print(\"my_df.len: \",len(my_df));                #length of a dataframe in a dataframe\n",
        "print('---------------------------------------------')\n",
        "print('---------------------------------------------')\n",
        "\n",
        "print(\"my_df.describe: \",my_df.describe);          #describe a dataframe"
      ],
      "execution_count": null,
      "outputs": [
        {
          "output_type": "stream",
          "text": [
            "my_df.head(10):     Area   Price\n",
            "0   400   81374\n",
            "1   450   91349\n",
            "2   500  101324\n",
            "3   550  111299\n",
            "4   600  121274\n",
            "5   650  131249\n",
            "6   700  141224\n",
            "7   750  151199\n",
            "8   800  161174\n",
            "9   850  171149\n",
            "---------------------------------------------\n",
            "---------------------------------------------\n",
            "my_df.tail(10):      Area   Price\n",
            "21  1450  290849\n",
            "22  1500  300824\n",
            "23  1550  310799\n",
            "24  1600  320774\n",
            "25  1650  330749\n",
            "26  1700  340724\n",
            "27  1750  350699\n",
            "28  1800  360674\n",
            "29  1850  370649\n",
            "30  1900  380624\n",
            "---------------------------------------------\n",
            "---------------------------------------------\n",
            "my_df.shape:  (31, 2)\n",
            "---------------------------------------------\n",
            "---------------------------------------------\n",
            "my_df.info:  <bound method DataFrame.info of     Area   Price\n",
            "0    400   81374\n",
            "1    450   91349\n",
            "2    500  101324\n",
            "3    550  111299\n",
            "4    600  121274\n",
            "5    650  131249\n",
            "6    700  141224\n",
            "7    750  151199\n",
            "8    800  161174\n",
            "9    850  171149\n",
            "10   900  181124\n",
            "11   950  191099\n",
            "12  1000  201074\n",
            "13  1050  211049\n",
            "14  1100  221024\n",
            "15  1150  230999\n",
            "16  1200  240974\n",
            "17  1250  250949\n",
            "18  1300  260924\n",
            "19  1350  270899\n",
            "20  1400  280874\n",
            "21  1450  290849\n",
            "22  1500  300824\n",
            "23  1550  310799\n",
            "24  1600  320774\n",
            "25  1650  330749\n",
            "26  1700  340724\n",
            "27  1750  350699\n",
            "28  1800  360674\n",
            "29  1850  370649\n",
            "30  1900  380624>\n",
            "---------------------------------------------\n",
            "---------------------------------------------\n",
            "my_df.index:  RangeIndex(start=0, stop=31, step=1)\n",
            "---------------------------------------------\n",
            "---------------------------------------------\n",
            "my_df.columns:  Index(['Area', 'Price'], dtype='object')\n",
            "---------------------------------------------\n",
            "---------------------------------------------\n",
            "my_df.len:  31\n",
            "---------------------------------------------\n",
            "---------------------------------------------\n",
            "my_df.describe:  <bound method NDFrame.describe of     Area   Price\n",
            "0    400   81374\n",
            "1    450   91349\n",
            "2    500  101324\n",
            "3    550  111299\n",
            "4    600  121274\n",
            "5    650  131249\n",
            "6    700  141224\n",
            "7    750  151199\n",
            "8    800  161174\n",
            "9    850  171149\n",
            "10   900  181124\n",
            "11   950  191099\n",
            "12  1000  201074\n",
            "13  1050  211049\n",
            "14  1100  221024\n",
            "15  1150  230999\n",
            "16  1200  240974\n",
            "17  1250  250949\n",
            "18  1300  260924\n",
            "19  1350  270899\n",
            "20  1400  280874\n",
            "21  1450  290849\n",
            "22  1500  300824\n",
            "23  1550  310799\n",
            "24  1600  320774\n",
            "25  1650  330749\n",
            "26  1700  340724\n",
            "27  1750  350699\n",
            "28  1800  360674\n",
            "29  1850  370649\n",
            "30  1900  380624>\n"
          ],
          "name": "stdout"
        }
      ]
    },
    {
      "cell_type": "markdown",
      "metadata": {
        "id": "f8HqUkQ-tJSx",
        "colab_type": "text"
      },
      "source": [
        "## User Defined Functions\n"
      ]
    },
    {
      "cell_type": "code",
      "metadata": {
        "id": "pwsV9s33tNGT",
        "colab_type": "code",
        "colab": {
          "base_uri": "https://localhost:8080/",
          "height": 68
        },
        "outputId": "66750db3-ad7d-44f2-affb-2a319c22c78f"
      },
      "source": [
        "def mySqr(i):\n",
        "    sqrvalue = (i**2);\n",
        "    return sqrvalue;\n",
        "\n",
        "print(\"Square of 4: \", mySqr(4));\n",
        "\n",
        "print(\"Square of 5: \", mySqr(5));\n",
        "\n",
        "\n",
        "a=6;\n",
        "print(\"Square of 6: \", mySqr(a));\n",
        "\n",
        "\n"
      ],
      "execution_count": null,
      "outputs": [
        {
          "output_type": "stream",
          "text": [
            "Square of 4:  16\n",
            "Square of 5:  25\n",
            "Square of 6:  36\n"
          ],
          "name": "stdout"
        }
      ]
    }
  ]
}