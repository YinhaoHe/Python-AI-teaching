{
  "nbformat": 4,
  "nbformat_minor": 0,
  "metadata": {
    "colab": {
      "name": "W/O kmeans Image Classificaiton Solution",
      "provenance": [],
      "include_colab_link": true
    },
    "kernelspec": {
      "name": "python3",
      "display_name": "Python 3"
    }
  },
  "cells": [
    {
      "cell_type": "markdown",
      "metadata": {
        "id": "view-in-github",
        "colab_type": "text"
      },
      "source": [
        "<a href=\"https://colab.research.google.com/github/YinhaoHe/Python-AI-teaching/blob/master/W_O_kmeans_Image_Classificaiton_Solution.ipynb\" target=\"_parent\"><img src=\"https://colab.research.google.com/assets/colab-badge.svg\" alt=\"Open In Colab\"/></a>"
      ]
    },
    {
      "cell_type": "code",
      "metadata": {
        "id": "qzjicCWD9DX1",
        "colab_type": "code",
        "colab": {}
      },
      "source": [
        "from __future__ import absolute_import, division, print_function\n",
        "\n",
        "# TensorFlow and tf.keras\n",
        "import tensorflow as tf\n",
        "from tensorflow import keras\n",
        "\n",
        "# Helper libraries\n",
        "import numpy as np\n",
        "import matplotlib.pyplot as plt\n",
        "\n"
      ],
      "execution_count": null,
      "outputs": []
    },
    {
      "cell_type": "code",
      "metadata": {
        "id": "XFrYdNizB6Bq",
        "colab_type": "code",
        "colab": {
          "base_uri": "https://localhost:8080/",
          "height": 54
        },
        "outputId": "aa39161f-882b-475a-f574-59b25acf857a"
      },
      "source": [
        "#Download the dataset\n",
        "fashion_mnist = keras.datasets.fashion_mnist\n",
        "\n",
        "(x_train, y_train), (x_test, y_test) = tf.keras.datasets.mnist.load_data()\n"
      ],
      "execution_count": null,
      "outputs": [
        {
          "output_type": "stream",
          "text": [
            "Downloading data from https://storage.googleapis.com/tensorflow/tf-keras-datasets/mnist.npz\n",
            "11493376/11490434 [==============================] - 0s 0us/step\n"
          ],
          "name": "stdout"
        }
      ]
    },
    {
      "cell_type": "markdown",
      "metadata": {
        "id": "GSqHv-COCo29",
        "colab_type": "text"
      },
      "source": [
        "**Exploring the Data** <br>\n",
        "What is the in the dataset? <br>\n",
        "What do these values means?"
      ]
    },
    {
      "cell_type": "code",
      "metadata": {
        "id": "PuwgWTkCCDlv",
        "colab_type": "code",
        "colab": {
          "base_uri": "https://localhost:8080/",
          "height": 34
        },
        "outputId": "4229ae11-b119-47cc-fb43-deeb7e224350"
      },
      "source": [
        "x_train.shape"
      ],
      "execution_count": null,
      "outputs": [
        {
          "output_type": "execute_result",
          "data": {
            "text/plain": [
              "(60000, 28, 28)"
            ]
          },
          "metadata": {
            "tags": []
          },
          "execution_count": 4
        }
      ]
    },
    {
      "cell_type": "code",
      "metadata": {
        "id": "v9U8_EGpMdit",
        "colab_type": "code",
        "colab": {
          "base_uri": "https://localhost:8080/",
          "height": 34
        },
        "outputId": "a7c7df80-4da5-4883-8beb-4fdbebb869ce"
      },
      "source": [
        "y_train"
      ],
      "execution_count": null,
      "outputs": [
        {
          "output_type": "execute_result",
          "data": {
            "text/plain": [
              "array([5, 0, 4, ..., 5, 6, 8], dtype=uint8)"
            ]
          },
          "metadata": {
            "tags": []
          },
          "execution_count": 5
        }
      ]
    },
    {
      "cell_type": "code",
      "metadata": {
        "id": "tYvyl7V1MYw1",
        "colab_type": "code",
        "colab": {
          "base_uri": "https://localhost:8080/",
          "height": 269
        },
        "outputId": "aab711dc-f3ea-4838-c087-cc23cff503a3"
      },
      "source": [
        "plt.imshow(x_train[0])\n",
        "plt.colorbar()\n",
        "plt.grid(False)\n"
      ],
      "execution_count": null,
      "outputs": [
        {
          "output_type": "display_data",
          "data": {
            "image/png": "[encoded data removed]",
            "text/plain": [
              "<Figure size 432x288 with 2 Axes>"
            ]
          },
          "metadata": {
            "tags": []
          }
        }
      ]
    },
    {
      "cell_type": "markdown",
      "metadata": {
        "id": "OUzDZ_TMFHbM",
        "colab_type": "text"
      },
      "source": [
        "**Data Processing** <br>\n",
        "Scale all of the values to be in the range 0 to 1"
      ]
    },
    {
      "cell_type": "code",
      "metadata": {
        "id": "8Tfn_48VFI_6",
        "colab_type": "code",
        "colab": {}
      },
      "source": [
        "x_train = x_train / 255.0\n",
        "\n",
        "x_test = x_test / 255.0"
      ],
      "execution_count": null,
      "outputs": []
    },
    {
      "cell_type": "markdown",
      "metadata": {
        "id": "In5bSRpZGJuS",
        "colab_type": "text"
      },
      "source": [
        "**Build the Model**<br>\n",
        "use input_shape=(28,28), instead of input_dim for the first hidden layer\n",
        "\n"
      ]
    },
    {
      "cell_type": "code",
      "metadata": {
        "id": "g8zJoHqsGM7n",
        "colab_type": "code",
        "colab": {
          "base_uri": "https://localhost:8080/",
          "height": 105
        },
        "outputId": "73ea3bc7-919b-4c8c-b4fb-60bb26400966"
      },
      "source": [
        "model = keras.Sequential([\n",
        "    keras.layers.Flatten(input_shape=(28, 28)),\n",
        "    keras.layers.Dense(128, activation = \"relu\"),\n",
        "    keras.layers.Dense(10, activation=\"softmax\")\n",
        "])"
      ],
      "execution_count": null,
      "outputs": [
        {
          "output_type": "stream",
          "text": [
            "WARNING: Logging before flag parsing goes to stderr.\n",
            "W0621 18:33:25.608303 140638842509184 deprecation.py:506] From /usr/local/lib/python3.6/dist-packages/tensorflow/python/ops/init_ops.py:1251: calling VarianceScaling.__init__ (from tensorflow.python.ops.init_ops) with dtype is deprecated and will be removed in a future version.\n",
            "Instructions for updating:\n",
            "Call initializer instance with the dtype argument instead of passing it to the constructor\n"
          ],
          "name": "stderr"
        }
      ]
    },
    {
      "cell_type": "markdown",
      "metadata": {
        "id": "JLJSNpl9GSap",
        "colab_type": "text"
      },
      "source": [
        "**Compile the Model** <br>\n",
        "optimizer= 'adam'<br>\n",
        "loss='sparse_categorical_crossentropy'"
      ]
    },
    {
      "cell_type": "code",
      "metadata": {
        "id": "QwtBPB58GPzH",
        "colab_type": "code",
        "colab": {}
      },
      "source": [
        "model.compile(optimizer='adam', \n",
        "              loss='sparse_categorical_crossentropy',\n",
        "              metrics=['accuracy'])"
      ],
      "execution_count": null,
      "outputs": []
    },
    {
      "cell_type": "markdown",
      "metadata": {
        "id": "RHaag4NrGl5U",
        "colab_type": "text"
      },
      "source": [
        "**Train the Model**"
      ]
    },
    {
      "cell_type": "code",
      "metadata": {
        "id": "YAAYFRV3GlMT",
        "colab_type": "code",
        "colab": {
          "base_uri": "https://localhost:8080/",
          "height": 204
        },
        "outputId": "da930dfe-245c-45d7-ccd5-9e41c2931b16"
      },
      "source": [
        "model.fit(x_train, y_train, epochs=5)\n"
      ],
      "execution_count": null,
      "outputs": [
        {
          "output_type": "stream",
          "text": [
            "Epoch 1/5\n",
            "60000/60000 [==============================] - 5s 78us/sample - loss: 0.2625 - acc: 0.9244\n",
            "Epoch 2/5\n",
            "60000/60000 [==============================] - 4s 71us/sample - loss: 0.1176 - acc: 0.9655\n",
            "Epoch 3/5\n",
            "60000/60000 [==============================] - 4s 70us/sample - loss: 0.0799 - acc: 0.9755\n",
            "Epoch 4/5\n",
            "60000/60000 [==============================] - 4s 71us/sample - loss: 0.0607 - acc: 0.9813\n",
            "Epoch 5/5\n",
            "60000/60000 [==============================] - 4s 71us/sample - loss: 0.0470 - acc: 0.9852\n"
          ],
          "name": "stdout"
        },
        {
          "output_type": "execute_result",
          "data": {
            "text/plain": [
              "<tensorflow.python.keras.callbacks.History at 0x7fe8cd871a20>"
            ]
          },
          "metadata": {
            "tags": []
          },
          "execution_count": 10
        }
      ]
    },
    {
      "cell_type": "markdown",
      "metadata": {
        "id": "G2rAJREDHCaV",
        "colab_type": "text"
      },
      "source": [
        "**Evaluating Accuracy** <br>\n",
        "On the Test set"
      ]
    },
    {
      "cell_type": "code",
      "metadata": {
        "id": "Awwgxi45HMPy",
        "colab_type": "code",
        "colab": {
          "base_uri": "https://localhost:8080/",
          "height": 51
        },
        "outputId": "7db423a1-ec6a-43ce-b451-a519cecf0233"
      },
      "source": [
        "test_loss, test_acc = model.evaluate(x_test, y_test)\n",
        "\n",
        "print('Test accuracy:', test_acc)\n"
      ],
      "execution_count": null,
      "outputs": [
        {
          "output_type": "stream",
          "text": [
            "10000/10000 [==============================] - 0s 37us/sample - loss: 0.0867 - acc: 0.9727\n",
            "Test accuracy: 0.9727\n"
          ],
          "name": "stdout"
        }
      ]
    },
    {
      "cell_type": "markdown",
      "metadata": {
        "id": "zehZEtSNHUjA",
        "colab_type": "text"
      },
      "source": [
        "**Making Predictions**"
      ]
    },
    {
      "cell_type": "code",
      "metadata": {
        "id": "YSpgme5eI-wt",
        "colab_type": "code",
        "colab": {}
      },
      "source": [
        "def predict_img(images, labels,num):\n",
        "  img = images[num]\n",
        "  plt.imshow(img)\n",
        "  \n",
        "  img = (np.expand_dims(img,0))\n",
        "  prediction = model.predict(img)\n",
        "  \n",
        "  pred_label = np.argmax(prediction)\n",
        "  correct_label = labels[num]\n",
        "  print(\"Prediction: \" + str(pred_label))\n",
        "  print(\"Correct label: \" + str(correct_label))"
      ],
      "execution_count": null,
      "outputs": []
    },
    {
      "cell_type": "code",
      "metadata": {
        "id": "tecKU2shHgcK",
        "colab_type": "code",
        "colab": {
          "base_uri": "https://localhost:8080/",
          "height": 303
        },
        "outputId": "288995c3-1b5b-41cb-c4a8-927706eb2bec"
      },
      "source": [
        "predict_img(x_train,y_train,2341)"
      ],
      "execution_count": null,
      "outputs": [
        {
          "output_type": "stream",
          "text": [
            "Prediction: 4\n",
            "Correct label: 4\n"
          ],
          "name": "stdout"
        },
        {
          "output_type": "display_data",
          "data": {
            "image/png": "[encoded data removed]",
            "text/plain": [
              "<Figure size 432x288 with 1 Axes>"
            ]
          },
          "metadata": {
            "tags": []
          }
        }
      ]
    }
  ]
}