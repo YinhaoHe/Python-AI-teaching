{
  "nbformat": 4,
  "nbformat_minor": 0,
  "metadata": {
    "colab": {
      "name": "Iris Clustering",
      "provenance": [],
      "include_colab_link": true
    },
    "kernelspec": {
      "name": "python3",
      "display_name": "Python 3"
    }
  },
  "cells": [
    {
      "cell_type": "markdown",
      "metadata": {
        "id": "view-in-github",
        "colab_type": "text"
      },
      "source": [
        "<a href=\"https://colab.research.google.com/github/YinhaoHe/Python-AI-teaching/blob/master/Iris_Clustering.ipynb\" target=\"_parent\"><img src=\"https://colab.research.google.com/assets/colab-badge.svg\" alt=\"Open In Colab\"/></a>"
      ]
    },
    {
      "cell_type": "code",
      "metadata": {
        "id": "-1pNSUPwDmSw",
        "colab_type": "code",
        "colab": {}
      },
      "source": [
        "import pandas as pd\n",
        "import numpy as np\n",
        "import matplotlib.pyplot as plt\n",
        "\n",
        "df = pd.read_csv(\"https://archive.ics.uci.edu/ml/machine-learning-databases/iris/iris.data\")\n",
        "df.columns = [\"sepal length\", \"sepal width\",'petal length', 'pedal width', 'species']\n"
      ],
      "execution_count": null,
      "outputs": []
    },
    {
      "cell_type": "code",
      "metadata": {
        "colab_type": "code",
        "id": "vJIjMtsbHsVf",
        "colab": {}
      },
      "source": [
        "#Separate the species column.\n",
        "#Replace Iris-setosa with 0, versicolor with 1, and virginica with 2"
      ],
      "execution_count": null,
      "outputs": []
    },
    {
      "cell_type": "code",
      "metadata": {
        "id": "iig4pFLRFGRF",
        "colab_type": "code",
        "colab": {}
      },
      "source": [
        "#Run PCA with 2 components"
      ],
      "execution_count": null,
      "outputs": []
    },
    {
      "cell_type": "code",
      "metadata": {
        "id": "llscm3RvHigu",
        "colab_type": "code",
        "colab": {}
      },
      "source": [
        "#Do Kmeans\n",
        "#Find the best number of clusters, using silhouette score\n"
      ],
      "execution_count": null,
      "outputs": []
    },
    {
      "cell_type": "code",
      "metadata": {
        "id": "09wG2t60IIR8",
        "colab_type": "code",
        "colab": {}
      },
      "source": [
        "#Create predictions using your trained model\n",
        "#plot the results"
      ],
      "execution_count": null,
      "outputs": []
    },
    {
      "cell_type": "markdown",
      "metadata": {
        "id": "W3gGsb2KI65h",
        "colab_type": "text"
      },
      "source": [
        "***Plot the actual clusters***<br>\n",
        "how do your predictions compare?"
      ]
    },
    {
      "cell_type": "code",
      "metadata": {
        "id": "9-_hGK8NFPs8",
        "colab_type": "code",
        "colab": {}
      },
      "source": [
        "#use the species column to plot the actual labels"
      ],
      "execution_count": null,
      "outputs": []
    },
    {
      "cell_type": "markdown",
      "metadata": {
        "id": "zWlZz6GvIKlm",
        "colab_type": "text"
      },
      "source": [
        "***REDO THE PROBLEM WITH THE GAUSSIAN MIXTURE MODEL***<br>\n",
        "How do the results compare?"
      ]
    },
    {
      "cell_type": "code",
      "metadata": {
        "id": "PyeeLbcXIvS-",
        "colab_type": "code",
        "colab": {}
      },
      "source": [
        ""
      ],
      "execution_count": null,
      "outputs": []
    }
  ]
}