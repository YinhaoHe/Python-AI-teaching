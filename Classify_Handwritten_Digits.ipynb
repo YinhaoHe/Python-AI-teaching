{
  "nbformat": 4,
  "nbformat_minor": 0,
  "metadata": {
    "colab": {
      "name": "Classify Handwritten Digits.ipynb",
      "provenance": [],
      "authorship_tag": "ABX9TyMmlcS/zqPT6wUjzhq265cg",
      "include_colab_link": true
    },
    "kernelspec": {
      "name": "python3",
      "display_name": "Python 3"
    }
  },
  "cells": [
    {
      "cell_type": "markdown",
      "metadata": {
        "id": "view-in-github",
        "colab_type": "text"
      },
      "source": [
        "<a href=\"https://colab.research.google.com/github/YinhaoHe/Python-AI-teaching/blob/master/Classify_Handwritten_Digits.ipynb\" target=\"_parent\"><img src=\"https://colab.research.google.com/assets/colab-badge.svg\" alt=\"Open In Colab\"/></a>"
      ]
    },
    {
      "cell_type": "markdown",
      "metadata": {
        "id": "-FjNX3tBpLr3",
        "colab_type": "text"
      },
      "source": [
        "Classifying handwritten digits is the basic problem of the machine learning and can be solved in many ways here we will implement them by using TensorFlow"
      ]
    },
    {
      "cell_type": "markdown",
      "metadata": {
        "id": "UdPXKH5RpRPi",
        "colab_type": "text"
      },
      "source": [
        "**Using Deep learning with tf.keras**"
      ]
    },
    {
      "cell_type": "markdown",
      "metadata": {
        "id": "yIhktW7xpVkJ",
        "colab_type": "text"
      },
      "source": [
        "Deep learning is a subpart of machine learning and artificial intelligence which is also known as deep neural network this networks capable of learning unsupervised from provided data which is unorganized or unlabeled. today, we will implement a neural network in TensorFlow to classify handwritten digit."
      ]
    },
    {
      "cell_type": "markdown",
      "metadata": {
        "id": "XulniJEMpfl3",
        "colab_type": "text"
      },
      "source": [
        "**Step 1 :** Importing all dependence"
      ]
    },
    {
      "cell_type": "code",
      "metadata": {
        "id": "cO7CTsoHpieR",
        "colab_type": "code",
        "colab": {}
      },
      "source": [
        "import tensorflow as tf \n",
        "import numpy as np \n",
        "import matplotlib.pyplot as plt \n"
      ],
      "execution_count": 6,
      "outputs": []
    },
    {
      "cell_type": "markdown",
      "metadata": {
        "id": "lZWVjkZdptja",
        "colab_type": "text"
      },
      "source": [
        "**Step 2 :** Import data and normalize it"
      ]
    },
    {
      "cell_type": "code",
      "metadata": {
        "id": "waMsK4s0pyiN",
        "colab_type": "code",
        "colab": {
          "base_uri": "https://localhost:8080/",
          "height": 51
        },
        "outputId": "36abcd9f-19f3-4ace-fd18-9a2ad9c2bfc3"
      },
      "source": [
        "mnist = tf.keras.datasets.mnist \n",
        "(x_train,y_train) , (x_test,y_test) = mnist.load_data() \n",
        "\n",
        "x_train = tf.keras.utils.normalize(x_train,axis=1) \n",
        "x_test = tf.keras.utils.normalize(x_test,axis=1) \n"
      ],
      "execution_count": 7,
      "outputs": [
        {
          "output_type": "stream",
          "text": [
            "Downloading data from https://storage.googleapis.com/tensorflow/tf-keras-datasets/mnist.npz\n",
            "11493376/11490434 [==============================] - 0s 0us/step\n"
          ],
          "name": "stdout"
        }
      ]
    },
    {
      "cell_type": "markdown",
      "metadata": {
        "id": "zKUqpfysp5V1",
        "colab_type": "text"
      },
      "source": [
        "**Step 3 :** view data"
      ]
    },
    {
      "cell_type": "code",
      "metadata": {
        "id": "w2ZHq5lkp7M1",
        "colab_type": "code",
        "colab": {
          "base_uri": "https://localhost:8080/",
          "height": 265
        },
        "outputId": "a004722d-5be1-4dde-bbbb-8c860b837bac"
      },
      "source": [
        "def draw(n): \n",
        "\tplt.imshow(n,cmap=plt.cm.binary) \n",
        "\tplt.show() \n",
        "\t\n",
        "draw(x_train[0]) \n"
      ],
      "execution_count": 8,
      "outputs": [
        {
          "output_type": "display_data",
          "data": {
            "image/png": "[encoded data removed]",
            "text/plain": [
              "<Figure size 432x288 with 1 Axes>"
            ]
          },
          "metadata": {
            "tags": [],
            "needs_background": "light"
          }
        }
      ]
    },
    {
      "cell_type": "markdown",
      "metadata": {
        "id": "ldmGTGFvp9hx",
        "colab_type": "text"
      },
      "source": [
        "**Step 4 :** make a neural network and train it"
      ]
    },
    {
      "cell_type": "code",
      "metadata": {
        "id": "eRl6HSlPp_bZ",
        "colab_type": "code",
        "colab": {
          "base_uri": "https://localhost:8080/",
          "height": 136
        },
        "outputId": "c019051b-8d04-465b-fc68-7360605468df"
      },
      "source": [
        "#there are two types of models \n",
        "#sequential is most common, why? \n",
        "\n",
        "model = tf.keras.models.Sequential() \n",
        "\n",
        "model.add(tf.keras.layers.Flatten(input_shape=(28, 28))) \n",
        "#reshape \n",
        "\n",
        "model.add(tf.keras.layers.Dense(128,activation=tf.nn.relu)) \n",
        "model.add(tf.keras.layers.Dense(128,activation=tf.nn.relu)) \n",
        "model.add(tf.keras.layers.Dense(10,activation=tf.nn.softmax)) \n",
        "\n",
        "model.compile(optimizer='adam', \n",
        "\t\t\tloss='sparse_categorical_crossentropy', \n",
        "\t\t\tmetrics=['accuracy'] \n",
        "\t\t\t) \n",
        "model.fit(x_train,y_train,epochs=3) \n"
      ],
      "execution_count": 9,
      "outputs": [
        {
          "output_type": "stream",
          "text": [
            "Epoch 1/3\n",
            "1875/1875 [==============================] - 5s 2ms/step - loss: 0.2600 - accuracy: 0.9251\n",
            "Epoch 2/3\n",
            "1875/1875 [==============================] - 4s 2ms/step - loss: 0.1054 - accuracy: 0.9669\n",
            "Epoch 3/3\n",
            "1875/1875 [==============================] - 4s 2ms/step - loss: 0.0716 - accuracy: 0.9775\n"
          ],
          "name": "stdout"
        },
        {
          "output_type": "execute_result",
          "data": {
            "text/plain": [
              "<tensorflow.python.keras.callbacks.History at 0x7f8b8fde8be0>"
            ]
          },
          "metadata": {
            "tags": []
          },
          "execution_count": 9
        }
      ]
    },
    {
      "cell_type": "markdown",
      "metadata": {
        "id": "aQdevAs8qWJL",
        "colab_type": "text"
      },
      "source": [
        "**Step 5** : check model accuracy and loss"
      ]
    },
    {
      "cell_type": "code",
      "metadata": {
        "id": "NZvFmKaSqYBr",
        "colab_type": "code",
        "colab": {
          "base_uri": "https://localhost:8080/",
          "height": 68
        },
        "outputId": "1a170082-28f6-4d24-fa42-bbdb1d8842f2"
      },
      "source": [
        "val_loss,val_acc = model.evaluate(x_test,y_test) \n",
        "print(\"loss-> \",val_loss,\"\\nacc-> \",val_acc) \n"
      ],
      "execution_count": 10,
      "outputs": [
        {
          "output_type": "stream",
          "text": [
            "313/313 [==============================] - 0s 1ms/step - loss: 0.0889 - accuracy: 0.9706\n",
            "loss->  0.08893319964408875 \n",
            "acc->  0.9706000089645386\n"
          ],
          "name": "stdout"
        }
      ]
    },
    {
      "cell_type": "markdown",
      "metadata": {
        "id": "vWcw93TpvBzM",
        "colab_type": "text"
      },
      "source": [
        "**Step 6** ： prediction using model"
      ]
    },
    {
      "cell_type": "code",
      "metadata": {
        "id": "4Zau-2nOvED3",
        "colab_type": "code",
        "colab": {
          "base_uri": "https://localhost:8080/",
          "height": 299
        },
        "outputId": "8e647b35-62d0-4096-9f8e-4e7c4d8f716c"
      },
      "source": [
        "predictions=model.predict([x_test]) \n",
        "print('lable -> ',y_test[2]) \n",
        "print('prediction -> ',np.argmax(predictions[2])) \n",
        "\n",
        "draw(x_test[2]) \n"
      ],
      "execution_count": 11,
      "outputs": [
        {
          "output_type": "stream",
          "text": [
            "lable ->  1\n",
            "prediction ->  1\n"
          ],
          "name": "stdout"
        },
        {
          "output_type": "display_data",
          "data": {
            "image/png": "[encoded data removed]",
            "text/plain": [
              "<Figure size 432x288 with 1 Axes>"
            ]
          },
          "metadata": {
            "tags": [],
            "needs_background": "light"
          }
        }
      ]
    }
  ]
}